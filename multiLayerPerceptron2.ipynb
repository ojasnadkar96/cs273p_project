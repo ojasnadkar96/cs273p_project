{
  "nbformat": 4,
  "nbformat_minor": 0,
  "metadata": {
    "colab": {
      "name": "multiLayerPerceptron2.ipynb",
      "version": "0.3.2",
      "provenance": [],
      "collapsed_sections": [],
      "include_colab_link": true
    },
    "kernelspec": {
      "name": "python3",
      "display_name": "Python 3"
    }
  },
  "cells": [
    {
      "cell_type": "markdown",
      "metadata": {
        "id": "view-in-github",
        "colab_type": "text"
      },
      "source": [
        "<a href=\"https://colab.research.google.com/github/ojasnadkar96/cs273p_project/blob/master/multiLayerPerceptron2.ipynb\" target=\"_parent\"><img src=\"https://colab.research.google.com/assets/colab-badge.svg\" alt=\"Open In Colab\"/></a>"
      ]
    },
    {
      "cell_type": "markdown",
      "metadata": {
        "id": "Z2ey-4vjbrKt",
        "colab_type": "text"
      },
      "source": [
        "# Multi-layer Perceptron (PCA - 24 features)"
      ]
    },
    {
      "cell_type": "markdown",
      "metadata": {
        "id": "Fsff3tPactoZ",
        "colab_type": "text"
      },
      "source": [
        "Importing all the required libraries.<br>"
      ]
    },
    {
      "cell_type": "code",
      "metadata": {
        "id": "Hdc6YZOKh4dy",
        "colab_type": "code",
        "colab": {}
      },
      "source": [
        "import pickle\n",
        "import numpy as np\n",
        "import pandas as pd\n",
        "import matplotlib.pyplot as plt\n",
        "import seaborn as sb\n",
        "%matplotlib inline\n",
        "\n",
        "import numpy\n",
        "from sklearn.model_selection import GridSearchCV\n",
        "from keras.models import Sequential\n",
        "from keras.layers import Dense\n",
        "from keras.wrappers.scikit_learn import KerasClassifier"
      ],
      "execution_count": 0,
      "outputs": []
    },
    {
      "cell_type": "markdown",
      "metadata": {
        "id": "0rjJex05dUX4",
        "colab_type": "text"
      },
      "source": [
        "The two functions below are to save and import pickle files.<br>"
      ]
    },
    {
      "cell_type": "code",
      "metadata": {
        "id": "AUXEQKmeh5Vt",
        "colab_type": "code",
        "colab": {}
      },
      "source": [
        "def save_pkl(df,name):\n",
        "    fullname = name+'.pkl'\n",
        "    output = open(fullname, 'wb')\n",
        "    pickle.dump(df, output)\n",
        "    output.close()"
      ],
      "execution_count": 0,
      "outputs": []
    },
    {
      "cell_type": "code",
      "metadata": {
        "id": "K0slPPJvh8je",
        "colab_type": "code",
        "colab": {}
      },
      "source": [
        "def import_pkl(df,name):\n",
        "    fullname = name+'.pkl'\n",
        "    df = pickle.load(open(fullname, 'rb'))\n",
        "    return df"
      ],
      "execution_count": 0,
      "outputs": []
    },
    {
      "cell_type": "code",
      "metadata": {
        "id": "QQwZ6BqRh-7Y",
        "colab_type": "code",
        "colab": {}
      },
      "source": [
        "df_train = pd.DataFrame()\n",
        "df_valid = pd.DataFrame()\n",
        "df_test = pd.DataFrame()\n",
        "df_train_l = pd.DataFrame()\n",
        "df_valid_l = pd.DataFrame()\n",
        "df_test_l = pd.DataFrame()"
      ],
      "execution_count": 0,
      "outputs": []
    },
    {
      "cell_type": "code",
      "metadata": {
        "id": "mRwp4lTtiBLo",
        "colab_type": "code",
        "colab": {}
      },
      "source": [
        "df_train = import_pkl(df_train,'train_x')\n",
        "df_valid = import_pkl(df_valid,'valid_x')\n",
        "df_test = import_pkl(df_test,'test_x')\n",
        "df_train_l = import_pkl(df_train_l,'train_x_l')\n",
        "df_valid_l = import_pkl(df_valid_l,'valid_x_l')\n",
        "df_test_l = import_pkl(df_test_l,'test_x_l')"
      ],
      "execution_count": 0,
      "outputs": []
    },
    {
      "cell_type": "code",
      "metadata": {
        "id": "sc3Ld8WXqd_M",
        "colab_type": "code",
        "outputId": "e8830f61-0e8a-4676-93b7-f83fc83642d2",
        "colab": {
          "base_uri": "https://localhost:8080/",
          "height": 124
        }
      },
      "source": [
        "print(df_train.shape)\n",
        "print(df_valid.shape)\n",
        "print(df_test.shape)\n",
        "print(df_train_l.shape)\n",
        "print(df_valid_l.shape)\n",
        "print(df_test_l.shape)"
      ],
      "execution_count": 76,
      "outputs": [
        {
          "output_type": "stream",
          "text": [
            "(77854, 168)\n",
            "(13737, 168)\n",
            "(10175, 168)\n",
            "(77854, 1)\n",
            "(13737, 1)\n",
            "(10175, 1)\n"
          ],
          "name": "stdout"
        }
      ]
    },
    {
      "cell_type": "markdown",
      "metadata": {
        "id": "2rEQmxx9dbaB",
        "colab_type": "text"
      },
      "source": [
        "Pre-processed data with a total of 168 features has been imported into dataframes.<br>\n",
        "We will apply PCA on these datasets to reduce the dimensionality of this data.<br>"
      ]
    },
    {
      "cell_type": "code",
      "metadata": {
        "id": "JNo3jd6uuXOL",
        "colab_type": "code",
        "colab": {}
      },
      "source": [
        "from sklearn.decomposition import PCA\n",
        "dims = []\n",
        "variances = []\n",
        "optimum_dim = 168\n",
        "threshold=0.01\n",
        "for dim in range(1, 168):\n",
        "    pca = PCA(n_components=dim)\n",
        "    pca.fit(df_train)\n",
        "    variance = np.array(pca.explained_variance_ratio_)\n",
        "    variance = variance.min()\n",
        "    if threshold < variance:\n",
        "        optimum_dim = dim\n",
        "        dims.append(dim)\n",
        "        variances.append(variance)\n",
        "    else:\n",
        "        break"
      ],
      "execution_count": 0,
      "outputs": []
    },
    {
      "cell_type": "code",
      "metadata": {
        "id": "rYPrsT8sudm0",
        "colab_type": "code",
        "colab": {
          "base_uri": "https://localhost:8080/",
          "height": 287
        },
        "outputId": "38a6967e-4dd4-4b29-d125-9b1fa68d238a"
      },
      "source": [
        "print(optimum_dim)\n",
        "import matplotlib.pyplot as plt\n",
        "plt.plot(dims, variances)\n",
        "plt.show()"
      ],
      "execution_count": 78,
      "outputs": [
        {
          "output_type": "stream",
          "text": [
            "24\n"
          ],
          "name": "stdout"
        },
        {
          "output_type": "display_data",
          "data": {
            "image/png": "[encoded data removed]",
            "text/plain": [
              "<Figure size 432x288 with 1 Axes>"
            ]
          },
          "metadata": {
            "tags": []
          }
        }
      ]
    },
    {
      "cell_type": "markdown",
      "metadata": {
        "id": "flhVA0-5dk48",
        "colab_type": "text"
      },
      "source": [
        "Optimal value for PCA is 24 features, as we can see in the graph above.<br>"
      ]
    },
    {
      "cell_type": "code",
      "metadata": {
        "id": "GqXuvQ9buevI",
        "colab_type": "code",
        "colab": {
          "base_uri": "https://localhost:8080/",
          "height": 88
        },
        "outputId": "7534cdaa-0e11-4d5a-a263-5b54258d39e8"
      },
      "source": [
        "pca = PCA(n_components=24)\n",
        "pca_train = pca.fit_transform(df_train)\n",
        "print(pca.explained_variance_ratio_)"
      ],
      "execution_count": 79,
      "outputs": [
        {
          "output_type": "stream",
          "text": [
            "[0.02895799 0.02233207 0.01973592 0.01650457 0.01473513 0.01347959\n",
            " 0.01341078 0.01308768 0.01292678 0.01249606 0.01235684 0.01218551\n",
            " 0.01218051 0.01213256 0.01208663 0.01204374 0.01199178 0.01195113\n",
            " 0.01188193 0.01177171 0.01159093 0.01151983 0.01088789 0.01072156]\n"
          ],
          "name": "stdout"
        }
      ]
    },
    {
      "cell_type": "markdown",
      "metadata": {
        "id": "GkCrGQfrdqIH",
        "colab_type": "text"
      },
      "source": [
        "We have now reduced the train dataset into 24 features using PCA."
      ]
    },
    {
      "cell_type": "markdown",
      "metadata": {
        "id": "wvJQe468ePHo",
        "colab_type": "text"
      },
      "source": [
        "The input is set to 24 as there are 24 features in the reduced dataset.<br>\n",
        "We initialize a random model with 3 hidden layers of size 256, 512 and 256 respectively.<br>\n",
        "The epochs are set to 25 and the batch size is set to 100.<br>\n",
        "We will test the accuracy on train and validation for this model.<br>"
      ]
    },
    {
      "cell_type": "code",
      "metadata": {
        "id": "ZrNGXMIa8vVr",
        "colab_type": "code",
        "outputId": "4d7b7a7b-3048-4e8a-d920-4c145c1956fd",
        "colab": {
          "base_uri": "https://localhost:8080/",
          "height": 928
        }
      },
      "source": [
        "test_model = Sequential()\n",
        "test_model.add(Dense(24, input_dim=24, activation='relu'))\n",
        "test_model.add(Dense(256, activation='relu'))\n",
        "test_model.add(Dense(512, activation='relu'))\n",
        "test_model.add(Dense(256, activation='relu'))\n",
        "test_model.add(Dense(1, activation='sigmoid'))\n",
        "test_model.compile(loss='binary_crossentropy', optimizer='adam', metrics=['accuracy'])\n",
        "test_model.fit(pca_train, df_train_l, epochs=25, batch_size=100)"
      ],
      "execution_count": 80,
      "outputs": [
        {
          "output_type": "stream",
          "text": [
            "Epoch 1/25\n",
            "77854/77854 [==============================] - 8s 104us/step - loss: 0.6430 - acc: 0.4553\n",
            "Epoch 2/25\n",
            "77854/77854 [==============================] - 7s 86us/step - loss: 0.6126 - acc: 0.4652\n",
            "Epoch 3/25\n",
            "77854/77854 [==============================] - 7s 84us/step - loss: 0.5990 - acc: 0.4793\n",
            "Epoch 4/25\n",
            "77854/77854 [==============================] - 6s 81us/step - loss: 0.5914 - acc: 0.4832\n",
            "Epoch 5/25\n",
            "77854/77854 [==============================] - 7s 84us/step - loss: 0.5861 - acc: 0.4856\n",
            "Epoch 6/25\n",
            "77854/77854 [==============================] - 6s 82us/step - loss: 0.5816 - acc: 0.4904\n",
            "Epoch 7/25\n",
            "77854/77854 [==============================] - 6s 82us/step - loss: 0.5771 - acc: 0.4927\n",
            "Epoch 8/25\n",
            "77854/77854 [==============================] - 6s 83us/step - loss: 0.5708 - acc: 0.4947\n",
            "Epoch 9/25\n",
            "77854/77854 [==============================] - 7s 85us/step - loss: 0.5631 - acc: 0.4975\n",
            "Epoch 10/25\n",
            "77854/77854 [==============================] - 7s 84us/step - loss: 0.5592 - acc: 0.4938\n",
            "Epoch 11/25\n",
            "77854/77854 [==============================] - 6s 83us/step - loss: 0.5540 - acc: 0.4987\n",
            "Epoch 12/25\n",
            "77854/77854 [==============================] - 7s 84us/step - loss: 0.5497 - acc: 0.5004\n",
            "Epoch 13/25\n",
            "77854/77854 [==============================] - 6s 82us/step - loss: 0.5491 - acc: 0.5021\n",
            "Epoch 14/25\n",
            "77854/77854 [==============================] - 7s 85us/step - loss: 0.5438 - acc: 0.5018\n",
            "Epoch 15/25\n",
            "77854/77854 [==============================] - 6s 81us/step - loss: 0.5357 - acc: 0.5042\n",
            "Epoch 16/25\n",
            "77854/77854 [==============================] - 7s 85us/step - loss: 0.5342 - acc: 0.5055\n",
            "Epoch 17/25\n",
            "77854/77854 [==============================] - 7s 85us/step - loss: 0.5296 - acc: 0.5062\n",
            "Epoch 18/25\n",
            "77854/77854 [==============================] - 6s 82us/step - loss: 0.5353 - acc: 0.5085\n",
            "Epoch 19/25\n",
            "77854/77854 [==============================] - 6s 83us/step - loss: 0.5169 - acc: 0.5096\n",
            "Epoch 20/25\n",
            "77854/77854 [==============================] - 7s 84us/step - loss: 0.5156 - acc: 0.5110\n",
            "Epoch 21/25\n",
            "77854/77854 [==============================] - 6s 79us/step - loss: 0.5148 - acc: 0.5091\n",
            "Epoch 22/25\n",
            "77854/77854 [==============================] - 6s 79us/step - loss: 0.5162 - acc: 0.5116\n",
            "Epoch 23/25\n",
            "77854/77854 [==============================] - 6s 76us/step - loss: 0.5049 - acc: 0.5117\n",
            "Epoch 24/25\n",
            "77854/77854 [==============================] - 6s 79us/step - loss: 0.4977 - acc: 0.5122\n",
            "Epoch 25/25\n",
            "77854/77854 [==============================] - 6s 80us/step - loss: 0.4922 - acc: 0.5142\n"
          ],
          "name": "stdout"
        },
        {
          "output_type": "execute_result",
          "data": {
            "text/plain": [
              "<keras.callbacks.History at 0x7efe722eb978>"
            ]
          },
          "metadata": {
            "tags": []
          },
          "execution_count": 80
        }
      ]
    },
    {
      "cell_type": "code",
      "metadata": {
        "id": "HiGR3eUQ9o7B",
        "colab_type": "code",
        "outputId": "7ae46cd0-876b-43a7-98b5-6a7b4de06362",
        "colab": {
          "base_uri": "https://localhost:8080/",
          "height": 53
        }
      },
      "source": [
        "score_train = test_model.evaluate(pca_train,df_train_l)\n",
        "print(\"score: \", score_train[1]*100)"
      ],
      "execution_count": 81,
      "outputs": [
        {
          "output_type": "stream",
          "text": [
            "77854/77854 [==============================] - 4s 57us/step\n",
            "score:  50.65764122695619\n"
          ],
          "name": "stdout"
        }
      ]
    },
    {
      "cell_type": "code",
      "metadata": {
        "id": "-9V8t5Uy-AGB",
        "colab_type": "code",
        "outputId": "3f76731a-a2dc-41ca-8efc-19017a02b7a8",
        "colab": {
          "base_uri": "https://localhost:8080/",
          "height": 53
        }
      },
      "source": [
        "pca_valid = pca.transform(df_valid)\n",
        "score_valid = test_model.evaluate(pca_valid,df_valid_l)\n",
        "print(\"score: \", score_valid[1]*100)"
      ],
      "execution_count": 82,
      "outputs": [
        {
          "output_type": "stream",
          "text": [
            "13737/13737 [==============================] - 1s 55us/step\n",
            "score:  47.50673363907695\n"
          ],
          "name": "stdout"
        }
      ]
    },
    {
      "cell_type": "code",
      "metadata": {
        "id": "ff72rRkB-ArJ",
        "colab_type": "code",
        "outputId": "2c8b2ae8-16ef-4663-bf57-bdef12882347",
        "colab": {
          "base_uri": "https://localhost:8080/",
          "height": 53
        }
      },
      "source": [
        "pca_test = pca.transform(df_test)\n",
        "score_test = test_model.evaluate(pca_test,df_test_l)\n",
        "print(\"score: \", score_test[1]*100)"
      ],
      "execution_count": 83,
      "outputs": [
        {
          "output_type": "stream",
          "text": [
            "10175/10175 [==============================] - 1s 52us/step\n",
            "score:  48.10810810810811\n"
          ],
          "name": "stdout"
        }
      ]
    },
    {
      "cell_type": "markdown",
      "metadata": {
        "id": "vH194g4IeZZM",
        "colab_type": "text"
      },
      "source": [
        "The train, validation and test accuracy is: 50%, 47.5% and 48.1% respectively.<br>\n",
        "Let us see if we can increase this accuracy by tuning the parameters.<br>"
      ]
    },
    {
      "cell_type": "markdown",
      "metadata": {
        "id": "PTKT2DSbelkp",
        "colab_type": "text"
      },
      "source": [
        "### Optimizer\n",
        "\n",
        "We will tune the optimizer.<br>\n",
        "We have options between `adam` and `SGD`<br>\n",
        "We will use GridSearchCV on top of Keras to tune the parameter.<br>\n",
        "The epochs and batchsize is kept the same as for above model.<br>"
      ]
    },
    {
      "cell_type": "code",
      "metadata": {
        "id": "URDYOmIIw1SX",
        "colab_type": "code",
        "colab": {}
      },
      "source": [
        "def nn_model_1(optimizer='adam'):\n",
        "  model_1 = Sequential()\n",
        "  model_1.add(Dense(24, input_dim=24, activation='relu'))\n",
        "  model_1.add(Dense(256, activation='relu'))\n",
        "  model_1.add(Dense(512, activation='relu'))\n",
        "  model_1.add(Dense(256, activation='relu'))\n",
        "  model_1.add(Dense(1, activation='sigmoid'))\n",
        "  model_1.compile(loss='binary_crossentropy', optimizer=optimizer, metrics=['accuracy'])\n",
        "  return model_1"
      ],
      "execution_count": 0,
      "outputs": []
    },
    {
      "cell_type": "code",
      "metadata": {
        "id": "-9YiTsah0tUr",
        "colab_type": "code",
        "colab": {}
      },
      "source": [
        "model_1 = KerasClassifier(build_fn=nn_model_1, epochs=25, batch_size=100, verbose=1)"
      ],
      "execution_count": 0,
      "outputs": []
    },
    {
      "cell_type": "code",
      "metadata": {
        "id": "VrzeIqccDeB6",
        "colab_type": "code",
        "colab": {}
      },
      "source": [
        "optimizer = ['SGD', 'Adam']\n",
        "param_grid_1 = dict(optimizer=optimizer)"
      ],
      "execution_count": 0,
      "outputs": []
    },
    {
      "cell_type": "code",
      "metadata": {
        "id": "3qFrvgHhDqIy",
        "colab_type": "code",
        "outputId": "92c6800a-0e9d-491b-f1eb-140304a4486c",
        "colab": {
          "base_uri": "https://localhost:8080/",
          "height": 1000
        }
      },
      "source": [
        "grid_2 = GridSearchCV(estimator=model_1, param_grid=param_grid_1, n_jobs=4, verbose=1, cv=2)\n",
        "grid_2.fit(pca_train,df_train_l)\n",
        "grid_2.best_params_"
      ],
      "execution_count": 47,
      "outputs": [
        {
          "output_type": "stream",
          "text": [
            "Fitting 2 folds for each of 2 candidates, totalling 4 fits\n"
          ],
          "name": "stdout"
        },
        {
          "output_type": "stream",
          "text": [
            "[Parallel(n_jobs=4)]: Using backend LokyBackend with 4 concurrent workers.\n",
            "[Parallel(n_jobs=4)]: Done   2 out of   4 | elapsed:  3.0min remaining:  3.0min\n",
            "[Parallel(n_jobs=4)]: Done   4 out of   4 | elapsed:  3.3min finished\n"
          ],
          "name": "stderr"
        },
        {
          "output_type": "stream",
          "text": [
            "Epoch 1/25\n",
            "77854/77854 [==============================] - 7s 86us/step - loss: 0.6509 - acc: 0.4522\n",
            "Epoch 2/25\n",
            "77854/77854 [==============================] - 6s 74us/step - loss: 0.6163 - acc: 0.4781\n",
            "Epoch 3/25\n",
            "77854/77854 [==============================] - 6s 75us/step - loss: 0.5985 - acc: 0.4868\n",
            "Epoch 4/25\n",
            "77854/77854 [==============================] - 6s 74us/step - loss: 0.5823 - acc: 0.4934\n",
            "Epoch 5/25\n",
            "77854/77854 [==============================] - 6s 75us/step - loss: 0.5788 - acc: 0.4952\n",
            "Epoch 6/25\n",
            "77854/77854 [==============================] - 6s 72us/step - loss: 0.5769 - acc: 0.4981\n",
            "Epoch 7/25\n",
            "77854/77854 [==============================] - 6s 73us/step - loss: 0.5700 - acc: 0.4975\n",
            "Epoch 8/25\n",
            "77854/77854 [==============================] - 6s 71us/step - loss: 0.5601 - acc: 0.4995\n",
            "Epoch 9/25\n",
            "77854/77854 [==============================] - 5s 70us/step - loss: 0.5602 - acc: 0.4987\n",
            "Epoch 10/25\n",
            "77854/77854 [==============================] - 6s 76us/step - loss: 0.5505 - acc: 0.5020\n",
            "Epoch 11/25\n",
            "77854/77854 [==============================] - 6s 74us/step - loss: 0.5448 - acc: 0.5026\n",
            "Epoch 12/25\n",
            "77854/77854 [==============================] - 6s 75us/step - loss: 0.5452 - acc: 0.5034\n",
            "Epoch 13/25\n",
            "77854/77854 [==============================] - 6s 73us/step - loss: 0.5383 - acc: 0.5040\n",
            "Epoch 14/25\n",
            "77854/77854 [==============================] - 6s 75us/step - loss: 0.5387 - acc: 0.5026\n",
            "Epoch 15/25\n",
            "77854/77854 [==============================] - 6s 74us/step - loss: 0.5292 - acc: 0.5057\n",
            "Epoch 16/25\n",
            "77854/77854 [==============================] - 6s 75us/step - loss: 0.5284 - acc: 0.5064\n",
            "Epoch 17/25\n",
            "77854/77854 [==============================] - 6s 76us/step - loss: 0.5238 - acc: 0.5080\n",
            "Epoch 18/25\n",
            "77854/77854 [==============================] - 6s 72us/step - loss: 0.5139 - acc: 0.5084\n",
            "Epoch 19/25\n",
            "77854/77854 [==============================] - 6s 71us/step - loss: 0.5189 - acc: 0.5095\n",
            "Epoch 20/25\n",
            "77854/77854 [==============================] - 6s 73us/step - loss: 0.5141 - acc: 0.5105\n",
            "Epoch 21/25\n",
            "77854/77854 [==============================] - 6s 74us/step - loss: 0.5009 - acc: 0.5120\n",
            "Epoch 22/25\n",
            "77854/77854 [==============================] - 6s 72us/step - loss: 0.5037 - acc: 0.5093\n",
            "Epoch 23/25\n",
            "77854/77854 [==============================] - 6s 74us/step - loss: 0.5001 - acc: 0.5103\n",
            "Epoch 24/25\n",
            "77854/77854 [==============================] - 6s 75us/step - loss: 0.4961 - acc: 0.5131\n",
            "Epoch 25/25\n",
            "77854/77854 [==============================] - 6s 74us/step - loss: 0.4811 - acc: 0.5130\n"
          ],
          "name": "stdout"
        },
        {
          "output_type": "execute_result",
          "data": {
            "text/plain": [
              "{'optimizer': 'Adam'}"
            ]
          },
          "metadata": {
            "tags": []
          },
          "execution_count": 47
        }
      ]
    },
    {
      "cell_type": "markdown",
      "metadata": {
        "id": "K4xYxfnteqoP",
        "colab_type": "text"
      },
      "source": [
        "Optimal optmizer is `Adam`<br>\n",
        "We'll use this from now on.<br>"
      ]
    },
    {
      "cell_type": "markdown",
      "metadata": {
        "id": "t-ED41U6etYk",
        "colab_type": "text"
      },
      "source": [
        "### Initialization\n",
        "\n",
        "We will tune the Initialization.<br>\n",
        "We have options between `uniform` and `normal`<br>\n",
        "We will use GridSearchCV on top of Keras to tune the parameter.<br>\n",
        "The epochs and batchsize is kept the same as for above model.<br>"
      ]
    },
    {
      "cell_type": "code",
      "metadata": {
        "id": "0g16wzF1Fxfi",
        "colab_type": "code",
        "colab": {}
      },
      "source": [
        "def nn_model_2(init_mode='uniform'):\n",
        "  model_2 = Sequential()\n",
        "  model_2.add(Dense(24, input_dim=24, kernel_initializer=init_mode, activation='relu'))\n",
        "  model_2.add(Dense(256, kernel_initializer=init_mode, activation='relu'))\n",
        "  model_2.add(Dense(512, kernel_initializer=init_mode, activation='relu'))\n",
        "  model_2.add(Dense(256, kernel_initializer=init_mode, activation='relu'))\n",
        "  model_2.add(Dense(1, kernel_initializer=init_mode, activation='sigmoid'))\n",
        "  model_2.compile(loss='binary_crossentropy', optimizer='Adam', metrics=['accuracy'])\n",
        "  return model_2"
      ],
      "execution_count": 0,
      "outputs": []
    },
    {
      "cell_type": "code",
      "metadata": {
        "id": "WpQkBGzrJEZM",
        "colab_type": "code",
        "colab": {}
      },
      "source": [
        "model_2 = KerasClassifier(build_fn=nn_model_2, epochs=25, batch_size=100, verbose=1)"
      ],
      "execution_count": 0,
      "outputs": []
    },
    {
      "cell_type": "code",
      "metadata": {
        "id": "hDngWEbfJH-R",
        "colab_type": "code",
        "colab": {}
      },
      "source": [
        "init_mode = ['uniform','normal']\n",
        "param_grid_2 = dict(init_mode=init_mode)"
      ],
      "execution_count": 0,
      "outputs": []
    },
    {
      "cell_type": "code",
      "metadata": {
        "id": "pSZ4HIt1JeAX",
        "colab_type": "code",
        "outputId": "c27184c6-f955-4388-c5a2-2b67ccb1b1fe",
        "colab": {
          "base_uri": "https://localhost:8080/",
          "height": 1000
        }
      },
      "source": [
        "grid_2 = GridSearchCV(estimator=model_2, param_grid=param_grid_2, n_jobs=4, verbose=1, cv=2)\n",
        "grid_2.fit(pca_train,df_train_l)\n",
        "grid_2.best_params_"
      ],
      "execution_count": 51,
      "outputs": [
        {
          "output_type": "stream",
          "text": [
            "Fitting 2 folds for each of 2 candidates, totalling 4 fits\n"
          ],
          "name": "stdout"
        },
        {
          "output_type": "stream",
          "text": [
            "[Parallel(n_jobs=4)]: Using backend LokyBackend with 4 concurrent workers.\n",
            "[Parallel(n_jobs=4)]: Done   2 out of   4 | elapsed:  3.9min remaining:  3.9min\n",
            "[Parallel(n_jobs=4)]: Done   4 out of   4 | elapsed:  3.9min finished\n"
          ],
          "name": "stderr"
        },
        {
          "output_type": "stream",
          "text": [
            "Epoch 1/25\n",
            "77854/77854 [==============================] - 6s 81us/step - loss: 0.6468 - acc: 0.4592\n",
            "Epoch 2/25\n",
            "77854/77854 [==============================] - 6s 71us/step - loss: 0.6189 - acc: 0.4847\n",
            "Epoch 3/25\n",
            "77854/77854 [==============================] - 6s 71us/step - loss: 0.6096 - acc: 0.4881\n",
            "Epoch 4/25\n",
            "77854/77854 [==============================] - 6s 71us/step - loss: 0.5987 - acc: 0.4890\n",
            "Epoch 5/25\n",
            "77854/77854 [==============================] - 5s 70us/step - loss: 0.6170 - acc: 0.4912\n",
            "Epoch 6/25\n",
            "77854/77854 [==============================] - 5s 70us/step - loss: 0.6134 - acc: 0.4910\n",
            "Epoch 7/25\n",
            "77854/77854 [==============================] - 5s 70us/step - loss: 0.5874 - acc: 0.4926\n",
            "Epoch 8/25\n",
            "77854/77854 [==============================] - 6s 73us/step - loss: 0.5901 - acc: 0.4934\n",
            "Epoch 9/25\n",
            "77854/77854 [==============================] - 6s 71us/step - loss: 0.5791 - acc: 0.4931\n",
            "Epoch 10/25\n",
            "77854/77854 [==============================] - 6s 72us/step - loss: 0.5809 - acc: 0.4960\n",
            "Epoch 11/25\n",
            "77854/77854 [==============================] - 6s 71us/step - loss: 0.5880 - acc: 0.4956\n",
            "Epoch 12/25\n",
            "77854/77854 [==============================] - 5s 70us/step - loss: 0.5850 - acc: 0.4973\n",
            "Epoch 13/25\n",
            "77854/77854 [==============================] - 5s 71us/step - loss: 0.5791 - acc: 0.4974\n",
            "Epoch 14/25\n",
            "77854/77854 [==============================] - 5s 69us/step - loss: 0.5717 - acc: 0.4999\n",
            "Epoch 15/25\n",
            "77854/77854 [==============================] - 5s 69us/step - loss: 0.5689 - acc: 0.4983\n",
            "Epoch 16/25\n",
            "77854/77854 [==============================] - 5s 69us/step - loss: 0.5685 - acc: 0.5027\n",
            "Epoch 17/25\n",
            "77854/77854 [==============================] - 6s 71us/step - loss: 0.5651 - acc: 0.5006\n",
            "Epoch 18/25\n",
            "77854/77854 [==============================] - 6s 72us/step - loss: 0.5625 - acc: 0.5005\n",
            "Epoch 19/25\n",
            "77854/77854 [==============================] - 6s 78us/step - loss: 0.5654 - acc: 0.5026\n",
            "Epoch 20/25\n",
            "77854/77854 [==============================] - 6s 71us/step - loss: 0.5719 - acc: 0.5006\n",
            "Epoch 21/25\n",
            "77854/77854 [==============================] - 6s 72us/step - loss: 0.5642 - acc: 0.5054\n",
            "Epoch 22/25\n",
            "77854/77854 [==============================] - 6s 72us/step - loss: 0.5566 - acc: 0.5040\n",
            "Epoch 23/25\n",
            "77854/77854 [==============================] - 6s 71us/step - loss: 0.5571 - acc: 0.5013\n",
            "Epoch 24/25\n",
            "77854/77854 [==============================] - 5s 70us/step - loss: 0.5594 - acc: 0.5016\n",
            "Epoch 25/25\n",
            "77854/77854 [==============================] - 5s 70us/step - loss: 0.5576 - acc: 0.5056\n"
          ],
          "name": "stdout"
        },
        {
          "output_type": "execute_result",
          "data": {
            "text/plain": [
              "{'init_mode': 'uniform'}"
            ]
          },
          "metadata": {
            "tags": []
          },
          "execution_count": 51
        }
      ]
    },
    {
      "cell_type": "markdown",
      "metadata": {
        "id": "ou4gXoQRe2b9",
        "colab_type": "text"
      },
      "source": [
        "Optimal Initialization is `uniform`<br>\n",
        "We'll use this from now on.<br>"
      ]
    },
    {
      "cell_type": "markdown",
      "metadata": {
        "id": "6HyhhhPFe3rQ",
        "colab_type": "text"
      },
      "source": [
        "### Activation Function\n",
        "\n",
        "We will tune the Activation Function.<br>\n",
        "We have options between `relu` and `softmax`<br>\n",
        "We will use GridSearchCV on top of Keras to tune the parameter.<br>\n",
        "The epochs and batchsize is kept the same as for above model.<br>"
      ]
    },
    {
      "cell_type": "code",
      "metadata": {
        "id": "IdKzsWpBLFUv",
        "colab_type": "code",
        "colab": {}
      },
      "source": [
        "def nn_model_3(activation='relu'):\n",
        "  model_3 = Sequential()\n",
        "  model_3.add(Dense(24, input_dim=24, kernel_initializer='uniform', activation=activation))\n",
        "  model_3.add(Dense(256, kernel_initializer='uniform', activation=activation))\n",
        "  model_3.add(Dense(512, kernel_initializer='uniform', activation=activation))\n",
        "  model_3.add(Dense(256, kernel_initializer='uniform', activation=activation))\n",
        "  model_3.add(Dense(1, kernel_initializer='uniform', activation='sigmoid'))\n",
        "  model_3.compile(loss='binary_crossentropy', optimizer='Adam', metrics=['accuracy'])\n",
        "  return model_3"
      ],
      "execution_count": 0,
      "outputs": []
    },
    {
      "cell_type": "code",
      "metadata": {
        "id": "tCsoiMaGLdQK",
        "colab_type": "code",
        "colab": {}
      },
      "source": [
        "model_3 = KerasClassifier(build_fn=nn_model_3, epochs=25, batch_size=100, verbose=1)"
      ],
      "execution_count": 0,
      "outputs": []
    },
    {
      "cell_type": "code",
      "metadata": {
        "id": "NgD73X7jLlqE",
        "colab_type": "code",
        "colab": {}
      },
      "source": [
        "activation = ['softmax','relu']\n",
        "param_grid_3 = dict(activation=activation)"
      ],
      "execution_count": 0,
      "outputs": []
    },
    {
      "cell_type": "code",
      "metadata": {
        "id": "DD6oBO16LwP7",
        "colab_type": "code",
        "outputId": "26a26c78-e0e1-42ce-9aa4-95a6d4658389",
        "colab": {
          "base_uri": "https://localhost:8080/",
          "height": 1000
        }
      },
      "source": [
        "grid_3 = GridSearchCV(estimator=model_3, param_grid=param_grid_3, n_jobs=4, verbose=1, cv=2)\n",
        "grid_3.fit(pca_train,df_train_l)\n",
        "grid_3.best_params_"
      ],
      "execution_count": 55,
      "outputs": [
        {
          "output_type": "stream",
          "text": [
            "Fitting 2 folds for each of 2 candidates, totalling 4 fits\n"
          ],
          "name": "stdout"
        },
        {
          "output_type": "stream",
          "text": [
            "[Parallel(n_jobs=4)]: Using backend LokyBackend with 4 concurrent workers.\n",
            "[Parallel(n_jobs=4)]: Done   2 out of   4 | elapsed:  3.9min remaining:  3.9min\n",
            "[Parallel(n_jobs=4)]: Done   4 out of   4 | elapsed:  4.1min finished\n"
          ],
          "name": "stderr"
        },
        {
          "output_type": "stream",
          "text": [
            "Epoch 1/25\n",
            "77854/77854 [==============================] - 8s 105us/step - loss: 0.6468 - acc: 0.4515\n",
            "Epoch 2/25\n",
            "77854/77854 [==============================] - 7s 86us/step - loss: 0.6112 - acc: 0.4852\n",
            "Epoch 3/25\n",
            "77854/77854 [==============================] - 7s 92us/step - loss: 0.5914 - acc: 0.4937\n",
            "Epoch 4/25\n",
            "77854/77854 [==============================] - 7s 94us/step - loss: 0.5852 - acc: 0.4933\n",
            "Epoch 5/25\n",
            "77854/77854 [==============================] - 7s 89us/step - loss: 0.5801 - acc: 0.4949\n",
            "Epoch 6/25\n",
            "77854/77854 [==============================] - 7s 88us/step - loss: 0.5777 - acc: 0.4938\n",
            "Epoch 7/25\n",
            "77854/77854 [==============================] - 7s 93us/step - loss: 0.5749 - acc: 0.4961\n",
            "Epoch 8/25\n",
            "77854/77854 [==============================] - 7s 90us/step - loss: 0.5733 - acc: 0.4974\n",
            "Epoch 9/25\n",
            "77854/77854 [==============================] - 6s 72us/step - loss: 0.5881 - acc: 0.4952\n",
            "Epoch 10/25\n",
            "77854/77854 [==============================] - 6s 72us/step - loss: 0.5659 - acc: 0.4981\n",
            "Epoch 11/25\n",
            "77854/77854 [==============================] - 6s 78us/step - loss: 0.5659 - acc: 0.5011\n",
            "Epoch 12/25\n",
            "77854/77854 [==============================] - 7s 91us/step - loss: 0.5627 - acc: 0.4973\n",
            "Epoch 13/25\n",
            "77854/77854 [==============================] - 7s 84us/step - loss: 0.5526 - acc: 0.5030\n",
            "Epoch 14/25\n",
            "77854/77854 [==============================] - 6s 73us/step - loss: 0.5557 - acc: 0.5007\n",
            "Epoch 15/25\n",
            "77854/77854 [==============================] - 7s 91us/step - loss: 0.5529 - acc: 0.5019\n",
            "Epoch 16/25\n",
            "77854/77854 [==============================] - 7s 93us/step - loss: 0.5528 - acc: 0.5006\n",
            "Epoch 17/25\n",
            "77854/77854 [==============================] - 7s 87us/step - loss: 0.5499 - acc: 0.5015\n",
            "Epoch 18/25\n",
            "77854/77854 [==============================] - 6s 76us/step - loss: 0.5461 - acc: 0.5062\n",
            "Epoch 19/25\n",
            "77854/77854 [==============================] - 6s 78us/step - loss: 0.5455 - acc: 0.5040\n",
            "Epoch 20/25\n",
            "77854/77854 [==============================] - 7s 87us/step - loss: 0.5471 - acc: 0.5031\n",
            "Epoch 21/25\n",
            "77854/77854 [==============================] - 6s 77us/step - loss: 0.5458 - acc: 0.5043\n",
            "Epoch 22/25\n",
            "77854/77854 [==============================] - 6s 74us/step - loss: 0.5395 - acc: 0.5052\n",
            "Epoch 23/25\n",
            "77854/77854 [==============================] - 7s 87us/step - loss: 0.5374 - acc: 0.5037\n",
            "Epoch 24/25\n",
            "77854/77854 [==============================] - 7s 84us/step - loss: 0.5447 - acc: 0.4995\n",
            "Epoch 25/25\n",
            "77854/77854 [==============================] - 6s 83us/step - loss: 0.5368 - acc: 0.5030\n"
          ],
          "name": "stdout"
        },
        {
          "output_type": "execute_result",
          "data": {
            "text/plain": [
              "{'activation': 'relu'}"
            ]
          },
          "metadata": {
            "tags": []
          },
          "execution_count": 55
        }
      ]
    },
    {
      "cell_type": "markdown",
      "metadata": {
        "id": "y6ZWyStsfA-H",
        "colab_type": "text"
      },
      "source": [
        "Optimal Activation Function is `relu`<br>\n",
        "We'll use this from now on.<br>"
      ]
    },
    {
      "cell_type": "markdown",
      "metadata": {
        "id": "Jzd9D78RfEpd",
        "colab_type": "text"
      },
      "source": [
        "### Final Model 1\n",
        "\n",
        "We will use the tuned parameters and check accuracy.<br>"
      ]
    },
    {
      "cell_type": "code",
      "metadata": {
        "id": "b_UaHofzSt4z",
        "colab_type": "code",
        "outputId": "a9119dea-f50d-4747-817d-5b955c95ee93",
        "colab": {
          "base_uri": "https://localhost:8080/",
          "height": 928
        }
      },
      "source": [
        "model_final1 = Sequential()\n",
        "model_final1.add(Dense(24, input_dim=24, kernel_initializer='uniform', activation='relu'))\n",
        "model_final1.add(Dense(256, kernel_initializer='uniform', activation='relu'))\n",
        "model_final1.add(Dense(512, kernel_initializer='uniform', activation='relu'))\n",
        "model_final1.add(Dense(256, kernel_initializer='uniform', activation='relu'))\n",
        "model_final1.add(Dense(1, kernel_initializer='uniform', activation='sigmoid'))\n",
        "model_final1.compile(loss='binary_crossentropy', optimizer='Adam', metrics=['accuracy'])\n",
        "model_final1.fit(pca_train,df_train_l,epochs=25, batch_size=100, verbose=1)"
      ],
      "execution_count": 57,
      "outputs": [
        {
          "output_type": "stream",
          "text": [
            "Epoch 1/25\n",
            "77854/77854 [==============================] - 9s 118us/step - loss: 0.6470 - acc: 0.4551\n",
            "Epoch 2/25\n",
            "77854/77854 [==============================] - 8s 98us/step - loss: 0.6143 - acc: 0.4850\n",
            "Epoch 3/25\n",
            "77854/77854 [==============================] - 8s 98us/step - loss: 0.6018 - acc: 0.4912\n",
            "Epoch 4/25\n",
            "77854/77854 [==============================] - 7s 93us/step - loss: 0.5926 - acc: 0.4920\n",
            "Epoch 5/25\n",
            "77854/77854 [==============================] - 7s 92us/step - loss: 0.5818 - acc: 0.4958\n",
            "Epoch 6/25\n",
            "77854/77854 [==============================] - 7s 84us/step - loss: 0.5767 - acc: 0.4970\n",
            "Epoch 7/25\n",
            "77854/77854 [==============================] - 6s 74us/step - loss: 0.5755 - acc: 0.4961\n",
            "Epoch 8/25\n",
            "77854/77854 [==============================] - 6s 74us/step - loss: 0.5667 - acc: 0.4979\n",
            "Epoch 9/25\n",
            "77854/77854 [==============================] - 6s 74us/step - loss: 0.5741 - acc: 0.4972\n",
            "Epoch 10/25\n",
            "77854/77854 [==============================] - 7s 86us/step - loss: 0.5707 - acc: 0.4969\n",
            "Epoch 11/25\n",
            "77854/77854 [==============================] - 6s 81us/step - loss: 0.5713 - acc: 0.5008\n",
            "Epoch 12/25\n",
            "77854/77854 [==============================] - 6s 81us/step - loss: 0.5612 - acc: 0.4988\n",
            "Epoch 13/25\n",
            "77854/77854 [==============================] - 6s 72us/step - loss: 0.5681 - acc: 0.5004\n",
            "Epoch 14/25\n",
            "77854/77854 [==============================] - 6s 80us/step - loss: 0.5560 - acc: 0.5007\n",
            "Epoch 15/25\n",
            "77854/77854 [==============================] - 7s 85us/step - loss: 0.5637 - acc: 0.4998\n",
            "Epoch 16/25\n",
            "77854/77854 [==============================] - 6s 73us/step - loss: 0.5564 - acc: 0.5023\n",
            "Epoch 17/25\n",
            "77854/77854 [==============================] - 6s 75us/step - loss: 0.5522 - acc: 0.5011\n",
            "Epoch 18/25\n",
            "77854/77854 [==============================] - 6s 77us/step - loss: 0.5486 - acc: 0.5044\n",
            "Epoch 19/25\n",
            "77854/77854 [==============================] - 6s 80us/step - loss: 0.5504 - acc: 0.4995\n",
            "Epoch 20/25\n",
            "77854/77854 [==============================] - 6s 80us/step - loss: 0.5482 - acc: 0.5010\n",
            "Epoch 21/25\n",
            "77854/77854 [==============================] - 6s 79us/step - loss: 0.5467 - acc: 0.5021\n",
            "Epoch 22/25\n",
            "77854/77854 [==============================] - 6s 80us/step - loss: 0.5556 - acc: 0.5004\n",
            "Epoch 23/25\n",
            "77854/77854 [==============================] - 6s 72us/step - loss: 0.5411 - acc: 0.5021\n",
            "Epoch 24/25\n",
            "77854/77854 [==============================] - 6s 75us/step - loss: 0.5373 - acc: 0.5019\n",
            "Epoch 25/25\n",
            "77854/77854 [==============================] - 7s 89us/step - loss: 0.5437 - acc: 0.5025\n"
          ],
          "name": "stdout"
        },
        {
          "output_type": "execute_result",
          "data": {
            "text/plain": [
              "<keras.callbacks.History at 0x7efe7328dcc0>"
            ]
          },
          "metadata": {
            "tags": []
          },
          "execution_count": 57
        }
      ]
    },
    {
      "cell_type": "code",
      "metadata": {
        "id": "pmBdCk6NW5Rz",
        "colab_type": "code",
        "outputId": "552c6476-2d0a-4084-a4a2-01a384b10d9d",
        "colab": {
          "base_uri": "https://localhost:8080/",
          "height": 53
        }
      },
      "source": [
        "score_train_f1 = model_final1.evaluate(pca_train,df_train_l)\n",
        "print(\"score: \", score_train_f1[1]*100)"
      ],
      "execution_count": 59,
      "outputs": [
        {
          "output_type": "stream",
          "text": [
            "77854/77854 [==============================] - 5s 59us/step\n",
            "score:  52.02815526498318\n"
          ],
          "name": "stdout"
        }
      ]
    },
    {
      "cell_type": "code",
      "metadata": {
        "id": "GWFPqDYnkdpP",
        "colab_type": "code",
        "outputId": "bc2eb84e-eb7f-43b0-d8bf-4b38ced6f1fe",
        "colab": {
          "base_uri": "https://localhost:8080/",
          "height": 53
        }
      },
      "source": [
        "score_valid_f1 = model_final1.evaluate(pca_valid,df_valid_l)\n",
        "print(\"score: \", score_valid_f1[1]*100)"
      ],
      "execution_count": 60,
      "outputs": [
        {
          "output_type": "stream",
          "text": [
            "13737/13737 [==============================] - 1s 59us/step\n",
            "score:  49.836208779209436\n"
          ],
          "name": "stdout"
        }
      ]
    },
    {
      "cell_type": "code",
      "metadata": {
        "id": "_vLuUiQzkkWj",
        "colab_type": "code",
        "outputId": "aa7745cc-28e4-4284-ca18-fde746180acc",
        "colab": {
          "base_uri": "https://localhost:8080/",
          "height": 53
        }
      },
      "source": [
        "score_test_f1 = model_final1.evaluate(pca_test,df_test_l)\n",
        "print(\"score: \", score_test_f1[1]*100)"
      ],
      "execution_count": 62,
      "outputs": [
        {
          "output_type": "stream",
          "text": [
            "10175/10175 [==============================] - 1s 63us/step\n",
            "score:  49.307125307125304\n"
          ],
          "name": "stdout"
        }
      ]
    },
    {
      "cell_type": "markdown",
      "metadata": {
        "id": "4Ux5ILmdfQHj",
        "colab_type": "text"
      },
      "source": [
        "The train, validation and test accuracy is: 52%, 49.8% and 49.3% respectively.<br>\n",
        "This is not a good accuracy as it is almost like the random model we selected.<br>\n",
        "Now, we will use the same hyperparameters which we used for the 168 feature dataset<br>"
      ]
    },
    {
      "cell_type": "markdown",
      "metadata": {
        "id": "WHGHvFSnft3f",
        "colab_type": "text"
      },
      "source": [
        "### Final Model 2\n",
        "\n",
        "We will use the tuned parameters from 168 parameter model and check accuracy.<br>"
      ]
    },
    {
      "cell_type": "code",
      "metadata": {
        "id": "mj3VkS_fo1Y9",
        "colab_type": "code",
        "colab": {
          "base_uri": "https://localhost:8080/",
          "height": 928
        },
        "outputId": "a3139868-7959-4901-d9e1-e2d6727bab5c"
      },
      "source": [
        "model_final2 = Sequential()\n",
        "model_final2.add(Dense(24, input_dim=24, kernel_initializer='uniform', activation='relu'))\n",
        "model_final2.add(Dense(256, kernel_initializer='uniform', activation='relu'))\n",
        "model_final2.add(Dense(512, kernel_initializer='uniform', activation='relu'))\n",
        "model_final2.add(Dense(256, kernel_initializer='uniform', activation='relu'))\n",
        "model_final2.add(Dense(1, kernel_initializer='uniform', activation='sigmoid'))\n",
        "model_final2.compile(loss='binary_crossentropy', optimizer='SGD', metrics=['accuracy'])\n",
        "model_final2.fit(pca_train,df_train_l,epochs=25, batch_size=100, verbose=1)"
      ],
      "execution_count": 84,
      "outputs": [
        {
          "output_type": "stream",
          "text": [
            "Epoch 1/25\n",
            "77854/77854 [==============================] - 6s 81us/step - loss: 0.6851 - acc: 0.3501\n",
            "Epoch 2/25\n",
            "77854/77854 [==============================] - 5s 64us/step - loss: 0.6826 - acc: 0.3493\n",
            "Epoch 3/25\n",
            "77854/77854 [==============================] - 5s 64us/step - loss: 0.6825 - acc: 0.3493\n",
            "Epoch 4/25\n",
            "77854/77854 [==============================] - 5s 64us/step - loss: 0.6824 - acc: 0.3493\n",
            "Epoch 5/25\n",
            "77854/77854 [==============================] - 5s 63us/step - loss: 0.6824 - acc: 0.3493\n",
            "Epoch 6/25\n",
            "77854/77854 [==============================] - 5s 62us/step - loss: 0.6823 - acc: 0.3493\n",
            "Epoch 7/25\n",
            "77854/77854 [==============================] - 5s 63us/step - loss: 0.6822 - acc: 0.3493\n",
            "Epoch 8/25\n",
            "77854/77854 [==============================] - 5s 62us/step - loss: 0.6820 - acc: 0.3493\n",
            "Epoch 9/25\n",
            "77854/77854 [==============================] - 5s 59us/step - loss: 0.6818 - acc: 0.3493\n",
            "Epoch 10/25\n",
            "77854/77854 [==============================] - 5s 63us/step - loss: 0.6814 - acc: 0.3493\n",
            "Epoch 11/25\n",
            "77854/77854 [==============================] - 5s 63us/step - loss: 0.6809 - acc: 0.3493\n",
            "Epoch 12/25\n",
            "77854/77854 [==============================] - 5s 62us/step - loss: 0.6800 - acc: 0.3493\n",
            "Epoch 13/25\n",
            "77854/77854 [==============================] - 5s 63us/step - loss: 0.6785 - acc: 0.3493\n",
            "Epoch 14/25\n",
            "77854/77854 [==============================] - 5s 61us/step - loss: 0.6756 - acc: 0.3493\n",
            "Epoch 15/25\n",
            "77854/77854 [==============================] - 5s 61us/step - loss: 0.6704 - acc: 0.3493\n",
            "Epoch 16/25\n",
            "77854/77854 [==============================] - 5s 62us/step - loss: 0.6626 - acc: 0.3932\n",
            "Epoch 17/25\n",
            "77854/77854 [==============================] - 5s 62us/step - loss: 0.6554 - acc: 0.4462\n",
            "Epoch 18/25\n",
            "77854/77854 [==============================] - 5s 61us/step - loss: 0.6514 - acc: 0.4553\n",
            "Epoch 19/25\n",
            "77854/77854 [==============================] - 5s 61us/step - loss: 0.6487 - acc: 0.4585\n",
            "Epoch 20/25\n",
            "77854/77854 [==============================] - 5s 61us/step - loss: 0.6464 - acc: 0.4565\n",
            "Epoch 21/25\n",
            "77854/77854 [==============================] - 5s 59us/step - loss: 0.6440 - acc: 0.4582\n",
            "Epoch 22/25\n",
            "77854/77854 [==============================] - 5s 60us/step - loss: 0.6412 - acc: 0.4614\n",
            "Epoch 23/25\n",
            "77854/77854 [==============================] - 5s 61us/step - loss: 0.6384 - acc: 0.4666\n",
            "Epoch 24/25\n",
            "77854/77854 [==============================] - 5s 61us/step - loss: 0.6354 - acc: 0.4699\n",
            "Epoch 25/25\n",
            "77854/77854 [==============================] - 5s 61us/step - loss: 0.6327 - acc: 0.4738\n"
          ],
          "name": "stdout"
        },
        {
          "output_type": "execute_result",
          "data": {
            "text/plain": [
              "<keras.callbacks.History at 0x7efe71d6c710>"
            ]
          },
          "metadata": {
            "tags": []
          },
          "execution_count": 84
        }
      ]
    },
    {
      "cell_type": "code",
      "metadata": {
        "id": "IWEsh2IU5Lo1",
        "colab_type": "code",
        "colab": {
          "base_uri": "https://localhost:8080/",
          "height": 53
        },
        "outputId": "eebc405c-c1b2-450e-e1af-0a9dfb0f6fe3"
      },
      "source": [
        "score_train_f2 = model_final2.evaluate(pca_train,df_train_l)\n",
        "print(\"score: \", score_train_f2[1]*100)"
      ],
      "execution_count": 85,
      "outputs": [
        {
          "output_type": "stream",
          "text": [
            "77854/77854 [==============================] - 4s 57us/step\n",
            "score:  46.72592288129062\n"
          ],
          "name": "stdout"
        }
      ]
    },
    {
      "cell_type": "code",
      "metadata": {
        "id": "PvsbH-qc5WZV",
        "colab_type": "code",
        "colab": {
          "base_uri": "https://localhost:8080/",
          "height": 53
        },
        "outputId": "f2f7b32c-5632-4fc7-8bb9-f4528e8a4ae4"
      },
      "source": [
        "score_valid_f2 = model_final2.evaluate(pca_valid,df_valid_l)\n",
        "print(\"score: \", score_valid_f2[1]*100)"
      ],
      "execution_count": 86,
      "outputs": [
        {
          "output_type": "stream",
          "text": [
            "13737/13737 [==============================] - 1s 55us/step\n",
            "score:  45.73050884472592\n"
          ],
          "name": "stdout"
        }
      ]
    },
    {
      "cell_type": "code",
      "metadata": {
        "id": "e_KNOecG5jEV",
        "colab_type": "code",
        "colab": {
          "base_uri": "https://localhost:8080/",
          "height": 53
        },
        "outputId": "7176707d-e98b-41e9-c995-6c6e431582cf"
      },
      "source": [
        "score_test_f2 = model_final2.evaluate(pca_test,df_test_l)\n",
        "print(\"score: \", score_test_f2[1]*100)"
      ],
      "execution_count": 87,
      "outputs": [
        {
          "output_type": "stream",
          "text": [
            "10175/10175 [==============================] - 1s 52us/step\n",
            "score:  46.77149877149877\n"
          ],
          "name": "stdout"
        }
      ]
    },
    {
      "cell_type": "markdown",
      "metadata": {
        "id": "nzrYGEf4iKcz",
        "colab_type": "text"
      },
      "source": [
        "The train, validation and test accuracy is: 46.7%, 45.7% and 46.7% respectively.<br>\n",
        "This model is not overfitting much, but the accuracies are low.<br>\n",
        "We will proceed with Final Model 1 as the final model.<br>"
      ]
    },
    {
      "cell_type": "code",
      "metadata": {
        "id": "3YdWLGm05_Cm",
        "colab_type": "code",
        "colab": {
          "base_uri": "https://localhost:8080/",
          "height": 281
        },
        "outputId": "9114a6a8-71c3-4d2e-d5b8-b6d882642aac"
      },
      "source": [
        "scores = [score_train_f1[1]*100,score_valid_f1[1]*100,score_test_f1[1]*100]\n",
        "labels = ['train','validation','test']\n",
        "plt.title(\"Accuracy for MLP (PCA)\")\n",
        "plt.plot(labels, scores, marker='o', color = \"r\", label = \"Final model scores\")\n",
        "plt.show()"
      ],
      "execution_count": 88,
      "outputs": [
        {
          "output_type": "display_data",
          "data": {
            "image/png": "[encoded data removed]",
            "text/plain": [
              "<Figure size 432x288 with 1 Axes>"
            ]
          },
          "metadata": {
            "tags": []
          }
        }
      ]
    },
    {
      "cell_type": "markdown",
      "metadata": {
        "id": "E535oQRiiwMV",
        "colab_type": "text"
      },
      "source": [
        "Above is the graph for training, validation and test accuracy for the best model (Final Model 1)<br>"
      ]
    }
  ]
}