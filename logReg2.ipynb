{
  "nbformat": 4,
  "nbformat_minor": 0,
  "metadata": {
    "colab": {
      "name": "logReg2.ipynb",
      "version": "0.3.2",
      "provenance": [],
      "include_colab_link": true
    },
    "kernelspec": {
      "name": "python3",
      "display_name": "Python 3"
    }
  },
  "cells": [
    {
      "cell_type": "markdown",
      "metadata": {
        "id": "view-in-github",
        "colab_type": "text"
      },
      "source": [
        "<a href=\"https://colab.research.google.com/github/ojasnadkar96/cs273p_project/blob/master/logReg2.ipynb\" target=\"_parent\"><img src=\"https://colab.research.google.com/assets/colab-badge.svg\" alt=\"Open In Colab\"/></a>"
      ]
    },
    {
      "cell_type": "markdown",
      "metadata": {
        "id": "9aaiIozjiJsA",
        "colab_type": "text"
      },
      "source": [
        "# **Logistic Regression (PCA)**"
      ]
    },
    {
      "cell_type": "markdown",
      "metadata": {
        "id": "YRPPJfK1l9_G",
        "colab_type": "text"
      },
      "source": [
        "Importing all the required libraries."
      ]
    },
    {
      "cell_type": "code",
      "metadata": {
        "id": "RzYkT_R_iGRy",
        "colab_type": "code",
        "colab": {}
      },
      "source": [
        "#Importing libraries\n",
        "import pickle\n",
        "import numpy as np\n",
        "import pandas as pd\n",
        "import matplotlib.pyplot as plt\n",
        "import seaborn as sb\n",
        "%matplotlib inline"
      ],
      "execution_count": 0,
      "outputs": []
    },
    {
      "cell_type": "markdown",
      "metadata": {
        "id": "kbi0B-lNmD7t",
        "colab_type": "text"
      },
      "source": [
        "The two functions below are to save and import pickle files.<br>"
      ]
    },
    {
      "cell_type": "code",
      "metadata": {
        "id": "F2ddRUOMUDW6",
        "colab_type": "code",
        "colab": {}
      },
      "source": [
        "def save_pkl(df,name):\n",
        "    fullname = name+'.pkl'\n",
        "    output = open(fullname, 'wb')\n",
        "    pickle.dump(df, output)\n",
        "    output.close()"
      ],
      "execution_count": 0,
      "outputs": []
    },
    {
      "cell_type": "code",
      "metadata": {
        "id": "ayyS6diTUG82",
        "colab_type": "code",
        "colab": {}
      },
      "source": [
        "def import_pkl(df,name):\n",
        "    fullname = name+'.pkl'\n",
        "    df = pickle.load(open(fullname, 'rb'))\n",
        "    return df"
      ],
      "execution_count": 0,
      "outputs": []
    },
    {
      "cell_type": "code",
      "metadata": {
        "id": "EOWy1rX5UJ51",
        "colab_type": "code",
        "colab": {}
      },
      "source": [
        "df_train = pd.DataFrame()\n",
        "df_valid = pd.DataFrame()\n",
        "df_test = pd.DataFrame()\n",
        "df_train_l = pd.DataFrame()\n",
        "df_valid_l = pd.DataFrame()\n",
        "df_test_l = pd.DataFrame()"
      ],
      "execution_count": 0,
      "outputs": []
    },
    {
      "cell_type": "code",
      "metadata": {
        "id": "nXjIU_8GUM_Q",
        "colab_type": "code",
        "colab": {}
      },
      "source": [
        "df_train = import_pkl(df_train,'train_x')\n",
        "df_valid = import_pkl(df_valid,'valid_x')\n",
        "df_test = import_pkl(df_test,'test_x')\n",
        "df_train_l = import_pkl(df_train_l,'train_x_l')\n",
        "df_valid_l = import_pkl(df_valid_l,'valid_x_l')\n",
        "df_test_l = import_pkl(df_test_l,'test_x_l')"
      ],
      "execution_count": 0,
      "outputs": []
    },
    {
      "cell_type": "code",
      "metadata": {
        "id": "h8pOHvmnUQRj",
        "colab_type": "code",
        "outputId": "8cb2c5b4-a9e6-466b-fe6e-27824d6c3be8",
        "colab": {
          "base_uri": "https://localhost:8080/",
          "height": 117
        }
      },
      "source": [
        "print(df_train.shape)\n",
        "print(df_valid.shape)\n",
        "print(df_test.shape)\n",
        "print(df_train_l.shape)\n",
        "print(df_valid_l.shape)\n",
        "print(df_test_l.shape)"
      ],
      "execution_count": 0,
      "outputs": [
        {
          "output_type": "stream",
          "text": [
            "(77854, 168)\n",
            "(13737, 168)\n",
            "(10175, 168)\n",
            "(77854, 1)\n",
            "(13737, 1)\n",
            "(10175, 1)\n"
          ],
          "name": "stdout"
        }
      ]
    },
    {
      "cell_type": "markdown",
      "metadata": {
        "id": "LdZ3XmSWmJo9",
        "colab_type": "text"
      },
      "source": [
        "Pre-processed data with a total of 168 features has been imported into dataframes.<br>\n",
        "We will apply PCA on these datasets to reduce the dimensionality of this data.<br>"
      ]
    },
    {
      "cell_type": "code",
      "metadata": {
        "id": "yYQwWgCLV1UQ",
        "colab_type": "code",
        "colab": {}
      },
      "source": [
        "from sklearn.decomposition import PCA\n",
        "dims = []\n",
        "variances = []\n",
        "optimum_dim = 168\n",
        "threshold=0.01\n",
        "for dim in range(1, 168):\n",
        "    pca = PCA(n_components=dim)\n",
        "    pca.fit(df_train)\n",
        "    variance = np.array(pca.explained_variance_ratio_)\n",
        "    variance = variance.min()\n",
        "    if threshold < variance:\n",
        "        optimum_dim = dim\n",
        "        dims.append(dim)\n",
        "        variances.append(variance)\n",
        "    else:\n",
        "        break"
      ],
      "execution_count": 0,
      "outputs": []
    },
    {
      "cell_type": "code",
      "metadata": {
        "id": "D2Z05dnNV_bI",
        "colab_type": "code",
        "outputId": "0516305b-d112-4c82-9b12-5f4b23435e47",
        "colab": {
          "base_uri": "https://localhost:8080/",
          "height": 286
        }
      },
      "source": [
        "print(optimum_dim)\n",
        "import matplotlib.pyplot as plt\n",
        "plt.plot(dims, variances)\n",
        "plt.show()"
      ],
      "execution_count": 0,
      "outputs": [
        {
          "output_type": "stream",
          "text": [
            "24\n"
          ],
          "name": "stdout"
        },
        {
          "output_type": "display_data",
          "data": {
            "image/png": "[encoded data removed]",
            "text/plain": [
              "<Figure size 432x288 with 1 Axes>"
            ]
          },
          "metadata": {
            "tags": []
          }
        }
      ]
    },
    {
      "cell_type": "markdown",
      "metadata": {
        "id": "YmKjwRf-mTFU",
        "colab_type": "text"
      },
      "source": [
        "Optimal value for PCA is 24 features, as we can see in the graph above."
      ]
    },
    {
      "cell_type": "code",
      "metadata": {
        "id": "7tyaQJgDWH7i",
        "colab_type": "code",
        "outputId": "b6424b35-e3d0-460b-9f73-45d5e0ca230a",
        "colab": {
          "base_uri": "https://localhost:8080/",
          "height": 84
        }
      },
      "source": [
        "pca = PCA(n_components=24)\n",
        "pca_train = pca.fit_transform(df_train)\n",
        "print(pca.explained_variance_ratio_)"
      ],
      "execution_count": 0,
      "outputs": [
        {
          "output_type": "stream",
          "text": [
            "[0.02895832 0.02233306 0.01973748 0.01650445 0.01475587 0.01344415\n",
            " 0.01335572 0.01309565 0.01292917 0.0124977  0.01237302 0.01219332\n",
            " 0.01212638 0.01212346 0.01208168 0.01203546 0.01201326 0.01197506\n",
            " 0.01182699 0.01175752 0.0116977  0.01141904 0.01078819 0.01051257]\n"
          ],
          "name": "stdout"
        }
      ]
    },
    {
      "cell_type": "markdown",
      "metadata": {
        "id": "bo3U4SFMmaDL",
        "colab_type": "text"
      },
      "source": [
        "We have now reduced the train dataset into 24 features using PCA."
      ]
    },
    {
      "cell_type": "code",
      "metadata": {
        "id": "vkJFNhpLWQO9",
        "colab_type": "code",
        "colab": {}
      },
      "source": [
        "from sklearn.model_selection import cross_val_score\n",
        "from sklearn.model_selection import train_test_split\n",
        "from warnings import simplefilter\n",
        "simplefilter(action='ignore', category=FutureWarning)\n",
        "from sklearn.metrics import accuracy_score"
      ],
      "execution_count": 0,
      "outputs": []
    },
    {
      "cell_type": "code",
      "metadata": {
        "id": "GrhRqzbmWT05",
        "colab_type": "code",
        "outputId": "49f67521-6f38-4f6b-97e8-62545712032c",
        "colab": {
          "base_uri": "https://localhost:8080/",
          "height": 100
        }
      },
      "source": [
        "#Logistic Regression Model Training\n",
        "from sklearn.linear_model import LogisticRegression\n",
        "LogReg1 = LogisticRegression(class_weight='balanced')\n",
        "LogReg1.fit(pca_train,np.ravel(df_train_l))"
      ],
      "execution_count": 0,
      "outputs": [
        {
          "output_type": "execute_result",
          "data": {
            "text/plain": [
              "LogisticRegression(C=1.0, class_weight='balanced', dual=False,\n",
              "                   fit_intercept=True, intercept_scaling=1, l1_ratio=None,\n",
              "                   max_iter=100, multi_class='warn', n_jobs=None, penalty='l2',\n",
              "                   random_state=None, solver='warn', tol=0.0001, verbose=0,\n",
              "                   warm_start=False)"
            ]
          },
          "metadata": {
            "tags": []
          },
          "execution_count": 13
        }
      ]
    },
    {
      "cell_type": "code",
      "metadata": {
        "id": "eVPQzmvgWgyH",
        "colab_type": "code",
        "outputId": "04b5f970-b116-463d-d753-cff4a6757d35",
        "colab": {
          "base_uri": "https://localhost:8080/",
          "height": 33
        }
      },
      "source": [
        "#Logistic Regression Training Score\n",
        "score = LogReg1.score(pca_train,np.ravel(df_train_l))\n",
        "print('Training error: ', score*100)"
      ],
      "execution_count": 0,
      "outputs": [
        {
          "output_type": "stream",
          "text": [
            "Training error:  53.35499781642562\n"
          ],
          "name": "stdout"
        }
      ]
    },
    {
      "cell_type": "markdown",
      "metadata": {
        "id": "5gmNx_ePmgwN",
        "colab_type": "text"
      },
      "source": [
        "The accuracy for training data after PCA for Logistic Regression is around 53.35%"
      ]
    },
    {
      "cell_type": "code",
      "metadata": {
        "id": "5sU2242oWyIp",
        "colab_type": "code",
        "outputId": "806bfe20-a333-4cbf-8573-25476151f8f1",
        "colab": {
          "base_uri": "https://localhost:8080/",
          "height": 33
        }
      },
      "source": [
        "#Logistic Regression Validation Score\n",
        "pca_valid = pca.transform(df_valid)\n",
        "score = LogReg1.score(pca_valid,np.ravel(df_valid_l))\n",
        "print('Validation error: ', score*100)"
      ],
      "execution_count": 0,
      "outputs": [
        {
          "output_type": "stream",
          "text": [
            "Validation error:  53.21394773240154\n"
          ],
          "name": "stdout"
        }
      ]
    },
    {
      "cell_type": "markdown",
      "metadata": {
        "id": "m7VJMc69mzDN",
        "colab_type": "text"
      },
      "source": [
        "In order to increase the accuracy, we now head towards hyperparameter tuning."
      ]
    },
    {
      "cell_type": "code",
      "metadata": {
        "id": "bDo-edkyW9hI",
        "colab_type": "code",
        "outputId": "f7d31930-b779-46e9-cf75-ba6a01768015",
        "colab": {
          "base_uri": "https://localhost:8080/",
          "height": 268
        }
      },
      "source": [
        "from pprint import pprint\n",
        "pprint(LogReg1.get_params())"
      ],
      "execution_count": 0,
      "outputs": [
        {
          "output_type": "stream",
          "text": [
            "{'C': 1.0,\n",
            " 'class_weight': 'balanced',\n",
            " 'dual': False,\n",
            " 'fit_intercept': True,\n",
            " 'intercept_scaling': 1,\n",
            " 'l1_ratio': None,\n",
            " 'max_iter': 100,\n",
            " 'multi_class': 'warn',\n",
            " 'n_jobs': None,\n",
            " 'penalty': 'l2',\n",
            " 'random_state': None,\n",
            " 'solver': 'warn',\n",
            " 'tol': 0.0001,\n",
            " 'verbose': 0,\n",
            " 'warm_start': False}\n"
          ],
          "name": "stdout"
        }
      ]
    },
    {
      "cell_type": "code",
      "metadata": {
        "id": "2v0gPlu4XMGv",
        "colab_type": "code",
        "outputId": "ee2c2d12-ef87-487e-afc9-713b6213c709",
        "colab": {
          "base_uri": "https://localhost:8080/",
          "height": 84
        }
      },
      "source": [
        "from sklearn.model_selection import RandomizedSearchCV\n",
        "\n",
        "penalty = ['l1', 'l2']\n",
        "C = [1, 10, 100]\n",
        "max_iter = [10, 20]\n",
        "tol = [0.01, 0.001]\n",
        "\n",
        "# Create the random grid\n",
        "random_grid = {'penalty': penalty,\n",
        "               'max_iter': max_iter,\n",
        "               'C': C,\n",
        "               'tol': tol}\n",
        "pprint(random_grid)"
      ],
      "execution_count": 0,
      "outputs": [
        {
          "output_type": "stream",
          "text": [
            "{'C': [1, 10, 100],\n",
            " 'max_iter': [10, 20],\n",
            " 'penalty': ['l1', 'l2'],\n",
            " 'tol': [0.01, 0.001]}\n"
          ],
          "name": "stdout"
        }
      ]
    },
    {
      "cell_type": "markdown",
      "metadata": {
        "id": "spVXins1m8wL",
        "colab_type": "text"
      },
      "source": [
        "For randomized SearchCV, we first pass random values as hyperparameters and then observe the results."
      ]
    },
    {
      "cell_type": "code",
      "metadata": {
        "id": "qWxpUwZyXt96",
        "colab_type": "code",
        "colab": {}
      },
      "source": [
        "from sklearn.model_selection import PredefinedSplit\n",
        "train_len = len(pca_train)\n",
        "valid_len = len(pca_valid)\n",
        "pca_tv = np.concatenate((pca_train,pca_valid), axis=0)\n",
        "df_tv_l = pd.concat([df_train_l, df_valid_l], ignore_index = True)\n",
        "bound = np.array([(i < train_len) * -1 for i in range(train_len + valid_len)])\n",
        "split = PredefinedSplit(bound)"
      ],
      "execution_count": 0,
      "outputs": []
    },
    {
      "cell_type": "code",
      "metadata": {
        "id": "T_Zjl5U6YGu1",
        "colab_type": "code",
        "outputId": "23dc5480-0f0c-4651-bc82-862018a39951",
        "colab": {
          "base_uri": "https://localhost:8080/",
          "height": 170
        }
      },
      "source": [
        "LogReg2 = LogisticRegression()\n",
        "logreg_random = RandomizedSearchCV(estimator = LogReg2, param_distributions = random_grid, n_iter = 100, n_jobs = -1, verbose = 1, cv = split)\n",
        "\n",
        "logreg_random.fit(pca_tv,np.ravel(df_tv_l))\n",
        "\n",
        "logreg_random.best_params_"
      ],
      "execution_count": 0,
      "outputs": [
        {
          "output_type": "stream",
          "text": [
            "Fitting 1 folds for each of 24 candidates, totalling 24 fits\n"
          ],
          "name": "stdout"
        },
        {
          "output_type": "stream",
          "text": [
            "/usr/local/lib/python3.6/dist-packages/sklearn/model_selection/_search.py:266: UserWarning: The total space of parameters 24 is smaller than n_iter=100. Running 24 iterations. For exhaustive searches, use GridSearchCV.\n",
            "  % (grid_size, self.n_iter, grid_size), UserWarning)\n",
            "[Parallel(n_jobs=-1)]: Using backend LokyBackend with 2 concurrent workers.\n",
            "[Parallel(n_jobs=-1)]: Done  24 out of  24 | elapsed:   49.5s finished\n",
            "/usr/local/lib/python3.6/dist-packages/sklearn/svm/base.py:929: ConvergenceWarning: Liblinear failed to converge, increase the number of iterations.\n",
            "  \"the number of iterations.\", ConvergenceWarning)\n"
          ],
          "name": "stderr"
        },
        {
          "output_type": "execute_result",
          "data": {
            "text/plain": [
              "{'C': 1, 'max_iter': 10, 'penalty': 'l1', 'tol': 0.001}"
            ]
          },
          "metadata": {
            "tags": []
          },
          "execution_count": 24
        }
      ]
    },
    {
      "cell_type": "markdown",
      "metadata": {
        "id": "zRw1Z_2anNfB",
        "colab_type": "text"
      },
      "source": [
        "Out of all the random values, above values have given us the maximum score. Now we train the model on these parameters and check for the accuracy score."
      ]
    },
    {
      "cell_type": "code",
      "metadata": {
        "id": "2OrGKn9gY7VQ",
        "colab_type": "code",
        "outputId": "6ac991f1-5f30-488e-a454-d6624ad9b106",
        "colab": {
          "base_uri": "https://localhost:8080/",
          "height": 67
        }
      },
      "source": [
        "LogReg3 = LogisticRegression(class_weight='balanced',\n",
        " C=1,\n",
        " max_iter=10,\n",
        " penalty='l1',\n",
        " tol=0.001)\n",
        "LogReg3.fit(pca_train,np.ravel(df_train_l))\n",
        "score = LogReg3.score(pca_train,np.ravel(df_train_l))\n",
        "print('Train Score: ', score*100)"
      ],
      "execution_count": 0,
      "outputs": [
        {
          "output_type": "stream",
          "text": [
            "Train Score:  53.34215326123256\n"
          ],
          "name": "stdout"
        },
        {
          "output_type": "stream",
          "text": [
            "/usr/local/lib/python3.6/dist-packages/sklearn/svm/base.py:929: ConvergenceWarning: Liblinear failed to converge, increase the number of iterations.\n",
            "  \"the number of iterations.\", ConvergenceWarning)\n"
          ],
          "name": "stderr"
        }
      ]
    },
    {
      "cell_type": "code",
      "metadata": {
        "id": "rORGAoxhZp6-",
        "colab_type": "code",
        "outputId": "40728392-eb94-4a8a-8332-4a1082b80b7b",
        "colab": {
          "base_uri": "https://localhost:8080/",
          "height": 33
        }
      },
      "source": [
        "score = LogReg3.score(pca_valid,np.ravel(df_valid_l))\n",
        "print('Valid Score: ', score*100)"
      ],
      "execution_count": 0,
      "outputs": [
        {
          "output_type": "stream",
          "text": [
            "Valid Score:  53.1921089029628\n"
          ],
          "name": "stdout"
        }
      ]
    },
    {
      "cell_type": "markdown",
      "metadata": {
        "id": "qnjQ_79KnkZY",
        "colab_type": "text"
      },
      "source": [
        "Now, we use GridSearchCV to tune the hyperparameters in range of the above obtained best parameters in RandomizedSearchCV."
      ]
    },
    {
      "cell_type": "code",
      "metadata": {
        "id": "Xh_P5jHaaL2r",
        "colab_type": "code",
        "outputId": "9f49fefc-3364-42f0-ea3f-951bb1f553a5",
        "colab": {
          "base_uri": "https://localhost:8080/",
          "height": 33
        }
      },
      "source": [
        "from sklearn.model_selection import GridSearchCV\n",
        "\n",
        "max_iter = [10,20]\n",
        "C = [1]\n",
        "penalty = ['l1','l2']\n",
        "tol = [0.01, 0.001]\n",
        "\n",
        "search_grid = {'max_iter' : max_iter,\n",
        "               'C': C,\n",
        "               'penalty': penalty,\n",
        "               'tol': tol}\n",
        "\n",
        "pprint(search_grid)"
      ],
      "execution_count": 0,
      "outputs": [
        {
          "output_type": "stream",
          "text": [
            "{'C': [1], 'max_iter': [10, 20], 'penalty': ['l1', 'l2'], 'tol': [0.01, 0.001]}\n"
          ],
          "name": "stdout"
        }
      ]
    },
    {
      "cell_type": "code",
      "metadata": {
        "id": "rFjx38Shaz4x",
        "colab_type": "code",
        "outputId": "bba1c4d0-2ba4-46f6-c5a6-3e50d256b194",
        "colab": {
          "base_uri": "https://localhost:8080/",
          "height": 117
        }
      },
      "source": [
        "LogReg4 = LogisticRegression()\n",
        "logreg_grid = GridSearchCV(estimator = LogReg4, param_grid = search_grid, n_jobs = 2, verbose = 1, cv = split)\n",
        "\n",
        "logreg_grid.fit(pca_tv, np.ravel(df_tv_l))\n",
        "\n",
        "logreg_grid.best_params_"
      ],
      "execution_count": 0,
      "outputs": [
        {
          "output_type": "stream",
          "text": [
            "Fitting 1 folds for each of 8 candidates, totalling 8 fits\n"
          ],
          "name": "stdout"
        },
        {
          "output_type": "stream",
          "text": [
            "[Parallel(n_jobs=2)]: Using backend LokyBackend with 2 concurrent workers.\n",
            "[Parallel(n_jobs=2)]: Done   8 out of   8 | elapsed:   15.6s finished\n",
            "/usr/local/lib/python3.6/dist-packages/sklearn/svm/base.py:929: ConvergenceWarning: Liblinear failed to converge, increase the number of iterations.\n",
            "  \"the number of iterations.\", ConvergenceWarning)\n"
          ],
          "name": "stderr"
        },
        {
          "output_type": "execute_result",
          "data": {
            "text/plain": [
              "{'C': 1, 'max_iter': 10, 'penalty': 'l1', 'tol': 0.001}"
            ]
          },
          "metadata": {
            "tags": []
          },
          "execution_count": 32
        }
      ]
    },
    {
      "cell_type": "markdown",
      "metadata": {
        "id": "phmatUW-oq_M",
        "colab_type": "text"
      },
      "source": [
        "Now, after hyperparameter tuning is done, we find the final training, validation and test error."
      ]
    },
    {
      "cell_type": "code",
      "metadata": {
        "id": "MlpMMbdQbcwf",
        "colab_type": "code",
        "outputId": "14e0743e-a34c-4bf2-f215-92d5495f0a15",
        "colab": {
          "base_uri": "https://localhost:8080/",
          "height": 67
        }
      },
      "source": [
        "LogReg_final = LogisticRegression(C=1, max_iter=10, penalty='l1', tol=0.001)\n",
        "LogReg_final.fit(pca_train, np.ravel(df_train_l))\n",
        "train_score = LogReg_final.score(pca_train, np.ravel(df_train_l))\n",
        "print('Final Train score: ', train_score*100)"
      ],
      "execution_count": 0,
      "outputs": [
        {
          "output_type": "stream",
          "text": [
            "Final Train score:  54.74477868831402\n"
          ],
          "name": "stdout"
        },
        {
          "output_type": "stream",
          "text": [
            "/usr/local/lib/python3.6/dist-packages/sklearn/svm/base.py:929: ConvergenceWarning: Liblinear failed to converge, increase the number of iterations.\n",
            "  \"the number of iterations.\", ConvergenceWarning)\n"
          ],
          "name": "stderr"
        }
      ]
    },
    {
      "cell_type": "code",
      "metadata": {
        "id": "xxx8oBAEcUO3",
        "colab_type": "code",
        "outputId": "4f429509-826d-4951-9317-87d47ce470c2",
        "colab": {
          "base_uri": "https://localhost:8080/",
          "height": 33
        }
      },
      "source": [
        "valid_score = LogReg_final.score(pca_valid, np.ravel(df_valid_l))\n",
        "print('Final Validation score: ', valid_score*100)"
      ],
      "execution_count": 0,
      "outputs": [
        {
          "output_type": "stream",
          "text": [
            "Final Validation score:  54.487879449661506\n"
          ],
          "name": "stdout"
        }
      ]
    },
    {
      "cell_type": "code",
      "metadata": {
        "id": "S3RdATdgcb7B",
        "colab_type": "code",
        "outputId": "7c4a2864-bb04-43b2-e9f3-bc2f190b6d29",
        "colab": {
          "base_uri": "https://localhost:8080/",
          "height": 33
        }
      },
      "source": [
        "pca_test = pca.transform(df_test)\n",
        "test_score = LogReg_final.score(pca_test, np.ravel(df_test_l))\n",
        "print('Final Train score: ', test_score*100)"
      ],
      "execution_count": 0,
      "outputs": [
        {
          "output_type": "stream",
          "text": [
            "Final Train score:  55.06633906633907\n"
          ],
          "name": "stdout"
        }
      ]
    },
    {
      "cell_type": "code",
      "metadata": {
        "id": "WLPy2xnSc36f",
        "colab_type": "code",
        "outputId": "8ebeb768-6129-401f-c503-9b11e808f838",
        "colab": {
          "base_uri": "https://localhost:8080/",
          "height": 67
        }
      },
      "source": [
        "from sklearn import metrics\n",
        "conf = metrics.confusion_matrix(df_test_l,LogReg_final.predict(pca_test))\n",
        "TP = conf[1, 1]\n",
        "TN = conf[0, 0]\n",
        "FP = conf[0, 1]\n",
        "FN = conf[1, 0]\n",
        "print(conf)"
      ],
      "execution_count": 0,
      "outputs": [
        {
          "output_type": "stream",
          "text": [
            "[[5124  362    0]\n",
            " [3075  479    0]\n",
            " [ 950  185    0]]\n"
          ],
          "name": "stdout"
        }
      ]
    },
    {
      "cell_type": "code",
      "metadata": {
        "id": "hBpvXchWc9x5",
        "colab_type": "code",
        "outputId": "faa537d0-8671-4e66-d98c-75477114b82a",
        "colab": {
          "base_uri": "https://localhost:8080/",
          "height": 33
        }
      },
      "source": [
        "print(TN*100 / float(TN + FP))"
      ],
      "execution_count": 0,
      "outputs": [
        {
          "output_type": "stream",
          "text": [
            "93.4013853445133\n"
          ],
          "name": "stdout"
        }
      ]
    },
    {
      "cell_type": "code",
      "metadata": {
        "id": "vQMX5ZQNdCFm",
        "colab_type": "code",
        "outputId": "aba5c13f-a04c-42f2-cee0-9b45469a11a9",
        "colab": {
          "base_uri": "https://localhost:8080/",
          "height": 33
        }
      },
      "source": [
        "print(FP*100 / float(TN + FP))"
      ],
      "execution_count": 0,
      "outputs": [
        {
          "output_type": "stream",
          "text": [
            "6.598614655486694\n"
          ],
          "name": "stdout"
        }
      ]
    },
    {
      "cell_type": "code",
      "metadata": {
        "id": "7dEXeDjFdEIQ",
        "colab_type": "code",
        "outputId": "41f8a358-6d94-488a-9434-8999db1179a9",
        "colab": {
          "base_uri": "https://localhost:8080/",
          "height": 33
        }
      },
      "source": [
        "print(TP*100 / float(TP + FP))"
      ],
      "execution_count": 0,
      "outputs": [
        {
          "output_type": "stream",
          "text": [
            "56.95600475624257\n"
          ],
          "name": "stdout"
        }
      ]
    },
    {
      "cell_type": "code",
      "metadata": {
        "id": "WJYhSMaHdGpG",
        "colab_type": "code",
        "outputId": "ca1fe3ab-ceac-4573-cfc4-f90461c6e3fe",
        "colab": {
          "base_uri": "https://localhost:8080/",
          "height": 281
        }
      },
      "source": [
        "scores = [train_score, valid_score, test_score]\n",
        "labels = ['train','validation','test']\n",
        "plt.title(\"Accuracy for Logistic Regression PCA\")\n",
        "plt.plot(labels, scores, marker='o', color = \"g\", label = \"Final model scores\")\n",
        "plt.show()"
      ],
      "execution_count": 0,
      "outputs": [
        {
          "output_type": "display_data",
          "data": {
            "image/png": "[encoded data removed]",
            "text/plain": [
              "<Figure size 432x288 with 1 Axes>"
            ]
          },
          "metadata": {
            "tags": []
          }
        }
      ]
    }
  ]
}