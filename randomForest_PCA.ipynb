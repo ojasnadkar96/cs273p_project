{
  "nbformat": 4,
  "nbformat_minor": 0,
  "metadata": {
    "colab": {
      "name": "randomForest_PCA.ipynb",
      "version": "0.3.2",
      "provenance": [],
      "include_colab_link": true
    },
    "language_info": {
      "codemirror_mode": {
        "name": "ipython",
        "version": 3
      },
      "file_extension": ".py",
      "mimetype": "text/x-python",
      "name": "python",
      "nbconvert_exporter": "python",
      "pygments_lexer": "ipython3",
      "version": "3.6.5"
    },
    "kernelspec": {
      "display_name": "Python 3",
      "language": "python",
      "name": "python3"
    }
  },
  "cells": [
    {
      "cell_type": "markdown",
      "metadata": {
        "id": "view-in-github",
        "colab_type": "text"
      },
      "source": [
        "<a href=\"https://colab.research.google.com/github/ojasnadkar96/cs273p_project/blob/master/randomForest_PCA.ipynb\" target=\"_parent\"><img src=\"https://colab.research.google.com/assets/colab-badge.svg\" alt=\"Open In Colab\"/></a>"
      ]
    },
    {
      "cell_type": "markdown",
      "metadata": {
        "colab_type": "text",
        "id": "VZWNaIleb0f6"
      },
      "source": [
        "# Random Forest (PCA - 24 features)"
      ]
    },
    {
      "cell_type": "markdown",
      "metadata": {
        "colab_type": "text",
        "id": "EignT-ClclQI"
      },
      "source": [
        "Importing all the required libraries.<br>"
      ]
    },
    {
      "cell_type": "code",
      "metadata": {
        "colab_type": "code",
        "id": "dOa6zZxaS_Hp",
        "colab": {}
      },
      "source": [
        "import pickle\n",
        "import numpy as np\n",
        "import pandas as pd\n",
        "import matplotlib.pyplot as plt\n",
        "import seaborn as sb\n",
        "%matplotlib inline"
      ],
      "execution_count": 0,
      "outputs": []
    },
    {
      "cell_type": "markdown",
      "metadata": {
        "colab_type": "text",
        "id": "6QXRoLPHcsRj"
      },
      "source": [
        "The two functions below are to save and import pickle files.<br>"
      ]
    },
    {
      "cell_type": "code",
      "metadata": {
        "colab_type": "code",
        "id": "z0klSXsBS_IP",
        "colab": {}
      },
      "source": [
        "def save_pkl(df,name):\n",
        "    fullname = name+'.pkl'\n",
        "    output = open(fullname, 'wb')\n",
        "    pickle.dump(df, output)\n",
        "    output.close()"
      ],
      "execution_count": 0,
      "outputs": []
    },
    {
      "cell_type": "code",
      "metadata": {
        "colab_type": "code",
        "id": "5ohC8nSvS_IZ",
        "colab": {}
      },
      "source": [
        "def import_pkl(df,name):\n",
        "    fullname = name+'.pkl'\n",
        "    df = pickle.load(open(fullname, 'rb'))\n",
        "    return df"
      ],
      "execution_count": 0,
      "outputs": []
    },
    {
      "cell_type": "code",
      "metadata": {
        "colab_type": "code",
        "id": "EDV0w7ZVS_If",
        "colab": {}
      },
      "source": [
        "df_train = pd.DataFrame()\n",
        "df_valid = pd.DataFrame()\n",
        "df_test = pd.DataFrame()\n",
        "df_train_l = pd.DataFrame()\n",
        "df_valid_l = pd.DataFrame()\n",
        "df_test_l = pd.DataFrame()"
      ],
      "execution_count": 0,
      "outputs": []
    },
    {
      "cell_type": "code",
      "metadata": {
        "colab_type": "code",
        "id": "7emM5AFgS_In",
        "colab": {}
      },
      "source": [
        "df_train = import_pkl(df_train,'train_x')\n",
        "df_valid = import_pkl(df_valid,'valid_x')\n",
        "df_test = import_pkl(df_test,'test_x')\n",
        "df_train_l = import_pkl(df_train_l,'train_x_l')\n",
        "df_valid_l = import_pkl(df_valid_l,'valid_x_l')\n",
        "df_test_l = import_pkl(df_test_l,'test_x_l')"
      ],
      "execution_count": 0,
      "outputs": []
    },
    {
      "cell_type": "code",
      "metadata": {
        "colab_type": "code",
        "id": "t9zXkCrKS_Ix",
        "outputId": "0369a0a4-eda3-4eb5-e48f-4031a4a2ae91",
        "colab": {
          "base_uri": "https://localhost:8080/",
          "height": 124
        }
      },
      "source": [
        "print(df_train.shape)\n",
        "print(df_valid.shape)\n",
        "print(df_test.shape)\n",
        "print(df_train_l.shape)\n",
        "print(df_valid_l.shape)\n",
        "print(df_test_l.shape)"
      ],
      "execution_count": 0,
      "outputs": [
        {
          "output_type": "stream",
          "text": [
            "(77854, 168)\n",
            "(13737, 168)\n",
            "(10175, 168)\n",
            "(77854, 1)\n",
            "(13737, 1)\n",
            "(10175, 1)\n"
          ],
          "name": "stdout"
        }
      ]
    },
    {
      "cell_type": "markdown",
      "metadata": {
        "colab_type": "text",
        "id": "P-id7R7zc0GT"
      },
      "source": [
        "Pre-processed data with a total of 168 features has been imported into dataframes.<br>\n",
        "We will apply PCA on these datasets to reduce the dimensionality of this data.<br>\n"
      ]
    },
    {
      "cell_type": "code",
      "metadata": {
        "colab_type": "code",
        "id": "zWIxCXszS_I6",
        "colab": {}
      },
      "source": [
        "from sklearn.decomposition import PCA\n",
        "dims = []\n",
        "variances = []\n",
        "optimum_dim = 168\n",
        "threshold=0.01\n",
        "for dim in range(1, 168):\n",
        "    pca = PCA(n_components=dim)\n",
        "    pca.fit(df_train)\n",
        "    variance = np.array(pca.explained_variance_ratio_)\n",
        "    variance = variance.min()\n",
        "    if threshold < variance:\n",
        "        optimum_dim = dim\n",
        "        dims.append(dim)\n",
        "        variances.append(variance)\n",
        "    else:\n",
        "        break"
      ],
      "execution_count": 0,
      "outputs": []
    },
    {
      "cell_type": "code",
      "metadata": {
        "colab_type": "code",
        "id": "Q4sy8noES_JB",
        "outputId": "513838dc-1321-496f-ad00-39a0de0dff28",
        "colab": {
          "base_uri": "https://localhost:8080/",
          "height": 287
        }
      },
      "source": [
        "print(optimum_dim)\n",
        "import matplotlib.pyplot as plt\n",
        "plt.plot(dims, variances)\n",
        "plt.show()"
      ],
      "execution_count": 0,
      "outputs": [
        {
          "output_type": "stream",
          "text": [
            "24\n"
          ],
          "name": "stdout"
        },
        {
          "output_type": "display_data",
          "data": {
            "image/png": "[encoded data removed]",
            "text/plain": [
              "<Figure size 432x288 with 1 Axes>"
            ]
          },
          "metadata": {
            "tags": []
          }
        }
      ]
    },
    {
      "cell_type": "markdown",
      "metadata": {
        "colab_type": "text",
        "id": "hWC1M8aydccQ"
      },
      "source": [
        "Optimal value for PCA is 24 features, as we can see in the graph above."
      ]
    },
    {
      "cell_type": "code",
      "metadata": {
        "colab_type": "code",
        "id": "mUnBpUN0S_JK",
        "outputId": "0f4677f0-1645-4ce8-a1e4-68b2fd4aa748",
        "colab": {
          "base_uri": "https://localhost:8080/",
          "height": 88
        }
      },
      "source": [
        "pca = PCA(n_components=24)\n",
        "pca_train = pca.fit_transform(df_train)\n",
        "print(pca.explained_variance_ratio_)"
      ],
      "execution_count": 0,
      "outputs": [
        {
          "output_type": "stream",
          "text": [
            "[0.0289583  0.02233305 0.0197389  0.01650096 0.01474435 0.01349737\n",
            " 0.01341807 0.01308182 0.01291596 0.01258289 0.01235511 0.01218433\n",
            " 0.01216399 0.01213972 0.0120766  0.01204783 0.01199531 0.01191743\n",
            " 0.0118315  0.01175532 0.01170567 0.01146479 0.0107488  0.01066482]\n"
          ],
          "name": "stdout"
        }
      ]
    },
    {
      "cell_type": "markdown",
      "metadata": {
        "colab_type": "text",
        "id": "b2EZPyH7dk_M"
      },
      "source": [
        "We have now reduced the train dataset into 24 features using PCA."
      ]
    },
    {
      "cell_type": "code",
      "metadata": {
        "colab_type": "code",
        "id": "1wc50JD6S_LQ",
        "colab": {}
      },
      "source": [
        "from sklearn.model_selection import cross_val_score\n",
        "from sklearn.model_selection import train_test_split\n",
        "from warnings import simplefilter\n",
        "simplefilter(action='ignore', category=FutureWarning)\n",
        "from sklearn.metrics import accuracy_score"
      ],
      "execution_count": 0,
      "outputs": []
    },
    {
      "cell_type": "code",
      "metadata": {
        "colab_type": "code",
        "id": "rps7xC8cWmbC",
        "outputId": "4c4daff4-10a9-483f-9aca-26ae1aa8a611",
        "colab": {
          "base_uri": "https://localhost:8080/",
          "height": 35
        }
      },
      "source": [
        "from sklearn.ensemble import RandomForestClassifier\n",
        "rf1 = RandomForestClassifier(class_weight='balanced')\n",
        "rf1.fit(pca_train,np.ravel(df_train_l))\n",
        "score = rf1.score(pca_train,np.ravel(df_train_l))\n",
        "print(score*100)"
      ],
      "execution_count": 0,
      "outputs": [
        {
          "output_type": "stream",
          "text": [
            "97.89863077041642\n"
          ],
          "name": "stdout"
        }
      ]
    },
    {
      "cell_type": "markdown",
      "metadata": {
        "colab_type": "text",
        "id": "DAgbTtDSds3t"
      },
      "source": [
        "The accuracy for training data after PCA for Random Forest is around 97.8%"
      ]
    },
    {
      "cell_type": "code",
      "metadata": {
        "colab_type": "code",
        "id": "0YFw61vjXMss",
        "outputId": "99744ff1-79b0-4465-e266-02fa0374f705",
        "colab": {
          "base_uri": "https://localhost:8080/",
          "height": 35
        }
      },
      "source": [
        "pca_valid = pca.transform(df_valid)\n",
        "score = rf1.score(pca_valid,np.ravel(df_valid_l))\n",
        "print(score*100)"
      ],
      "execution_count": 0,
      "outputs": [
        {
          "output_type": "stream",
          "text": [
            "52.23848001747107\n"
          ],
          "name": "stdout"
        }
      ]
    },
    {
      "cell_type": "markdown",
      "metadata": {
        "colab_type": "text",
        "id": "1n1nBwDId3Co"
      },
      "source": [
        "The accuracy for validation data after PCA for Random Forest is around 52.2%<br>\n",
        "This looks like overfitting, we have to look at the hyperparameters now.<br>"
      ]
    },
    {
      "cell_type": "code",
      "metadata": {
        "colab_type": "code",
        "id": "JuUGGfvGXny9",
        "outputId": "084979f0-030f-4fd6-cc74-c82f9ef08e97",
        "colab": {
          "base_uri": "https://localhost:8080/",
          "height": 321
        }
      },
      "source": [
        "from pprint import pprint\n",
        "pprint(rf1.get_params())"
      ],
      "execution_count": 0,
      "outputs": [
        {
          "output_type": "stream",
          "text": [
            "{'bootstrap': True,\n",
            " 'class_weight': 'balanced',\n",
            " 'criterion': 'gini',\n",
            " 'max_depth': None,\n",
            " 'max_features': 'auto',\n",
            " 'max_leaf_nodes': None,\n",
            " 'min_impurity_decrease': 0.0,\n",
            " 'min_impurity_split': None,\n",
            " 'min_samples_leaf': 1,\n",
            " 'min_samples_split': 2,\n",
            " 'min_weight_fraction_leaf': 0.0,\n",
            " 'n_estimators': 10,\n",
            " 'n_jobs': 1,\n",
            " 'oob_score': False,\n",
            " 'random_state': None,\n",
            " 'verbose': 0,\n",
            " 'warm_start': False}\n"
          ],
          "name": "stdout"
        }
      ]
    },
    {
      "cell_type": "markdown",
      "metadata": {
        "colab_type": "text",
        "id": "qYtpnRN5eKxT"
      },
      "source": [
        "These are a parameters being used.<br>"
      ]
    },
    {
      "cell_type": "code",
      "metadata": {
        "colab_type": "code",
        "id": "RPWDbJFqX3K3",
        "outputId": "611d9123-2246-4506-811e-8a4f8db38271",
        "colab": {
          "base_uri": "https://localhost:8080/",
          "height": 124
        }
      },
      "source": [
        "from sklearn.model_selection import RandomizedSearchCV\n",
        "\n",
        "n_estimators = [10,20,30,40,50,64,128]\n",
        "max_features = ['auto', 'sqrt']\n",
        "max_depth = [10,20,30,40,50]\n",
        "max_depth.append(None)\n",
        "min_samples_split = [2, 6, 10]\n",
        "min_samples_leaf = [1, 2, 4]\n",
        "bootstrap = [True, False]\n",
        "\n",
        "random_grid = {'n_estimators': n_estimators,\n",
        "               'max_features': max_features,\n",
        "               'max_depth': max_depth,\n",
        "               'min_samples_split': min_samples_split,\n",
        "               'min_samples_leaf': min_samples_leaf,\n",
        "               'bootstrap': bootstrap}\n",
        "\n",
        "pprint(random_grid)"
      ],
      "execution_count": 0,
      "outputs": [
        {
          "output_type": "stream",
          "text": [
            "{'bootstrap': [True, False],\n",
            " 'max_depth': [10, 20, 30, 40, 50, None],\n",
            " 'max_features': ['auto', 'sqrt'],\n",
            " 'min_samples_leaf': [1, 2, 4],\n",
            " 'min_samples_split': [2, 6, 10],\n",
            " 'n_estimators': [10, 20, 30, 40, 50, 64, 128]}\n"
          ],
          "name": "stdout"
        }
      ]
    },
    {
      "cell_type": "markdown",
      "metadata": {
        "colab_type": "text",
        "id": "bcOaluUie3MD"
      },
      "source": [
        "Now, we take a set of values for each parameter and pass them through RandomizedCV for 25 iterations.<br>\n",
        "This should give us a good range of better parameters.<br>"
      ]
    },
    {
      "cell_type": "code",
      "metadata": {
        "colab_type": "code",
        "id": "TdX3kzaWYtCS",
        "colab": {}
      },
      "source": [
        "from sklearn.model_selection import PredefinedSplit\n",
        "train_len = len(pca_train)\n",
        "valid_len = len(pca_valid)\n",
        "pca_tv = np.concatenate((pca_train,pca_valid), axis=0)\n",
        "df_tv_l = pd.concat([df_train_l, df_valid_l], ignore_index = True)\n",
        "bound = np.array([(i < train_len) * -1 for i in range(train_len + valid_len)])\n",
        "split = PredefinedSplit(bound)"
      ],
      "execution_count": 0,
      "outputs": []
    },
    {
      "cell_type": "markdown",
      "metadata": {
        "colab_type": "text",
        "id": "xtR_rzcLfRN_"
      },
      "source": [
        "In the RandomizedCV model, we define a custom split for validation.<br>\n",
        "Our validation data is being used as the cross-validation split for RandomizedCV.<br>\n",
        "Below, we have obtained a set of hyperparameters.<br>"
      ]
    },
    {
      "cell_type": "code",
      "metadata": {
        "colab_type": "code",
        "id": "neqApIbyYC0Y",
        "outputId": "c3a42762-bf71-4a10-ec4e-e178ba1aedf8",
        "colab": {
          "base_uri": "https://localhost:8080/",
          "height": 463
        }
      },
      "source": [
        "rf2 = RandomForestClassifier()\n",
        "rf_random = RandomizedSearchCV(estimator = rf2, param_distributions = random_grid, n_iter = 25 , n_jobs = 2, verbose = 1, cv = split)\n",
        "rf_random.fit(pca_tv,np.ravel(df_tv_l))\n",
        "rf_random.best_params_"
      ],
      "execution_count": 0,
      "outputs": [
        {
          "output_type": "stream",
          "text": [
            "Fitting 1 folds for each of 25 candidates, totalling 25 fits\n"
          ],
          "name": "stdout"
        },
        {
          "output_type": "stream",
          "text": [
            "[Parallel(n_jobs=2)]: Done  25 out of  25 | elapsed:  8.9min finished\n"
          ],
          "name": "stderr"
        },
        {
          "output_type": "execute_result",
          "data": {
            "text/plain": [
              "{'n_estimators': 50,\n",
              " 'min_samples_split': 10,\n",
              " 'min_samples_leaf': 4,\n",
              " 'max_features': 'sqrt',\n",
              " 'max_depth': 20,\n",
              " 'bootstrap': True}"
            ]
          },
          "metadata": {
            "tags": []
          },
          "execution_count": 16
        }
      ]
    },
    {
      "cell_type": "markdown",
      "metadata": {
        "id": "PFAvCFxFLYhd",
        "colab_type": "text"
      },
      "source": [
        "Using the hyperparameters obtained above, we will train our model.<br>"
      ]
    },
    {
      "cell_type": "code",
      "metadata": {
        "colab_type": "code",
        "id": "xUrn3bRtZsXU",
        "outputId": "cbe4e3eb-bc3f-43da-e0ea-6abd49c2c27e",
        "colab": {}
      },
      "source": [
        "from sklearn.ensemble import RandomForestClassifier\n",
        "rf2 = RandomForestClassifier(class_weight='balanced',n_estimators=50,\n",
        " min_samples_split=10,\n",
        " min_samples_leaf=4,\n",
        " max_features='sqrt',\n",
        " max_depth=20,\n",
        " bootstrap=True)\n",
        "rf2.fit(pca_train,np.ravel(df_train_l))\n",
        "score = rf2.score(pca_train,np.ravel(df_train_l))\n",
        "print(score*100)"
      ],
      "execution_count": 0,
      "outputs": [
        {
          "output_type": "stream",
          "text": [
            "93.7511238985794\n"
          ],
          "name": "stdout"
        }
      ]
    },
    {
      "cell_type": "code",
      "metadata": {
        "id": "uYQejn_VtMf8",
        "colab_type": "code",
        "outputId": "23c85a99-d8c3-4925-ba65-a29f1b0ee3b9",
        "colab": {}
      },
      "source": [
        "score = rf2.score(pca_valid,np.ravel(df_valid_l))\n",
        "print(score*100)"
      ],
      "execution_count": 0,
      "outputs": [
        {
          "output_type": "stream",
          "text": [
            "51.736186940379994\n"
          ],
          "name": "stdout"
        }
      ]
    },
    {
      "cell_type": "markdown",
      "metadata": {
        "id": "iZQKu1mGLlmj",
        "colab_type": "text"
      },
      "source": [
        "The train accuracy is 93.7% and the validation accuracy is 51.7%<br>\n",
        "There is less overfitting than before, but the validation accuracy is less than before.<br>\n",
        "Now we will use GridSearchCV on a smaller range of values in hopes of finding good hyperparameter  values.<br>\n",
        "  "
      ]
    },
    {
      "cell_type": "code",
      "metadata": {
        "id": "OX8k8YRWtMgC",
        "colab_type": "code",
        "outputId": "cb5e53cc-54a3-465f-f8a0-6648bd02a5e9",
        "colab": {}
      },
      "source": [
        "from sklearn.model_selection import GridSearchCV\n",
        "\n",
        "n_estimators = [50]\n",
        "max_features = ['sqrt']\n",
        "max_depth = [20]\n",
        "max_depth.append(None)\n",
        "min_samples_split = [6, 10]\n",
        "min_samples_leaf = [2, 4]\n",
        "bootstrap = [True]\n",
        "\n",
        "search_grid = {'n_estimators': n_estimators,\n",
        "               'max_features': max_features,\n",
        "               'max_depth': max_depth,\n",
        "               'min_samples_split': min_samples_split,\n",
        "               'min_samples_leaf': min_samples_leaf,\n",
        "               'bootstrap': bootstrap}\n",
        "\n",
        "pprint(search_grid)"
      ],
      "execution_count": 0,
      "outputs": [
        {
          "output_type": "stream",
          "text": [
            "{'bootstrap': [True],\n",
            " 'max_depth': [20, None],\n",
            " 'max_features': ['sqrt'],\n",
            " 'min_samples_leaf': [2, 4],\n",
            " 'min_samples_split': [6, 10],\n",
            " 'n_estimators': [50]}\n"
          ],
          "name": "stdout"
        }
      ]
    },
    {
      "cell_type": "code",
      "metadata": {
        "id": "MdXw60cCtMgL",
        "colab_type": "code",
        "outputId": "6f1e2303-b35a-45c2-f0b3-4bea17de8075",
        "colab": {}
      },
      "source": [
        "rf3 = RandomForestClassifier()\n",
        "rf_grid = GridSearchCV(estimator = rf3, param_grid = search_grid, n_jobs = 2, verbose = 1, cv = split)\n",
        "rf_grid.fit(pca_tv, np.ravel(df_tv_l))\n",
        "rf_grid.best_params_"
      ],
      "execution_count": 0,
      "outputs": [
        {
          "output_type": "stream",
          "text": [
            "Fitting 1 folds for each of 8 candidates, totalling 8 fits\n"
          ],
          "name": "stdout"
        },
        {
          "output_type": "stream",
          "text": [
            "[Parallel(n_jobs=2)]: Done   8 out of   8 | elapsed:  2.8min finished\n"
          ],
          "name": "stderr"
        },
        {
          "output_type": "execute_result",
          "data": {
            "text/plain": [
              "{'bootstrap': True,\n",
              " 'max_depth': 20,\n",
              " 'max_features': 'sqrt',\n",
              " 'min_samples_leaf': 2,\n",
              " 'min_samples_split': 10,\n",
              " 'n_estimators': 50}"
            ]
          },
          "metadata": {
            "tags": []
          },
          "execution_count": 21
        }
      ]
    },
    {
      "cell_type": "code",
      "metadata": {
        "id": "tP3BEGB1tMgR",
        "colab_type": "code",
        "outputId": "9fe18b6d-98cc-4523-85cc-a1a33954b8f8",
        "colab": {}
      },
      "source": [
        "from sklearn.ensemble import RandomForestClassifier\n",
        "rf3 = RandomForestClassifier(class_weight='balanced',n_estimators=50,\n",
        " min_samples_split=10,\n",
        " min_samples_leaf=2,\n",
        " max_features='sqrt',\n",
        " max_depth=20,\n",
        " bootstrap=True)\n",
        "rf3.fit(pca_train,np.ravel(df_train_l))\n",
        "score_tr = rf3.score(pca_train,np.ravel(df_train_l))\n",
        "print(score_tr*100)"
      ],
      "execution_count": 0,
      "outputs": [
        {
          "output_type": "stream",
          "text": [
            "95.11007783800447\n"
          ],
          "name": "stdout"
        }
      ]
    },
    {
      "cell_type": "code",
      "metadata": {
        "id": "JxRZWYyCtMgd",
        "colab_type": "code",
        "outputId": "2ffd2a01-c784-48e2-a14d-2c1b707f6d82",
        "colab": {}
      },
      "source": [
        "score_va = rf2.score(pca_valid,np.ravel(df_valid_l))\n",
        "print(score_va*100)"
      ],
      "execution_count": 0,
      "outputs": [
        {
          "output_type": "stream",
          "text": [
            "51.736186940379994\n"
          ],
          "name": "stdout"
        }
      ]
    },
    {
      "cell_type": "markdown",
      "metadata": {
        "id": "1iGZx2uzMHq6",
        "colab_type": "text"
      },
      "source": [
        "Again, we used GridSearchCV to get better hyperparameters.<br>\n",
        "Now training accuracy is up to 95% and validation accuracy is the same at 51%<br>\n",
        "The model still seems like overfitting.<br>"
      ]
    },
    {
      "cell_type": "markdown",
      "metadata": {
        "id": "D4klaoixMnSH",
        "colab_type": "text"
      },
      "source": [
        "We will now use the parameters that were obtained in the case of Feature Set 1 (168 Features).<br>\n"
      ]
    },
    {
      "cell_type": "code",
      "metadata": {
        "id": "kimHMRx7tMgp",
        "colab_type": "code",
        "outputId": "69015fcc-2a34-4aa0-99d6-819173e6fcea",
        "colab": {}
      },
      "source": [
        "from sklearn.ensemble import RandomForestClassifier\n",
        "rf_final = RandomForestClassifier(class_weight='balanced',n_estimators=128,\n",
        " min_samples_split=6,\n",
        " min_samples_leaf=4,\n",
        " max_features='auto',\n",
        " max_depth=None,\n",
        " bootstrap=False)\n",
        "rf_final.fit(pca_train,np.ravel(df_train_l))\n",
        "score_tr = rf_final.score(pca_train,np.ravel(df_train_l))\n",
        "print(score_tr*100)"
      ],
      "execution_count": 0,
      "outputs": [
        {
          "output_type": "stream",
          "text": [
            "99.88439900326252\n"
          ],
          "name": "stdout"
        }
      ]
    },
    {
      "cell_type": "code",
      "metadata": {
        "id": "0kSs3Yb7tMg0",
        "colab_type": "code",
        "outputId": "a3ebaf8e-4218-4f32-f682-5dbca05b5a03",
        "colab": {}
      },
      "source": [
        "score_va = rf_final.score(pca_valid,np.ravel(df_valid_l))\n",
        "print(score_va*100)"
      ],
      "execution_count": 0,
      "outputs": [
        {
          "output_type": "stream",
          "text": [
            "53.148431244085316\n"
          ],
          "name": "stdout"
        }
      ]
    },
    {
      "cell_type": "code",
      "metadata": {
        "id": "fl93j1gDtMhA",
        "colab_type": "code",
        "outputId": "9f2b9edb-5807-4bd6-f5fb-9958c31c8191",
        "colab": {}
      },
      "source": [
        "pca_test = pca.transform(df_test)\n",
        "score_te = rf_final.score(pca_test,np.ravel(df_test_l))\n",
        "print(score_te*100)"
      ],
      "execution_count": 0,
      "outputs": [
        {
          "output_type": "stream",
          "text": [
            "54.692874692874696\n"
          ],
          "name": "stdout"
        }
      ]
    },
    {
      "cell_type": "markdown",
      "metadata": {
        "id": "GQj7kqNXS5BC",
        "colab_type": "text"
      },
      "source": [
        "Therefore, by using the same hyperparameters as those obtained in the 168 feature dataset we get<br>\n",
        "Train accuracy as: 99.8%<br>\n",
        "Validation accuracy as: 53.1%<br>\n",
        "<br>\n",
        "So we proceed to run the model on the test data.<br>\n",
        "The test accuracy obtained is: 54.7%\n",
        "<br>\n",
        "This is the best test accuracy we obtained, therfore we keep these hyperparameters.<br>"
      ]
    },
    {
      "cell_type": "code",
      "metadata": {
        "id": "NiZE2IP3tMiC",
        "colab_type": "code",
        "outputId": "57013aa5-657d-4eea-9929-000349775783",
        "colab": {}
      },
      "source": [
        "scores = [score_tr*100,score_va*100,score_te*100]\n",
        "labels = ['train','validation','test']\n",
        "plt.title(\"Accuracy for Random Forest PCA\")\n",
        "plt.plot(labels, scores, marker='o', color = \"r\", label = \"Final model scores\")\n",
        "plt.show()"
      ],
      "execution_count": 0,
      "outputs": [
        {
          "output_type": "display_data",
          "data": {
            "image/png": "[encoded data removed]",
            "text/plain": [
              "<Figure size 432x288 with 1 Axes>"
            ]
          },
          "metadata": {
            "tags": []
          }
        }
      ]
    },
    {
      "cell_type": "markdown",
      "metadata": {
        "id": "BhmR_w4MUYsy",
        "colab_type": "text"
      },
      "source": [
        "The graph for the best model has been plotted above.<br>\n",
        "The graph shows the training, validation and test accuracy for the data.<br>"
      ]
    }
  ]
}