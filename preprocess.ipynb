{
  "nbformat": 4,
  "nbformat_minor": 0,
  "metadata": {
    "colab": {
      "name": "preprocess.ipynb",
      "version": "0.3.2",
      "provenance": [],
      "include_colab_link": true
    },
    "language_info": {
      "codemirror_mode": {
        "name": "ipython",
        "version": 3
      },
      "file_extension": ".py",
      "mimetype": "text/x-python",
      "name": "python",
      "nbconvert_exporter": "python",
      "pygments_lexer": "ipython3",
      "version": "3.6.5"
    },
    "kernelspec": {
      "display_name": "Python 3",
      "language": "python",
      "name": "python3"
    }
  },
  "cells": [
    {
      "cell_type": "markdown",
      "metadata": {
        "id": "view-in-github",
        "colab_type": "text"
      },
      "source": [
        "<a href=\"https://colab.research.google.com/github/ojasnadkar96/cs273p_project/blob/master/preprocess.ipynb\" target=\"_parent\"><img src=\"https://colab.research.google.com/assets/colab-badge.svg\" alt=\"Open In Colab\"/></a>"
      ]
    },
    {
      "cell_type": "markdown",
      "metadata": {
        "id": "-7so9nZvJNEg",
        "colab_type": "text"
      },
      "source": [
        "# Data Preprocessing"
      ]
    },
    {
      "cell_type": "markdown",
      "metadata": {
        "id": "HEaYpOTPJNEn",
        "colab_type": "text"
      },
      "source": [
        "## Data Loading"
      ]
    },
    {
      "cell_type": "code",
      "metadata": {
        "id": "J9WoCrlLJNEs",
        "colab_type": "code",
        "colab": {}
      },
      "source": [
        "#importing all required libraries\n",
        "import numpy as np\n",
        "import pandas as pd\n",
        "import matplotlib.pyplot as plt\n",
        "import seaborn as sns\n",
        "import pickle\n",
        "%matplotlib inline"
      ],
      "execution_count": 0,
      "outputs": []
    },
    {
      "cell_type": "markdown",
      "metadata": {
        "id": "7ZqJ_NONJNE8",
        "colab_type": "text"
      },
      "source": [
        "First we will import the data using the data loader function given.<br>\n",
        "We have taken vaidation set as 0.15.<br>"
      ]
    },
    {
      "cell_type": "code",
      "metadata": {
        "id": "t3MI5qtQJNFB",
        "colab_type": "code",
        "colab": {}
      },
      "source": [
        "import data_loader as dl\n",
        "train_features, train_labels, valid_features, valid_labels, test_features, \\\n",
        "test_labels, label_dict = dl.load_dataset(\"diabetic_data.csv\",valid_rate=0.15)"
      ],
      "execution_count": 0,
      "outputs": []
    },
    {
      "cell_type": "code",
      "metadata": {
        "id": "I9OPU-RoJNFL",
        "colab_type": "code",
        "colab": {}
      },
      "source": [
        "#setting column names of all features for the dataframe\n",
        "column_names = [\"encounter_id\",\n",
        "\"patient_nbr\",\n",
        "\"race\",\n",
        "\"gender\",\n",
        "\"age\",\n",
        "\"weight\",\n",
        "\"admission_type_id\",\n",
        "\"discharge_disposition_id\",\n",
        "\"admission_source_id\",\n",
        "\"time_in_hospital\",\n",
        "\"payer_code\",\n",
        "\"medical_specialty\",\n",
        "\"num_lab_procedures\",\n",
        "\"num_procedures\",\n",
        "\"num_medications\",\n",
        "\"number_outpatient\",\n",
        "\"number_emergency\",\n",
        "\"number_inpatient\",\n",
        "\"diag_1\",\n",
        "\"diag_2\",\n",
        "\"diag_3\",\n",
        "\"number_diagnoses\",\n",
        "\"max_glu_serum\",\n",
        "\"A1Cresult\",\n",
        "\"metformin\",\n",
        "\"repaglinide\",\n",
        "\"nateglinide\",\n",
        "\"chlorpropamide\",\n",
        "\"glimepiride\",\n",
        "\"acetohexamide\",\n",
        "\"glipizide\",\n",
        "\"glyburide\",\n",
        "\"tolbutamide\",\n",
        "\"pioglitazone\",\n",
        "\"rosiglitazone\",\n",
        "\"acarbose\",\n",
        "\"miglitol\",\n",
        "\"troglitazone\",\n",
        "\"tolazamide\",\n",
        "\"examide\",\n",
        "\"citoglipton\",\n",
        "\"insulin\",\n",
        "\"glyburide-metformin\",\n",
        "\"glipizide-metformin\",\n",
        "\"glimepiride-pioglitazone\",\n",
        "\"metformin-rosiglitazone\",\n",
        "\"metformin-pioglitazone\",\n",
        "\"change\",\n",
        "\"diabetesMed\"]"
      ],
      "execution_count": 0,
      "outputs": []
    },
    {
      "cell_type": "code",
      "metadata": {
        "id": "M4QiF4YpJNFS",
        "colab_type": "code",
        "colab": {}
      },
      "source": [
        "#column name for class label in dataframe\n",
        "class_names =[\"readmitted\"]"
      ],
      "execution_count": 0,
      "outputs": []
    },
    {
      "cell_type": "code",
      "metadata": {
        "id": "uXqV_-YBJNFi",
        "colab_type": "code",
        "colab": {}
      },
      "source": [
        "#converting all the data obtained from data loader into pandas dataframes\n",
        "df_train = pd.DataFrame(train_features,columns=column_names)\n",
        "df_train_l = pd.DataFrame(train_labels,columns=class_names)\n",
        "df_valid = pd.DataFrame(valid_features,columns=column_names)\n",
        "df_valid_l = pd.DataFrame(valid_labels,columns=class_names)\n",
        "df_test = pd.DataFrame(test_features,columns=column_names)\n",
        "df_test_l = pd.DataFrame(test_labels,columns=class_names)"
      ],
      "execution_count": 0,
      "outputs": []
    },
    {
      "cell_type": "markdown",
      "metadata": {
        "id": "ZJ-2NlLSJNF0",
        "colab_type": "text"
      },
      "source": [
        "We have now given column names to the data according to the columns given in UCI repository.<br>\n",
        "Also, we have loaded the various datasets obtained from the data loader function into pandas dataframes.<br>"
      ]
    },
    {
      "cell_type": "markdown",
      "metadata": {
        "id": "1Nfm1_l5JNF6",
        "colab_type": "text"
      },
      "source": [
        "## Data Exploration"
      ]
    },
    {
      "cell_type": "code",
      "metadata": {
        "id": "emxGDc84JNGB",
        "colab_type": "code",
        "colab": {},
        "outputId": "7a750ce2-d580-4b84-99c6-bffba079ac8b"
      },
      "source": [
        "#exploring the train data\n",
        "df_test.shape"
      ],
      "execution_count": 0,
      "outputs": [
        {
          "output_type": "execute_result",
          "data": {
            "text/plain": [
              "(10175, 49)"
            ]
          },
          "metadata": {
            "tags": []
          },
          "execution_count": 38
        }
      ]
    },
    {
      "cell_type": "markdown",
      "metadata": {
        "id": "jDadg090JNGW",
        "colab_type": "text"
      },
      "source": [
        "The training data has 77,854 data samples and 49 features for each sample.<br>"
      ]
    },
    {
      "cell_type": "code",
      "metadata": {
        "id": "sryF3q8EJNGa",
        "colab_type": "code",
        "colab": {},
        "outputId": "f3fe9cee-d03b-46e4-887f-8e53b2630a97"
      },
      "source": [
        "#show the head of training data\n",
        "df_train.head()"
      ],
      "execution_count": 0,
      "outputs": [
        {
          "output_type": "execute_result",
          "data": {
            "text/html": [
              "<div>\n",
              "<style scoped>\n",
              "    .dataframe tbody tr th:only-of-type {\n",
              "        vertical-align: middle;\n",
              "    }\n",
              "\n",
              "    .dataframe tbody tr th {\n",
              "        vertical-align: top;\n",
              "    }\n",
              "\n",
              "    .dataframe thead th {\n",
              "        text-align: right;\n",
              "    }\n",
              "</style>\n",
              "<table border=\"1\" class=\"dataframe\">\n",
              "  <thead>\n",
              "    <tr style=\"text-align: right;\">\n",
              "      <th></th>\n",
              "      <th>encounter_id</th>\n",
              "      <th>patient_nbr</th>\n",
              "      <th>race</th>\n",
              "      <th>gender</th>\n",
              "      <th>age</th>\n",
              "      <th>weight</th>\n",
              "      <th>admission_type_id</th>\n",
              "      <th>discharge_disposition_id</th>\n",
              "      <th>admission_source_id</th>\n",
              "      <th>time_in_hospital</th>\n",
              "      <th>...</th>\n",
              "      <th>examide</th>\n",
              "      <th>citoglipton</th>\n",
              "      <th>insulin</th>\n",
              "      <th>glyburide-metformin</th>\n",
              "      <th>glipizide-metformin</th>\n",
              "      <th>glimepiride-pioglitazone</th>\n",
              "      <th>metformin-rosiglitazone</th>\n",
              "      <th>metformin-pioglitazone</th>\n",
              "      <th>change</th>\n",
              "      <th>diabetesMed</th>\n",
              "    </tr>\n",
              "  </thead>\n",
              "  <tbody>\n",
              "    <tr>\n",
              "      <th>0</th>\n",
              "      <td>80179686</td>\n",
              "      <td>77919012</td>\n",
              "      <td>?</td>\n",
              "      <td>Male</td>\n",
              "      <td>[60-70)</td>\n",
              "      <td>[150-175)</td>\n",
              "      <td>1</td>\n",
              "      <td>1</td>\n",
              "      <td>7</td>\n",
              "      <td>3</td>\n",
              "      <td>...</td>\n",
              "      <td>No</td>\n",
              "      <td>No</td>\n",
              "      <td>Up</td>\n",
              "      <td>No</td>\n",
              "      <td>No</td>\n",
              "      <td>No</td>\n",
              "      <td>No</td>\n",
              "      <td>No</td>\n",
              "      <td>Ch</td>\n",
              "      <td>Yes</td>\n",
              "    </tr>\n",
              "    <tr>\n",
              "      <th>1</th>\n",
              "      <td>143364030</td>\n",
              "      <td>63195309</td>\n",
              "      <td>Caucasian</td>\n",
              "      <td>Male</td>\n",
              "      <td>[60-70)</td>\n",
              "      <td>?</td>\n",
              "      <td>1</td>\n",
              "      <td>1</td>\n",
              "      <td>7</td>\n",
              "      <td>4</td>\n",
              "      <td>...</td>\n",
              "      <td>No</td>\n",
              "      <td>No</td>\n",
              "      <td>No</td>\n",
              "      <td>No</td>\n",
              "      <td>No</td>\n",
              "      <td>No</td>\n",
              "      <td>No</td>\n",
              "      <td>No</td>\n",
              "      <td>Ch</td>\n",
              "      <td>Yes</td>\n",
              "    </tr>\n",
              "    <tr>\n",
              "      <th>2</th>\n",
              "      <td>78653424</td>\n",
              "      <td>12960612</td>\n",
              "      <td>Caucasian</td>\n",
              "      <td>Female</td>\n",
              "      <td>[80-90)</td>\n",
              "      <td>?</td>\n",
              "      <td>1</td>\n",
              "      <td>3</td>\n",
              "      <td>7</td>\n",
              "      <td>7</td>\n",
              "      <td>...</td>\n",
              "      <td>No</td>\n",
              "      <td>No</td>\n",
              "      <td>No</td>\n",
              "      <td>No</td>\n",
              "      <td>No</td>\n",
              "      <td>No</td>\n",
              "      <td>No</td>\n",
              "      <td>No</td>\n",
              "      <td>Ch</td>\n",
              "      <td>Yes</td>\n",
              "    </tr>\n",
              "    <tr>\n",
              "      <th>3</th>\n",
              "      <td>155069574</td>\n",
              "      <td>102018159</td>\n",
              "      <td>Caucasian</td>\n",
              "      <td>Female</td>\n",
              "      <td>[40-50)</td>\n",
              "      <td>?</td>\n",
              "      <td>5</td>\n",
              "      <td>1</td>\n",
              "      <td>1</td>\n",
              "      <td>2</td>\n",
              "      <td>...</td>\n",
              "      <td>No</td>\n",
              "      <td>No</td>\n",
              "      <td>No</td>\n",
              "      <td>No</td>\n",
              "      <td>No</td>\n",
              "      <td>No</td>\n",
              "      <td>No</td>\n",
              "      <td>No</td>\n",
              "      <td>No</td>\n",
              "      <td>Yes</td>\n",
              "    </tr>\n",
              "    <tr>\n",
              "      <th>4</th>\n",
              "      <td>131849274</td>\n",
              "      <td>87951195</td>\n",
              "      <td>AfricanAmerican</td>\n",
              "      <td>Female</td>\n",
              "      <td>[40-50)</td>\n",
              "      <td>?</td>\n",
              "      <td>2</td>\n",
              "      <td>1</td>\n",
              "      <td>1</td>\n",
              "      <td>2</td>\n",
              "      <td>...</td>\n",
              "      <td>No</td>\n",
              "      <td>No</td>\n",
              "      <td>Steady</td>\n",
              "      <td>No</td>\n",
              "      <td>No</td>\n",
              "      <td>No</td>\n",
              "      <td>No</td>\n",
              "      <td>No</td>\n",
              "      <td>Ch</td>\n",
              "      <td>Yes</td>\n",
              "    </tr>\n",
              "  </tbody>\n",
              "</table>\n",
              "<p>5 rows × 49 columns</p>\n",
              "</div>"
            ],
            "text/plain": [
              "  encounter_id patient_nbr             race  gender      age     weight  \\\n",
              "0     80179686    77919012                ?    Male  [60-70)  [150-175)   \n",
              "1    143364030    63195309        Caucasian    Male  [60-70)          ?   \n",
              "2     78653424    12960612        Caucasian  Female  [80-90)          ?   \n",
              "3    155069574   102018159        Caucasian  Female  [40-50)          ?   \n",
              "4    131849274    87951195  AfricanAmerican  Female  [40-50)          ?   \n",
              "\n",
              "  admission_type_id discharge_disposition_id admission_source_id  \\\n",
              "0                 1                        1                   7   \n",
              "1                 1                        1                   7   \n",
              "2                 1                        3                   7   \n",
              "3                 5                        1                   1   \n",
              "4                 2                        1                   1   \n",
              "\n",
              "  time_in_hospital     ...     examide citoglipton insulin  \\\n",
              "0                3     ...          No          No      Up   \n",
              "1                4     ...          No          No      No   \n",
              "2                7     ...          No          No      No   \n",
              "3                2     ...          No          No      No   \n",
              "4                2     ...          No          No  Steady   \n",
              "\n",
              "  glyburide-metformin glipizide-metformin glimepiride-pioglitazone  \\\n",
              "0                  No                  No                       No   \n",
              "1                  No                  No                       No   \n",
              "2                  No                  No                       No   \n",
              "3                  No                  No                       No   \n",
              "4                  No                  No                       No   \n",
              "\n",
              "  metformin-rosiglitazone metformin-pioglitazone change diabetesMed  \n",
              "0                      No                     No     Ch         Yes  \n",
              "1                      No                     No     Ch         Yes  \n",
              "2                      No                     No     Ch         Yes  \n",
              "3                      No                     No     No         Yes  \n",
              "4                      No                     No     Ch         Yes  \n",
              "\n",
              "[5 rows x 49 columns]"
            ]
          },
          "metadata": {
            "tags": []
          },
          "execution_count": 12
        }
      ]
    },
    {
      "cell_type": "markdown",
      "metadata": {
        "id": "YfOTbEiHJNGu",
        "colab_type": "text"
      },
      "source": [
        "We can see that there are 49 features in the dataset.<br>\n",
        "A quick look tells that some of them are numerical while others are categorical.<br>\n",
        "Also, some of them like `encounter_id` are identification features.<br>"
      ]
    },
    {
      "cell_type": "code",
      "metadata": {
        "id": "vDAasC5TJNG0",
        "colab_type": "code",
        "colab": {},
        "outputId": "eccb37ed-4e0c-45ca-c8e6-1dd46b5d887e"
      },
      "source": [
        "#conversion of class label into numerical values\n",
        "label_dict"
      ],
      "execution_count": 0,
      "outputs": [
        {
          "output_type": "execute_result",
          "data": {
            "text/plain": [
              "{'>30': 0, '<30': 1, 'no': 2}"
            ]
          },
          "metadata": {
            "tags": []
          },
          "execution_count": 13
        }
      ]
    },
    {
      "cell_type": "code",
      "metadata": {
        "id": "DKqAhAisJNHG",
        "colab_type": "code",
        "colab": {},
        "outputId": "512b32ea-7c18-48da-c56f-f76ebd149322"
      },
      "source": [
        "#distribution of class labels\n",
        "df_train_l.groupby('readmitted').size()"
      ],
      "execution_count": 0,
      "outputs": [
        {
          "output_type": "execute_result",
          "data": {
            "text/plain": [
              "readmitted\n",
              "0    27193\n",
              "1     8689\n",
              "2    41972\n",
              "dtype: int64"
            ]
          },
          "metadata": {
            "tags": []
          },
          "execution_count": 14
        }
      ]
    },
    {
      "cell_type": "markdown",
      "metadata": {
        "id": "YRA18bfYJNHY",
        "colab_type": "text"
      },
      "source": [
        "Calculating percentage of each class label in the training dataset."
      ]
    },
    {
      "cell_type": "code",
      "metadata": {
        "id": "5MAJXr1UJNHc",
        "colab_type": "code",
        "colab": {},
        "outputId": "e4d4da81-ae5d-4e2c-a667-9a14be3a4b89"
      },
      "source": [
        "#percentage for class label = 0 (>30 days readmission)\n",
        "percent0 = (df_train_l[df_train_l.readmitted==0].shape[0])*100/df_train_l.shape[0]\n",
        "percent0"
      ],
      "execution_count": 0,
      "outputs": [
        {
          "output_type": "execute_result",
          "data": {
            "text/plain": [
              "34.92819893647083"
            ]
          },
          "metadata": {
            "tags": []
          },
          "execution_count": 15
        }
      ]
    },
    {
      "cell_type": "code",
      "metadata": {
        "id": "LwTjbDP6JNHo",
        "colab_type": "code",
        "colab": {},
        "outputId": "b17f29f9-75f3-412f-92a5-8a0780ab1a03"
      },
      "source": [
        "#percentage for class label = 1 (<30 days readmission)\n",
        "percent1 = (df_train_l[df_train_l.readmitted==1].shape[0])*100/df_train_l.shape[0]\n",
        "percent1"
      ],
      "execution_count": 0,
      "outputs": [
        {
          "output_type": "execute_result",
          "data": {
            "text/plain": [
              "11.16063400724433"
            ]
          },
          "metadata": {
            "tags": []
          },
          "execution_count": 16
        }
      ]
    },
    {
      "cell_type": "code",
      "metadata": {
        "id": "p9mojlKWJNHz",
        "colab_type": "code",
        "colab": {},
        "outputId": "da3aa9bf-7534-4bd2-826f-297c1bb4f4e2"
      },
      "source": [
        "#percentage for class label = 2 (no readmission)\n",
        "percent2 = (df_train_l[df_train_l.readmitted==2].shape[0])*100/df_train_l.shape[0]\n",
        "percent2"
      ],
      "execution_count": 0,
      "outputs": [
        {
          "output_type": "execute_result",
          "data": {
            "text/plain": [
              "53.91116705628484"
            ]
          },
          "metadata": {
            "tags": []
          },
          "execution_count": 17
        }
      ]
    },
    {
      "cell_type": "markdown",
      "metadata": {
        "id": "VtTDCEpiJNH-",
        "colab_type": "text"
      },
      "source": [
        "Visualizing the results above.<br>"
      ]
    },
    {
      "cell_type": "code",
      "metadata": {
        "id": "hs4tLBeFJNIB",
        "colab_type": "code",
        "colab": {},
        "outputId": "a1acbc84-9083-452e-9fa2-9b13ef8defb4"
      },
      "source": [
        "labels = ['0 (>30)','1 (<30)','2 (NO)']\n",
        "percentage = [percent0,percent1,percent2]\n",
        "plt.bar(labels,percentage)\n",
        "plt.xlabel(\"CLass Labels - readmitted\")\n",
        "plt.ylabel(\"Percentage of data samples\")\n",
        "plt.title(\"Percentage wise distribution of the class labels\")\n",
        "plt.savefig(\"distribution.png\")\n",
        "plt.show()"
      ],
      "execution_count": 0,
      "outputs": [
        {
          "output_type": "display_data",
          "data": {
            "image/png": "[encoded data removed]",
            "text/plain": [
              "<Figure size 432x288 with 1 Axes>"
            ]
          },
          "metadata": {
            "tags": []
          }
        }
      ]
    },
    {
      "cell_type": "markdown",
      "metadata": {
        "id": "Xv15oKCxJNIM",
        "colab_type": "text"
      },
      "source": [
        "From the graph we can conclude that,<br>\n",
        "Around 54% patients were not readmitted, which is a majority.<br>\n",
        "However, around 35% patients were readmitted after 30 days.<br>\n",
        "11% were readmitted within 30 days itself, this shows that proper care was not provided the first time.<br>"
      ]
    },
    {
      "cell_type": "markdown",
      "metadata": {
        "id": "uloWiVIcJNIO",
        "colab_type": "text"
      },
      "source": [
        "We can observe that it is an imbalanced classification problem,<br>\n",
        "as the classes are not equally distributed.<br>"
      ]
    },
    {
      "cell_type": "markdown",
      "metadata": {
        "id": "_BWNpkLNJNIP",
        "colab_type": "text"
      },
      "source": [
        "## Feature Engineering"
      ]
    },
    {
      "cell_type": "markdown",
      "metadata": {
        "id": "93SO5SxEJNIS",
        "colab_type": "text"
      },
      "source": [
        "We observed that some of the features were identifiers,<br>\n",
        "and thus they wouldn't be helpful in prediction.<br>\n",
        "So, we remove the features, `encounter_id` , `patient_nbr` and `payer_code`.<br>"
      ]
    },
    {
      "cell_type": "markdown",
      "metadata": {
        "id": "W8RN0FZoJNIU",
        "colab_type": "text"
      },
      "source": [
        "We'll have to remove the features from the train, validation and test data.<br>"
      ]
    },
    {
      "cell_type": "code",
      "metadata": {
        "id": "YxW0392FJNIX",
        "colab_type": "code",
        "colab": {},
        "outputId": "c78fceaf-1034-4b5d-b9ee-ebe3a393c2ce"
      },
      "source": [
        "#finding missing values\n",
        "for i in df_train.columns:\n",
        "    if df_train[i].dtype == object:\n",
        "        if((df_train[i][df_train[i]=='?'].count())>0):\n",
        "            print(i,df_train[i][df_train[i]=='?'].count())"
      ],
      "execution_count": 0,
      "outputs": [
        {
          "output_type": "stream",
          "text": [
            "race 1767\n",
            "weight 75391\n",
            "payer_code 30807\n",
            "medical_specialty 38285\n",
            "diag_1 14\n",
            "diag_2 292\n",
            "diag_3 1124\n"
          ],
          "name": "stdout"
        }
      ]
    },
    {
      "cell_type": "markdown",
      "metadata": {
        "id": "PGvrM76uJNIf",
        "colab_type": "text"
      },
      "source": [
        "Out of the training set of 77,854 data samples, 75,391 samples do not have values in `weight` feature.<br>\n",
        "This is around 97% of the data samples which are missing.<br>\n",
        "So, this feature will not contribute the prediction.<br>\n",
        "We can remove this feature.<br>"
      ]
    },
    {
      "cell_type": "markdown",
      "metadata": {
        "id": "800_yqSHJNIh",
        "colab_type": "text"
      },
      "source": [
        "Also, `medical_specialty` has a lot of missing values (around 50%).<br>\n",
        "This is a fairly high number of missing values. The feature will not contribute much in prediction.<br>\n",
        "So, this feature can also be removed.<br>"
      ]
    },
    {
      "cell_type": "markdown",
      "metadata": {
        "id": "aiBR8i49JNIj",
        "colab_type": "text"
      },
      "source": [
        "We make a scatterplot for the features `citoglipton` and `examide`"
      ]
    },
    {
      "cell_type": "code",
      "metadata": {
        "id": "B4Of06r7JNIl",
        "colab_type": "code",
        "colab": {},
        "outputId": "01083b75-020e-4510-cfa1-92e33bf51742"
      },
      "source": [
        "#scatter plot for citoglipton and examide\n",
        "plt.title(\"scatter plot for citoglipton and examide\")\n",
        "plt.scatter(df_train['citoglipton'],df_train['examide'])\n",
        "plt.show()"
      ],
      "execution_count": 0,
      "outputs": [
        {
          "output_type": "display_data",
          "data": {
            "image/png": "[encoded data removed]",
            "text/plain": [
              "<Figure size 432x288 with 1 Axes>"
            ]
          },
          "metadata": {
            "tags": []
          }
        }
      ]
    },
    {
      "cell_type": "markdown",
      "metadata": {
        "id": "xxYOLUJ4JNI2",
        "colab_type": "text"
      },
      "source": [
        "From the plot we found that the values for both medications are always 'No'.<br>\n",
        "That is they were never administered to the patients in the dataset.<br>\n",
        "These features will also not help in the prediction, so we can remove these features.<br>"
      ]
    },
    {
      "cell_type": "markdown",
      "metadata": {
        "id": "N5HKnEmQJNI3",
        "colab_type": "text"
      },
      "source": [
        "Also, there are 3 levels of diagnoses which are categorical and have many categories.<br>\n",
        "`diag_2` and `diag_3` are secondary and tertiary diagnoses.<br>\n",
        "They also have a lot of missing values.<br>\n",
        "We decide to remove them too.<br>"
      ]
    },
    {
      "cell_type": "code",
      "metadata": {
        "id": "QdALk7glJNI5",
        "colab_type": "code",
        "colab": {}
      },
      "source": [
        "#function to remove a column from the dataframe\n",
        "def remove_col(df,name):\n",
        "    df.drop([name], axis=1, inplace=True)"
      ],
      "execution_count": 0,
      "outputs": []
    },
    {
      "cell_type": "code",
      "metadata": {
        "id": "sQ9_34qHJNI-",
        "colab_type": "code",
        "colab": {}
      },
      "source": [
        "remove_col(df_train,'encounter_id')\n",
        "remove_col(df_train,'patient_nbr')\n",
        "remove_col(df_train,'payer_code')\n",
        "remove_col(df_train,'weight')\n",
        "remove_col(df_train,'medical_specialty')\n",
        "remove_col(df_train,'citoglipton')\n",
        "remove_col(df_train,'examide')\n",
        "remove_col(df_train,'diag_2')\n",
        "remove_col(df_train,'diag_3')\n",
        "\n",
        "remove_col(df_valid,'encounter_id')\n",
        "remove_col(df_valid,'patient_nbr')\n",
        "remove_col(df_valid,'payer_code')\n",
        "remove_col(df_valid,'weight')\n",
        "remove_col(df_valid,'medical_specialty')\n",
        "remove_col(df_valid,'citoglipton')\n",
        "remove_col(df_valid,'examide')\n",
        "remove_col(df_valid,'diag_2')\n",
        "remove_col(df_valid,'diag_3')\n",
        "\n",
        "remove_col(df_test,'encounter_id')\n",
        "remove_col(df_test,'patient_nbr')\n",
        "remove_col(df_test,'payer_code')\n",
        "remove_col(df_test,'weight')\n",
        "remove_col(df_test,'medical_specialty')\n",
        "remove_col(df_test,'citoglipton')\n",
        "remove_col(df_test,'examide')\n",
        "remove_col(df_test,'diag_2')\n",
        "remove_col(df_test,'diag_3')"
      ],
      "execution_count": 0,
      "outputs": []
    },
    {
      "cell_type": "markdown",
      "metadata": {
        "id": "jbmB3T4FJNJC",
        "colab_type": "text"
      },
      "source": [
        "The feature `diag_1` consists of a lot of categories.<br>\n",
        "We make a custom function to convert it into 9 categories.<br>\n",
        "The function is given below.<br>"
      ]
    },
    {
      "cell_type": "code",
      "metadata": {
        "id": "hgjjnizFJNJC",
        "colab_type": "code",
        "colab": {}
      },
      "source": [
        "#function for converting diag_1\n",
        "def convert_dia(df,value):\n",
        "    new_value = value + '_new'\n",
        "    df[new_value] = df[value]\n",
        "    df.loc[df[value].str.contains('V'), [new_value]] = 0\n",
        "    df.loc[df[value].str.contains('E'), [new_value]] = 0\n",
        "    df[new_value] = df[new_value].replace('?', -1)\n",
        "    for index, row in df.iterrows():\n",
        "        if (pd.to_numeric(row[new_value]) >= 390 and pd.to_numeric(row[new_value]) < 460) or (np.floor(pd.to_numeric(row[new_value])) == 785):\n",
        "            df.loc[index, new_value] = 1\n",
        "        elif (pd.to_numeric(row[new_value]) >= 460 and pd.to_numeric(row[new_value]) < 520) or (np.floor(pd.to_numeric(row[new_value])) == 786):\n",
        "            df.loc[index, new_value] = 2\n",
        "        elif (pd.to_numeric(row[new_value]) >= 520 and pd.to_numeric(row[new_value]) < 580) or (np.floor(pd.to_numeric(row[new_value])) == 787):\n",
        "            df.loc[index, new_value] = 3\n",
        "        elif (np.floor(pd.to_numeric(row[new_value])) == 250):\n",
        "            df.loc[index, new_value] = 4\n",
        "        elif (pd.to_numeric(row[new_value]) >= 800 and pd.to_numeric(row[new_value]) < 1000):\n",
        "            df.loc[index, new_value] = 5\n",
        "        elif (pd.to_numeric(row[new_value]) >= 710 and pd.to_numeric(row[new_value]) < 740):\n",
        "            df.loc[index, new_value] = 6\n",
        "        elif (pd.to_numeric(row[new_value]) >= 580 and pd.to_numeric(row[new_value]) < 630) or (np.floor(pd.to_numeric(row[new_value])) == 788):\n",
        "            df.loc[index, new_value] = 7\n",
        "        elif (pd.to_numeric(row[new_value]) >= 140 and pd.to_numeric(row[new_value]) < 240):\n",
        "            df.loc[index, new_value] = 8\n",
        "        else:\n",
        "            df.loc[index, new_value] = 0\n",
        "    df[new_value] = df[new_value].astype(float)"
      ],
      "execution_count": 0,
      "outputs": []
    },
    {
      "cell_type": "code",
      "metadata": {
        "id": "b1H1bEWyJNJH",
        "colab_type": "code",
        "colab": {}
      },
      "source": [
        "convert_dia(df_train,'diag_1')\n",
        "convert_dia(df_valid,'diag_1')\n",
        "convert_dia(df_test,'diag_1')"
      ],
      "execution_count": 0,
      "outputs": []
    },
    {
      "cell_type": "markdown",
      "metadata": {
        "id": "qKeiuYIqJNJK",
        "colab_type": "text"
      },
      "source": [
        "A new feature with the 9 categories has been made, we can now reomve original `diag_1`"
      ]
    },
    {
      "cell_type": "code",
      "metadata": {
        "id": "B6QnI2PxJNJM",
        "colab_type": "code",
        "colab": {}
      },
      "source": [
        "remove_col(df_train,'diag_1')\n",
        "remove_col(df_valid,'diag_1')\n",
        "remove_col(df_test,'diag_1')"
      ],
      "execution_count": 0,
      "outputs": []
    },
    {
      "cell_type": "code",
      "metadata": {
        "id": "d8f0H9j7JNJT",
        "colab_type": "code",
        "colab": {}
      },
      "source": [
        "#function to import pickle file\n",
        "def import_pkl(df,name):\n",
        "    fullname = name+'.pkl'\n",
        "    df = pickle.load(open(fullname, 'rb'))\n",
        "    return df"
      ],
      "execution_count": 0,
      "outputs": []
    },
    {
      "cell_type": "code",
      "metadata": {
        "id": "Xef2y_5EJNJY",
        "colab_type": "code",
        "colab": {}
      },
      "source": [
        "#function to save pickle file\n",
        "def save_pkl(df,name):\n",
        "    fullname = name+'.pkl'\n",
        "    output = open(fullname, 'wb')\n",
        "    pickle.dump(df, output)\n",
        "    output.close()"
      ],
      "execution_count": 0,
      "outputs": []
    },
    {
      "cell_type": "markdown",
      "metadata": {
        "id": "Iy-UWsJ5JNJd",
        "colab_type": "text"
      },
      "source": [
        "Now, we will apply scikit learn label encoder to convert all categorical features into numeric categories.<br>"
      ]
    },
    {
      "cell_type": "code",
      "metadata": {
        "id": "gQHzLfglJNJe",
        "colab_type": "code",
        "colab": {}
      },
      "source": [
        "def lab_enc(df):\n",
        "    \n",
        "    from sklearn.preprocessing import LabelEncoder\n",
        "    \n",
        "    cols = ['age', 'race', 'gender', 'max_glu_serum', 'A1Cresult', 'change','diabetesMed', 'discharge_disposition_id',\n",
        "        'admission_source_id','admission_type_id','metformin', 'repaglinide', 'nateglinide',\n",
        "        'chlorpropamide', 'glimepiride', 'glipizide','glyburide', 'pioglitazone', 'rosiglitazone',\n",
        "        'acarbose', 'miglitol', 'insulin', 'glyburide-metformin','tolazamide', 'metformin-pioglitazone',\n",
        "        'metformin-rosiglitazone', 'glimepiride-pioglitazone','glipizide-metformin', 'troglitazone',\n",
        "        'tolbutamide', 'acetohexamide','diag_1_new']\n",
        "\n",
        "    for col in cols:\n",
        "        lenc = LabelEncoder()\n",
        "        df[col+'_lab'] = lenc.fit_transform(df[col])\n",
        "        df.drop([col], axis=1, inplace=True)"
      ],
      "execution_count": 0,
      "outputs": []
    },
    {
      "cell_type": "code",
      "metadata": {
        "id": "HjqZWntgJNJi",
        "colab_type": "code",
        "colab": {}
      },
      "source": [
        "lab_enc(df_train)\n",
        "lab_enc(df_valid)\n",
        "lab_enc(df_test)"
      ],
      "execution_count": 0,
      "outputs": []
    },
    {
      "cell_type": "code",
      "metadata": {
        "id": "8Q__gTOpJNJk",
        "colab_type": "code",
        "colab": {}
      },
      "source": [
        "def concat_df(df1,df2,df3):\n",
        "    df = pd.concat([df1,df2,df3])\n",
        "    return df"
      ],
      "execution_count": 0,
      "outputs": []
    },
    {
      "cell_type": "code",
      "metadata": {
        "id": "xwArArX2JNJn",
        "colab_type": "code",
        "colab": {}
      },
      "source": [
        "df_full = concat_df(df_train,df_valid,df_test)"
      ],
      "execution_count": 0,
      "outputs": []
    },
    {
      "cell_type": "code",
      "metadata": {
        "id": "PLUJzg_2JNJq",
        "colab_type": "code",
        "colab": {}
      },
      "source": [
        "df_full_l = concat_df(df_train_l,df_valid_l,df_test_l)"
      ],
      "execution_count": 0,
      "outputs": []
    },
    {
      "cell_type": "code",
      "metadata": {
        "id": "zhMOJ3_9JNJt",
        "colab_type": "code",
        "colab": {}
      },
      "source": [
        "#save all dataframes in files\n",
        "save_pkl(df_full_l,'full_l_x')\n",
        "save_pkl(df_full,'full_x')"
      ],
      "execution_count": 0,
      "outputs": []
    },
    {
      "cell_type": "markdown",
      "metadata": {
        "id": "XwdZzNThJNJw",
        "colab_type": "text"
      },
      "source": [
        "We have decided to use one-hot encoding for our categorical features.<br>\n",
        "We have first concatenated the three datasets to ensure integrity.<br>\n",
        "We are maintaining indexes to ensure that they are retrived properly.<br>"
      ]
    },
    {
      "cell_type": "code",
      "metadata": {
        "id": "1RkNJUyvJNJx",
        "colab_type": "code",
        "colab": {}
      },
      "source": [
        "def hot_convert(data):\n",
        "    df_age = pd.get_dummies(data['age_lab'])\n",
        "    df_race = pd.get_dummies(data['race_lab'])\n",
        "    df_gender = pd.get_dummies(data['gender_lab'])\n",
        "    df_max_glu_serum = pd.get_dummies(data['max_glu_serum_lab'])\n",
        "    df_A1Cresult = pd.get_dummies(data['A1Cresult_lab'])\n",
        "    df_change = pd.get_dummies(data['change_lab'])\n",
        "    df_diabetesMed = pd.get_dummies(data['diabetesMed_lab'])\n",
        "    df_discharge_disposition_id = pd.get_dummies(data['discharge_disposition_id_lab'])\n",
        "    df_admission_source_id = pd.get_dummies(data['admission_source_id_lab'])\n",
        "    df_admission_type_id = pd.get_dummies(data['admission_type_id_lab'])\n",
        "    df_diag_1 = pd.get_dummies(data['diag_1_new_lab'])\n",
        "    df_metformin = pd.get_dummies(data['metformin_lab'])\n",
        "    df_repaglinide = pd.get_dummies(data['repaglinide_lab'])\n",
        "    df_nateglinide = pd.get_dummies(data['nateglinide_lab'])\n",
        "    df_chlorpropamide = pd.get_dummies(data['chlorpropamide_lab'])\n",
        "    df_glimepiride = pd.get_dummies(data['glimepiride_lab'])\n",
        "    df_acetohexamide = pd.get_dummies(data['acetohexamide_lab'])\n",
        "    df_glipizide = pd.get_dummies(data['glipizide_lab'])\n",
        "    df_glyburide = pd.get_dummies(data['glyburide_lab'])\n",
        "    df_tolbutamide = pd.get_dummies(data['tolbutamide_lab'])\n",
        "    df_pioglitazone = pd.get_dummies(data['pioglitazone_lab'])\n",
        "    df_rosiglitazone = pd.get_dummies(data['rosiglitazone_lab'])\n",
        "    df_acarbose = pd.get_dummies(data['acarbose_lab'])\n",
        "    df_miglitol = pd.get_dummies(data['miglitol_lab'])\n",
        "    df_troglitazone = pd.get_dummies(data['troglitazone_lab'])\n",
        "    df_tolazamide = pd.get_dummies(data['tolazamide_lab'])\n",
        "    df_insulin = pd.get_dummies(data['insulin_lab'])\n",
        "    df_glyburide_metformin = pd.get_dummies(data['glyburide-metformin_lab'])\n",
        "    df_glipizide_metformin = pd.get_dummies(data['glipizide-metformin_lab'])\n",
        "    df_glimepiride_pioglitazone = pd.get_dummies(data['glimepiride-pioglitazone_lab'])\n",
        "    df_metformin_rosiglitazone = pd.get_dummies(data['metformin-rosiglitazone_lab'])\n",
        "    df_metformin_pioglitazone = pd.get_dummies(data['metformin-pioglitazone_lab'])\n",
        "    \n",
        "\n",
        "    data = pd.concat([data, df_age, df_race, df_gender, df_max_glu_serum, df_A1Cresult, df_change, df_diabetesMed, df_discharge_disposition_id, \n",
        "                      df_admission_source_id, df_admission_type_id, df_diag_1,df_metformin,df_repaglinide,df_nateglinide, \n",
        "                      df_chlorpropamide,df_glimepiride,df_acetohexamide,df_glipizide,df_glyburide,df_tolbutamide,df_pioglitazone,\n",
        "                      df_rosiglitazone,df_acarbose,df_miglitol,df_troglitazone,df_tolazamide,df_insulin,\n",
        "                      df_glyburide_metformin, df_glipizide_metformin, df_glimepiride_pioglitazone,df_metformin_rosiglitazone,\n",
        "                      df_metformin_pioglitazone], axis=1)\n",
        "    data.drop(['age_lab', 'race_lab', 'gender_lab', 'max_glu_serum_lab', 'A1Cresult_lab', 'change_lab', \n",
        "                  'diabetesMed_lab', 'discharge_disposition_id_lab', 'admission_source_id_lab', \n",
        "                  'admission_type_id_lab', 'diag_1_new_lab','metformin_lab','repaglinide_lab','nateglinide_lab','chlorpropamide_lab','glimepiride_lab', \n",
        "               'acetohexamide_lab','glipizide_lab', 'glyburide_lab','tolbutamide_lab','pioglitazone_lab','rosiglitazone_lab','acarbose_lab','miglitol_lab',\n",
        "               'troglitazone_lab','tolazamide_lab','insulin_lab','glyburide-metformin_lab', 'glipizide-metformin_lab', \n",
        "               'glimepiride-pioglitazone_lab','metformin-rosiglitazone_lab', 'metformin-pioglitazone_lab'], axis=1, inplace=True)\n",
        "    return data"
      ],
      "execution_count": 0,
      "outputs": []
    },
    {
      "cell_type": "code",
      "metadata": {
        "id": "ZLpcT6VdJNJ1",
        "colab_type": "code",
        "colab": {}
      },
      "source": [
        "df_full = hot_convert(df_full)"
      ],
      "execution_count": 0,
      "outputs": []
    },
    {
      "cell_type": "markdown",
      "metadata": {
        "id": "ozH_HVouJNJ6",
        "colab_type": "text"
      },
      "source": [
        "Retriving the three datasets preserving original index.<br>"
      ]
    },
    {
      "cell_type": "code",
      "metadata": {
        "id": "ZsKTFVjbJNJ8",
        "colab_type": "code",
        "colab": {}
      },
      "source": [
        "df_1 = df_full.iloc[0:77854]"
      ],
      "execution_count": 0,
      "outputs": []
    },
    {
      "cell_type": "code",
      "metadata": {
        "id": "cuO5TnIjJNJ-",
        "colab_type": "code",
        "colab": {}
      },
      "source": [
        "df_2 = df_full.iloc[77854:91591]"
      ],
      "execution_count": 0,
      "outputs": []
    },
    {
      "cell_type": "code",
      "metadata": {
        "id": "hB6l7-AEJNKD",
        "colab_type": "code",
        "colab": {}
      },
      "source": [
        "df_3 = df_full.iloc[91591:101766]"
      ],
      "execution_count": 0,
      "outputs": []
    },
    {
      "cell_type": "code",
      "metadata": {
        "id": "fV3PW0_RJNKH",
        "colab_type": "code",
        "colab": {}
      },
      "source": [
        "df_1_l = df_full_l.iloc[0:77854]\n",
        "df_2_l = df_full_l.iloc[77854:91591]\n",
        "df_3_l = df_full_l.iloc[91591:101766]"
      ],
      "execution_count": 0,
      "outputs": []
    },
    {
      "cell_type": "markdown",
      "metadata": {
        "id": "MMYFPKgRJNKK",
        "colab_type": "text"
      },
      "source": [
        "We are now scaling all the features using the StandardScaler, to ensure zero mean.<br>"
      ]
    },
    {
      "cell_type": "code",
      "metadata": {
        "id": "lIYxy0v2JNKL",
        "colab_type": "code",
        "colab": {}
      },
      "source": [
        "def scaling(df):\n",
        "    from sklearn import preprocessing\n",
        "    scaler = preprocessing.StandardScaler()\n",
        "    scaled_df = scaler.fit_transform(df)\n",
        "    scaled_df = pd.DataFrame(scaled_df)\n",
        "    return scaled_df"
      ],
      "execution_count": 0,
      "outputs": []
    },
    {
      "cell_type": "code",
      "metadata": {
        "id": "9GagJwxLJNKO",
        "colab_type": "code",
        "colab": {}
      },
      "source": [
        "df_train = scaling(df_1)\n",
        "df_valid = scaling(df_2)\n",
        "df_test = scaling(df_3)"
      ],
      "execution_count": 0,
      "outputs": []
    },
    {
      "cell_type": "markdown",
      "metadata": {
        "id": "OS73ncwKJNKV",
        "colab_type": "text"
      },
      "source": [
        "The final shape of the datasets is given below.<br>"
      ]
    },
    {
      "cell_type": "code",
      "metadata": {
        "id": "DxSH-EJbJNKW",
        "colab_type": "code",
        "colab": {},
        "outputId": "60b1f169-1265-474b-80e5-adb572106446"
      },
      "source": [
        "print(\"final shape of train data: \",df_train.shape)"
      ],
      "execution_count": 0,
      "outputs": [
        {
          "output_type": "stream",
          "text": [
            "final shape of train data:  (77854, 168)\n"
          ],
          "name": "stdout"
        }
      ]
    },
    {
      "cell_type": "code",
      "metadata": {
        "id": "ZvDCyEm-JNKd",
        "colab_type": "code",
        "colab": {},
        "outputId": "060cd772-d89d-409d-c21e-e2462d6b59e6"
      },
      "source": [
        "print(\"final shape of validation data: \",df_valid.shape)"
      ],
      "execution_count": 0,
      "outputs": [
        {
          "output_type": "stream",
          "text": [
            "final shape of validation data:  (13737, 168)\n"
          ],
          "name": "stdout"
        }
      ]
    },
    {
      "cell_type": "code",
      "metadata": {
        "id": "xXr8IDZkJNKg",
        "colab_type": "code",
        "colab": {},
        "outputId": "430f16b0-d02d-4e85-bf56-16f809e493c2"
      },
      "source": [
        "print(\"final shape of test data: \",df_test.shape)"
      ],
      "execution_count": 0,
      "outputs": [
        {
          "output_type": "stream",
          "text": [
            "final shape of test data:  (10175, 168)\n"
          ],
          "name": "stdout"
        }
      ]
    },
    {
      "cell_type": "markdown",
      "metadata": {
        "id": "pr4KU5aQJNKk",
        "colab_type": "text"
      },
      "source": [
        "Finally, we have our preprocessed data.<br>\n",
        "There are a total of `168` features in the dataset.<br>\n",
        "We can now use this data for all of our models.<br>\n",
        "Also, we save these dataframes so that we can directly import data for our models.<br>"
      ]
    },
    {
      "cell_type": "code",
      "metadata": {
        "id": "2gNWw0hMJNKk",
        "colab_type": "code",
        "colab": {}
      },
      "source": [
        "#save all dataframes in files\n",
        "save_pkl(df_train,'train_x')\n",
        "save_pkl(df_valid,'valid_x')\n",
        "save_pkl(df_test,'test_x')\n",
        "save_pkl(df_train_l,'train_x_l')\n",
        "save_pkl(df_valid_l,'valid_x_l')\n",
        "save_pkl(df_test_l,'test_x_l')"
      ],
      "execution_count": 0,
      "outputs": []
    }
  ]
}