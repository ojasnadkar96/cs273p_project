{
  "nbformat": 4,
  "nbformat_minor": 0,
  "metadata": {
    "colab": {
      "name": "decisionTree.ipynb",
      "version": "0.3.2",
      "provenance": [],
      "include_colab_link": true
    },
    "language_info": {
      "codemirror_mode": {
        "name": "ipython",
        "version": 3
      },
      "file_extension": ".py",
      "mimetype": "text/x-python",
      "name": "python",
      "nbconvert_exporter": "python",
      "pygments_lexer": "ipython3",
      "version": "3.7.3"
    },
    "kernelspec": {
      "display_name": "Python 3",
      "language": "python",
      "name": "python3"
    }
  },
  "cells": [
    {
      "cell_type": "markdown",
      "metadata": {
        "id": "view-in-github",
        "colab_type": "text"
      },
      "source": [
        "<a href=\"https://colab.research.google.com/github/ojasnadkar96/cs273p_project/blob/master/decisionTree.ipynb\" target=\"_parent\"><img src=\"https://colab.research.google.com/assets/colab-badge.svg\" alt=\"Open In Colab\"/></a>"
      ]
    },
    {
      "cell_type": "markdown",
      "metadata": {
        "id": "kMDoGdScyx7v",
        "colab_type": "text"
      },
      "source": [
        "# Decision Tree Classification"
      ]
    },
    {
      "cell_type": "code",
      "metadata": {
        "id": "5LTQvAhnyx71",
        "colab_type": "code",
        "colab": {}
      },
      "source": [
        "#Importing all the necessary libraries\n",
        "import pickle\n",
        "import numpy as np\n",
        "import pandas as pd\n",
        "import matplotlib.pyplot as plt\n",
        "import seaborn as sb\n",
        "%matplotlib inline"
      ],
      "execution_count": 0,
      "outputs": []
    },
    {
      "cell_type": "code",
      "metadata": {
        "id": "-8Fft1s7yx8D",
        "colab_type": "code",
        "colab": {}
      },
      "source": [
        "#Function for importing preprocessed data\n",
        "def import_pkl(df,name):\n",
        "    fullname = name+'.pkl'\n",
        "    df = pickle.load(open(fullname, 'rb'))\n",
        "    return df"
      ],
      "execution_count": 0,
      "outputs": []
    },
    {
      "cell_type": "code",
      "metadata": {
        "id": "MTvz_sECyx8O",
        "colab_type": "code",
        "colab": {}
      },
      "source": [
        "#Declaring training, validation and testing pandas dataframes\n",
        "df_train = pd.DataFrame()\n",
        "df_valid = pd.DataFrame()\n",
        "df_test = pd.DataFrame()\n",
        "df_train_l = pd.DataFrame()\n",
        "df_valid_l = pd.DataFrame()\n",
        "df_test_l = pd.DataFrame()"
      ],
      "execution_count": 0,
      "outputs": []
    },
    {
      "cell_type": "code",
      "metadata": {
        "id": "CojQBzofyx8X",
        "colab_type": "code",
        "colab": {}
      },
      "source": [
        "#Loading the preprocessed data into pandas dataframes\n",
        "df_train = import_pkl(df_train,'train_x')\n",
        "df_valid = import_pkl(df_valid,'valid_x')\n",
        "df_test = import_pkl(df_test,'test_x')\n",
        "df_train_l = import_pkl(df_train_l,'train_x_l')\n",
        "df_valid_l = import_pkl(df_valid_l,'valid_x_l')\n",
        "df_test_l = import_pkl(df_test_l,'test_x_l')"
      ],
      "execution_count": 0,
      "outputs": []
    },
    {
      "cell_type": "code",
      "metadata": {
        "id": "GjkJcU6oyx8f",
        "colab_type": "code",
        "colab": {},
        "outputId": "684b69f0-5513-4753-dfdd-a69096eb54fc"
      },
      "source": [
        "print(df_train.shape)\n",
        "print(df_valid.shape)\n",
        "print(df_test.shape)\n",
        "print(df_train_l.shape)\n",
        "print(df_valid_l.shape)\n",
        "print(df_test_l.shape)"
      ],
      "execution_count": 0,
      "outputs": [
        {
          "output_type": "stream",
          "text": [
            "(77854, 168)\n",
            "(13737, 168)\n",
            "(10175, 168)\n",
            "(77854, 1)\n",
            "(13737, 1)\n",
            "(10175, 1)\n"
          ],
          "name": "stdout"
        }
      ]
    },
    {
      "cell_type": "code",
      "metadata": {
        "id": "EaP82xgNyx8p",
        "colab_type": "code",
        "colab": {}
      },
      "source": [
        "#import warnings filter\n",
        "from warnings import simplefilter\n",
        "# ignore all future warnings\n",
        "simplefilter(action='ignore', category=FutureWarning)"
      ],
      "execution_count": 0,
      "outputs": []
    },
    {
      "cell_type": "code",
      "metadata": {
        "id": "r7dnbYHFyx8v",
        "colab_type": "code",
        "colab": {},
        "outputId": "16f7f1e8-03ed-4f08-a95d-5ce209d1ff77"
      },
      "source": [
        "# Decision Tree Model Training\n",
        "from sklearn.tree import DecisionTreeClassifier\n",
        "DecisionTree_model = DecisionTreeClassifier(random_state=0)\n",
        "DecisionTree_model.fit(df_train,np.ravel(df_train_l))"
      ],
      "execution_count": 0,
      "outputs": [
        {
          "output_type": "execute_result",
          "data": {
            "text/plain": [
              "DecisionTreeClassifier(class_weight=None, criterion='gini', max_depth=None,\n",
              "                       max_features=None, max_leaf_nodes=None,\n",
              "                       min_impurity_decrease=0.0, min_impurity_split=None,\n",
              "                       min_samples_leaf=1, min_samples_split=2,\n",
              "                       min_weight_fraction_leaf=0.0, presort=False,\n",
              "                       random_state=0, splitter='best')"
            ]
          },
          "metadata": {
            "tags": []
          },
          "execution_count": 7
        }
      ]
    },
    {
      "cell_type": "markdown",
      "metadata": {
        "id": "pkywZ0oXyx85",
        "colab_type": "text"
      },
      "source": [
        "Here, we created a Decision Tree classifier object and trained it on training data."
      ]
    },
    {
      "cell_type": "code",
      "metadata": {
        "id": "biW1cO4jyx88",
        "colab_type": "code",
        "colab": {},
        "outputId": "2085610d-61b7-4252-c36b-cd75ac4bac21"
      },
      "source": [
        "# Decision Tree Model Training Score\n",
        "Train_score = DecisionTree_model.score(df_train, np.ravel(df_train_l))\n",
        "print('Train score:', Train_score*100)"
      ],
      "execution_count": 0,
      "outputs": [
        {
          "output_type": "stream",
          "text": [
            "Train score: 99.99614663344208\n"
          ],
          "name": "stdout"
        }
      ]
    },
    {
      "cell_type": "code",
      "metadata": {
        "id": "GhYUfSkjyx9J",
        "colab_type": "code",
        "colab": {},
        "outputId": "6cd32b33-8bdd-4fab-83cd-f4331ebf2776"
      },
      "source": [
        "# Decision Tree Model Validation Score\n",
        "score = DecisionTree_model.score(df_valid, np.ravel(df_valid_l))\n",
        "print(score*100)"
      ],
      "execution_count": 0,
      "outputs": [
        {
          "output_type": "stream",
          "text": [
            "47.4848948096382\n"
          ],
          "name": "stdout"
        }
      ]
    },
    {
      "cell_type": "code",
      "metadata": {
        "id": "zhyb4eLkyx9S",
        "colab_type": "code",
        "colab": {},
        "outputId": "60133848-b148-4a62-a399-b9cbf580c772"
      },
      "source": [
        "from pprint import pprint\n",
        "pprint(DecisionTree_model.get_params())"
      ],
      "execution_count": 0,
      "outputs": [
        {
          "output_type": "stream",
          "text": [
            "{'class_weight': None,\n",
            " 'criterion': 'gini',\n",
            " 'max_depth': None,\n",
            " 'max_features': None,\n",
            " 'max_leaf_nodes': None,\n",
            " 'min_impurity_decrease': 0.0,\n",
            " 'min_impurity_split': None,\n",
            " 'min_samples_leaf': 1,\n",
            " 'min_samples_split': 2,\n",
            " 'min_weight_fraction_leaf': 0.0,\n",
            " 'presort': False,\n",
            " 'random_state': 0,\n",
            " 'splitter': 'best'}\n"
          ],
          "name": "stdout"
        }
      ]
    },
    {
      "cell_type": "markdown",
      "metadata": {
        "id": "9XCNBGgHyx9b",
        "colab_type": "text"
      },
      "source": [
        "Decision Tree has all the hyperparameters as listed above. In order to tune the hyperparameters, we use RandomizedSearchCV as below:"
      ]
    },
    {
      "cell_type": "code",
      "metadata": {
        "id": "G97GDn3Oyx9e",
        "colab_type": "code",
        "colab": {},
        "outputId": "dd2d2bb4-2a5e-4a13-f3f8-fa31f29468ee"
      },
      "source": [
        "from sklearn.model_selection import RandomizedSearchCV\n",
        "\n",
        "max_features = ['auto', 'sqrt']\n",
        "max_depth = [10,20,30,40,50]\n",
        "max_depth.append(None)\n",
        "min_samples_split = [2, 6, 10]\n",
        "min_samples_leaf = [1, 2, 4]\n",
        "\n",
        "random_grid = {'max_features': max_features,\n",
        "               'max_depth': max_depth,\n",
        "               'min_samples_split': min_samples_split,\n",
        "               'min_samples_leaf': min_samples_leaf}\n",
        "pprint(random_grid)"
      ],
      "execution_count": 0,
      "outputs": [
        {
          "output_type": "stream",
          "text": [
            "{'max_depth': [10, 20, 30, 40, 50, None],\n",
            " 'max_features': ['auto', 'sqrt'],\n",
            " 'min_samples_leaf': [1, 2, 4],\n",
            " 'min_samples_split': [2, 6, 10]}\n"
          ],
          "name": "stdout"
        }
      ]
    },
    {
      "cell_type": "markdown",
      "metadata": {
        "id": "mmckLJrRyx9o",
        "colab_type": "text"
      },
      "source": [
        "We test the classifier for above random values of hyperparameters as shown by 'random_grid' to find the hyperparameters that give maximum score."
      ]
    },
    {
      "cell_type": "code",
      "metadata": {
        "id": "lq6PHfSFyx9q",
        "colab_type": "code",
        "colab": {},
        "outputId": "e98a210b-9ef4-41d6-82ed-6dc9b444ab45"
      },
      "source": [
        "import numpy as np\n",
        "from sklearn.model_selection import PredefinedSplit\n",
        "Dec_tree = DecisionTreeClassifier()\n",
        "train_len = len(df_train)\n",
        "valid_len = len(df_valid)\n",
        "df_tv = pd.concat([df_train, df_valid], ignore_index = True)\n",
        "df_tv_l = pd.concat([df_train_l, df_valid_l], ignore_index = True)\n",
        "bound = np.array([(i < train_len) * -1 for i in range(train_len + valid_len)])\n",
        "split = PredefinedSplit(bound)\n",
        "Dec_tree = RandomizedSearchCV(estimator = Dec_tree, param_distributions = random_grid, n_iter = 100, n_jobs = 2, verbose = 1, cv = split)\n",
        "\n",
        "Dec_tree.fit(df_tv,np.ravel(df_tv_l))\n",
        "\n",
        "Dec_tree.best_params_"
      ],
      "execution_count": 0,
      "outputs": [
        {
          "output_type": "stream",
          "text": [
            "Fitting 1 folds for each of 100 candidates, totalling 100 fits\n"
          ],
          "name": "stdout"
        },
        {
          "output_type": "stream",
          "text": [
            "[Parallel(n_jobs=2)]: Using backend LokyBackend with 2 concurrent workers.\n",
            "[Parallel(n_jobs=2)]: Done  46 tasks      | elapsed:   35.4s\n",
            "[Parallel(n_jobs=2)]: Done 100 out of 100 | elapsed:  1.1min finished\n"
          ],
          "name": "stderr"
        },
        {
          "output_type": "execute_result",
          "data": {
            "text/plain": [
              "{'min_samples_split': 6,\n",
              " 'min_samples_leaf': 4,\n",
              " 'max_features': 'sqrt',\n",
              " 'max_depth': 10}"
            ]
          },
          "metadata": {
            "tags": []
          },
          "execution_count": 12
        }
      ]
    },
    {
      "cell_type": "markdown",
      "metadata": {
        "id": "3yVWOMyLyx9z",
        "colab_type": "text"
      },
      "source": [
        "Out of all the random values allotted to hyperparameters, above listed values give the maximum score."
      ]
    },
    {
      "cell_type": "markdown",
      "metadata": {
        "id": "bSC9mUoFyx90",
        "colab_type": "text"
      },
      "source": [
        "#### We now train the model on these hyperparameter values and check the score:"
      ]
    },
    {
      "cell_type": "code",
      "metadata": {
        "id": "mnVyWLw0yx91",
        "colab_type": "code",
        "colab": {},
        "outputId": "16e79836-bba1-44d9-d7d1-38c6c7260c15"
      },
      "source": [
        "Dec_tree_new = DecisionTreeClassifier(class_weight='balanced',\n",
        " min_samples_split=2,\n",
        " min_samples_leaf=2,\n",
        " max_features='sqrt',\n",
        " max_depth=10)\n",
        "Dec_tree_new.fit(df_train,np.ravel(df_train_l))\n",
        "Train_score = Dec_tree_new.score(df_train,np.ravel(df_train_l))\n",
        "print(Train_score*100)"
      ],
      "execution_count": 0,
      "outputs": [
        {
          "output_type": "stream",
          "text": [
            "33.962288385953194\n"
          ],
          "name": "stdout"
        }
      ]
    },
    {
      "cell_type": "code",
      "metadata": {
        "id": "YxjJvCTfyx-A",
        "colab_type": "code",
        "colab": {},
        "outputId": "ede71490-b387-486d-9c8a-6ea105011ba5"
      },
      "source": [
        "Valid_score = Dec_tree_new.score(df_valid,np.ravel(df_valid_l))\n",
        "print(Valid_score*100)"
      ],
      "execution_count": 0,
      "outputs": [
        {
          "output_type": "stream",
          "text": [
            "32.68544805998398\n"
          ],
          "name": "stdout"
        }
      ]
    },
    {
      "cell_type": "markdown",
      "metadata": {
        "id": "lZZT4pp6yx-I",
        "colab_type": "text"
      },
      "source": [
        "#### As we can observe here, the training score has decreased while the validation score has increased. This indicates that the model is no more overfitted. However, the score can be furthermore improved using GridSearchCV."
      ]
    },
    {
      "cell_type": "code",
      "metadata": {
        "id": "I2JgZD7yyx-K",
        "colab_type": "code",
        "colab": {},
        "outputId": "376bc7b7-fe2f-474e-dd27-e85216465e52"
      },
      "source": [
        "from sklearn.model_selection import GridSearchCV\n",
        "\n",
        "\n",
        "# Number of features to consider at every split\n",
        "max_features = ['sqrt']\n",
        "# Maximum number of levels in tree\n",
        "max_depth = [10,20]\n",
        "max_depth.append(None)\n",
        "# Minimum number of samples required to split a node\n",
        "min_samples_split = [2,3]\n",
        "# Minimum number of samples required at each leaf node\n",
        "min_samples_leaf = [2, 4]\n",
        "\n",
        "# Create the random grid\n",
        "search_grid = {'max_features': max_features,\n",
        "               'max_depth': max_depth,\n",
        "               'min_samples_split': min_samples_split,\n",
        "               'min_samples_leaf': min_samples_leaf}\n",
        "\n",
        "pprint(search_grid)"
      ],
      "execution_count": 0,
      "outputs": [
        {
          "output_type": "stream",
          "text": [
            "{'max_depth': [10, 20, None],\n",
            " 'max_features': ['sqrt'],\n",
            " 'min_samples_leaf': [2, 4],\n",
            " 'min_samples_split': [2, 3]}\n"
          ],
          "name": "stdout"
        }
      ]
    },
    {
      "cell_type": "markdown",
      "metadata": {
        "id": "QJUeXqHhyx-W",
        "colab_type": "text"
      },
      "source": [
        "Here, we provide hyperparameter value range according to the values obtained in RandomizedCV."
      ]
    },
    {
      "cell_type": "code",
      "metadata": {
        "id": "TR5_HNQvyx-W",
        "colab_type": "code",
        "colab": {},
        "outputId": "ff0521e5-12d9-4d6c-cd55-40820e699ab1"
      },
      "source": [
        "# Create a based model\n",
        "Dec_tree_3 = DecisionTreeClassifier()\n",
        "# Instantiate the grid search model\n",
        "dec3_grid = GridSearchCV(estimator = Dec_tree_3, param_grid = search_grid, n_jobs = 2, verbose = 1, cv = split)\n",
        "\n",
        "# Fit the random search model\n",
        "dec3_grid.fit(df_tv, np.ravel(df_tv_l))\n",
        "\n",
        "dec3_grid.best_params_"
      ],
      "execution_count": 0,
      "outputs": [
        {
          "output_type": "stream",
          "text": [
            "Fitting 1 folds for each of 12 candidates, totalling 12 fits\n"
          ],
          "name": "stdout"
        },
        {
          "output_type": "stream",
          "text": [
            "[Parallel(n_jobs=2)]: Using backend LokyBackend with 2 concurrent workers.\n",
            "[Parallel(n_jobs=2)]: Done  12 out of  12 | elapsed:    8.0s finished\n"
          ],
          "name": "stderr"
        },
        {
          "output_type": "execute_result",
          "data": {
            "text/plain": [
              "{'max_depth': 10,\n",
              " 'max_features': 'sqrt',\n",
              " 'min_samples_leaf': 2,\n",
              " 'min_samples_split': 3}"
            ]
          },
          "metadata": {
            "tags": []
          },
          "execution_count": 16
        }
      ]
    },
    {
      "cell_type": "markdown",
      "metadata": {
        "id": "pZ5C-1F3yx-f",
        "colab_type": "text"
      },
      "source": [
        "#### Thus, we obtained the hyperparameter values that the classifier works best on. Now we calculate final score of the classifier model on these values."
      ]
    },
    {
      "cell_type": "code",
      "metadata": {
        "id": "zi1Ujsl5yx-h",
        "colab_type": "code",
        "colab": {},
        "outputId": "b1b24d83-42b1-4d7f-d3df-8628fa3502b3"
      },
      "source": [
        "Dec_tree_final = DecisionTreeClassifier(max_depth=10, max_features='sqrt', min_samples_leaf=4, min_samples_split=2)\n",
        "Dec_tree_final.fit(df_train, np.ravel(df_train_l))\n",
        "Train_score = Dec_tree_final.score(df_train,np.ravel(df_train_l))\n",
        "print('Final Train score: ',score*100)"
      ],
      "execution_count": 0,
      "outputs": [
        {
          "output_type": "stream",
          "text": [
            "Final Train score:  47.4848948096382\n"
          ],
          "name": "stdout"
        }
      ]
    },
    {
      "cell_type": "code",
      "metadata": {
        "id": "8oOu4sjuyx-p",
        "colab_type": "code",
        "colab": {},
        "outputId": "a18aead5-6278-48ff-b77d-8aca3ee4727a"
      },
      "source": [
        "Valid_score = Dec_tree_final.score(df_valid,np.ravel(df_valid_l))\n",
        "print('Final Validation score: ', Valid_score*100)"
      ],
      "execution_count": 0,
      "outputs": [
        {
          "output_type": "stream",
          "text": [
            "Final Validation score:  55.80548882579893\n"
          ],
          "name": "stdout"
        }
      ]
    },
    {
      "cell_type": "code",
      "metadata": {
        "id": "f8ILV6w6yx-x",
        "colab_type": "code",
        "colab": {},
        "outputId": "0d8a2420-9ac7-4540-8a67-5fce50d46236"
      },
      "source": [
        "# Decision Tree Model Test Score\n",
        "Test_score = Dec_tree_final.score(df_test, np.ravel(df_test_l))\n",
        "print('Final Test score: ',Test_score*100)"
      ],
      "execution_count": 0,
      "outputs": [
        {
          "output_type": "stream",
          "text": [
            "Final Test score:  56.00000000000001\n"
          ],
          "name": "stdout"
        }
      ]
    },
    {
      "cell_type": "markdown",
      "metadata": {
        "id": "H9QOqEkayx-2",
        "colab_type": "text"
      },
      "source": [
        "As we can see, the accuracy scores have increased after hyperparameter tuning."
      ]
    }
  ]
}