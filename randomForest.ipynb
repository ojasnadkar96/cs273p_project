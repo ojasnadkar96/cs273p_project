{
  "nbformat": 4,
  "nbformat_minor": 0,
  "metadata": {
    "colab": {
      "name": "randomForest.ipynb",
      "version": "0.3.2",
      "provenance": [],
      "include_colab_link": true
    },
    "language_info": {
      "codemirror_mode": {
        "name": "ipython",
        "version": 3
      },
      "file_extension": ".py",
      "mimetype": "text/x-python",
      "name": "python",
      "nbconvert_exporter": "python",
      "pygments_lexer": "ipython3",
      "version": "3.6.5"
    },
    "kernelspec": {
      "display_name": "Python 3",
      "language": "python",
      "name": "python3"
    }
  },
  "cells": [
    {
      "cell_type": "markdown",
      "metadata": {
        "id": "view-in-github",
        "colab_type": "text"
      },
      "source": [
        "<a href=\"https://colab.research.google.com/github/ojasnadkar96/cs273p_project/blob/master/randomForest.ipynb\" target=\"_parent\"><img src=\"https://colab.research.google.com/assets/colab-badge.svg\" alt=\"Open In Colab\"/></a>"
      ]
    },
    {
      "cell_type": "markdown",
      "metadata": {
        "id": "AbomNqTMTjlS",
        "colab_type": "text"
      },
      "source": [
        "# Random Forest (168 Features)"
      ]
    },
    {
      "cell_type": "markdown",
      "metadata": {
        "id": "yPQJBryVf87v",
        "colab_type": "text"
      },
      "source": [
        "Importing all the required libraries.<br>"
      ]
    },
    {
      "cell_type": "code",
      "metadata": {
        "id": "sG6vjv8VTjlg",
        "colab_type": "code",
        "colab": {}
      },
      "source": [
        "import pickle\n",
        "import numpy as np\n",
        "import pandas as pd\n",
        "import matplotlib.pyplot as plt\n",
        "import seaborn as sb\n",
        "%matplotlib inline"
      ],
      "execution_count": 0,
      "outputs": []
    },
    {
      "cell_type": "markdown",
      "metadata": {
        "id": "n1VFPPOcgLGG",
        "colab_type": "text"
      },
      "source": [
        "The two functions below are to save and import pickle files.<br>"
      ]
    },
    {
      "cell_type": "code",
      "metadata": {
        "id": "nU10XxewTjl-",
        "colab_type": "code",
        "colab": {}
      },
      "source": [
        "def save_pkl(df,name):\n",
        "    fullname = name+'.pkl'\n",
        "    output = open(fullname, 'wb')\n",
        "    pickle.dump(df, output)\n",
        "    output.close()"
      ],
      "execution_count": 0,
      "outputs": []
    },
    {
      "cell_type": "code",
      "metadata": {
        "id": "krrjg5DTTjmQ",
        "colab_type": "code",
        "colab": {}
      },
      "source": [
        "def import_pkl(df,name):\n",
        "    fullname = name+'.pkl'\n",
        "    df = pickle.load(open(fullname, 'rb'))\n",
        "    return df"
      ],
      "execution_count": 0,
      "outputs": []
    },
    {
      "cell_type": "code",
      "metadata": {
        "id": "eKPTPEZbTjmg",
        "colab_type": "code",
        "colab": {}
      },
      "source": [
        "df_train = pd.DataFrame()\n",
        "df_valid = pd.DataFrame()\n",
        "df_test = pd.DataFrame()\n",
        "df_train_l = pd.DataFrame()\n",
        "df_valid_l = pd.DataFrame()\n",
        "df_test_l = pd.DataFrame()"
      ],
      "execution_count": 0,
      "outputs": []
    },
    {
      "cell_type": "code",
      "metadata": {
        "id": "sJP4QI2uTjmw",
        "colab_type": "code",
        "colab": {}
      },
      "source": [
        "df_train = import_pkl(df_train,'train_x')\n",
        "df_valid = import_pkl(df_valid,'valid_x')\n",
        "df_test = import_pkl(df_test,'test_x')\n",
        "df_train_l = import_pkl(df_train_l,'train_x_l')\n",
        "df_valid_l = import_pkl(df_valid_l,'valid_x_l')\n",
        "df_test_l = import_pkl(df_test_l,'test_x_l')"
      ],
      "execution_count": 0,
      "outputs": []
    },
    {
      "cell_type": "code",
      "metadata": {
        "id": "aFPMSqwJTjm6",
        "colab_type": "code",
        "outputId": "bb767091-d719-4674-d314-74c1a7f1645e",
        "colab": {}
      },
      "source": [
        "print(df_train.shape)\n",
        "print(df_valid.shape)\n",
        "print(df_test.shape)\n",
        "print(df_train_l.shape)\n",
        "print(df_valid_l.shape)\n",
        "print(df_test_l.shape)"
      ],
      "execution_count": 0,
      "outputs": [
        {
          "output_type": "stream",
          "text": [
            "(77854, 168)\n",
            "(13737, 168)\n",
            "(10175, 168)\n",
            "(77854, 1)\n",
            "(13737, 1)\n",
            "(10175, 1)\n"
          ],
          "name": "stdout"
        }
      ]
    },
    {
      "cell_type": "markdown",
      "metadata": {
        "id": "WTiUNdB-hp-B",
        "colab_type": "text"
      },
      "source": [
        "Pre-processed data with a total of 168 features has been imported into dataframes."
      ]
    },
    {
      "cell_type": "code",
      "metadata": {
        "id": "STjHHkYtTjnU",
        "colab_type": "code",
        "colab": {}
      },
      "source": [
        "from sklearn.model_selection import cross_val_score\n",
        "from sklearn.model_selection import train_test_split\n",
        "from warnings import simplefilter\n",
        "# ignore all future warnings\n",
        "simplefilter(action='ignore', category=FutureWarning)\n",
        "from sklearn.metrics import accuracy_score"
      ],
      "execution_count": 0,
      "outputs": []
    },
    {
      "cell_type": "code",
      "metadata": {
        "id": "36Em7Z8zTjnk",
        "colab_type": "code",
        "outputId": "94ad3241-08ed-4056-a483-7385ad676e7f",
        "colab": {}
      },
      "source": [
        "from sklearn.ensemble import RandomForestClassifier\n",
        "rf = RandomForestClassifier(class_weight='balanced')\n",
        "rf.fit(df_train,np.ravel(df_train_l))\n",
        "score = rf1.score(df_train,np.ravel(df_train_l))\n",
        "print(score*100)"
      ],
      "execution_count": 0,
      "outputs": [
        {
          "output_type": "stream",
          "text": [
            "98.02322295578904\n"
          ],
          "name": "stdout"
        }
      ]
    },
    {
      "cell_type": "markdown",
      "metadata": {
        "id": "wZAOUYAIiBvV",
        "colab_type": "text"
      },
      "source": [
        "The accuracy for training data for Random Forest is around 98%<br>"
      ]
    },
    {
      "cell_type": "code",
      "metadata": {
        "id": "yAVeGWs5Tjnz",
        "colab_type": "code",
        "outputId": "e6a1f8ed-e243-44c1-f6cc-6f1dd26cc359",
        "colab": {}
      },
      "source": [
        "score = rf1.score(df_valid,np.ravel(df_valid_l))\n",
        "print(score*100)"
      ],
      "execution_count": 0,
      "outputs": [
        {
          "output_type": "stream",
          "text": [
            "54.553395937977726\n"
          ],
          "name": "stdout"
        }
      ]
    },
    {
      "cell_type": "markdown",
      "metadata": {
        "id": "bhh1_7LziGBs",
        "colab_type": "text"
      },
      "source": [
        "The accuracy for validation data for Random Forest is around 54.5%<br>\n",
        "This looks like overfitting, we have to look at the hyperparameters now.<br>"
      ]
    },
    {
      "cell_type": "code",
      "metadata": {
        "id": "E7iAF6-STjoI",
        "colab_type": "code",
        "outputId": "c4b4f559-879f-4176-dd9c-bc47a705eec9",
        "colab": {}
      },
      "source": [
        "from pprint import pprint\n",
        "pprint(rf.get_params())"
      ],
      "execution_count": 0,
      "outputs": [
        {
          "output_type": "stream",
          "text": [
            "{'bootstrap': True,\n",
            " 'class_weight': 'balanced',\n",
            " 'criterion': 'gini',\n",
            " 'max_depth': None,\n",
            " 'max_features': 'auto',\n",
            " 'max_leaf_nodes': None,\n",
            " 'min_impurity_decrease': 0.0,\n",
            " 'min_impurity_split': None,\n",
            " 'min_samples_leaf': 1,\n",
            " 'min_samples_split': 2,\n",
            " 'min_weight_fraction_leaf': 0.0,\n",
            " 'n_estimators': 10,\n",
            " 'n_jobs': 1,\n",
            " 'oob_score': False,\n",
            " 'random_state': None,\n",
            " 'verbose': 0,\n",
            " 'warm_start': False}\n"
          ],
          "name": "stdout"
        }
      ]
    },
    {
      "cell_type": "markdown",
      "metadata": {
        "id": "8kbW6qOWVVkk",
        "colab_type": "text"
      },
      "source": [
        "These are a parameters being used.<br>"
      ]
    },
    {
      "cell_type": "code",
      "metadata": {
        "id": "PQIOSDFqTjoW",
        "colab_type": "code",
        "outputId": "6b5996d2-38f0-400f-ce77-dcc8bb704d7a",
        "colab": {}
      },
      "source": [
        "from sklearn.model_selection import RandomizedSearchCV\n",
        "\n",
        "n_estimators = [10,20,30,40,50,64,128]\n",
        "max_features = ['auto', 'sqrt']\n",
        "max_depth = [10,20,30,40,50]\n",
        "max_depth.append(None)\n",
        "min_samples_split = [2, 6, 10]\n",
        "min_samples_leaf = [1, 2, 4]\n",
        "bootstrap = [True, False]\n",
        "\n",
        "random_grid = {'n_estimators': n_estimators,\n",
        "               'max_features': max_features,\n",
        "               'max_depth': max_depth,\n",
        "               'min_samples_split': min_samples_split,\n",
        "               'min_samples_leaf': min_samples_leaf,\n",
        "               'bootstrap': bootstrap}\n",
        "\n",
        "pprint(random_grid)"
      ],
      "execution_count": 0,
      "outputs": [
        {
          "output_type": "stream",
          "text": [
            "{'bootstrap': [True, False],\n",
            " 'max_depth': [10, 20, 30, 40, 50, None],\n",
            " 'max_features': ['auto', 'sqrt'],\n",
            " 'min_samples_leaf': [1, 2, 4],\n",
            " 'min_samples_split': [2, 6, 10],\n",
            " 'n_estimators': [10, 20, 30, 40, 50, 64, 128]}\n"
          ],
          "name": "stdout"
        }
      ]
    },
    {
      "cell_type": "markdown",
      "metadata": {
        "id": "ip2-v3lEVuRu",
        "colab_type": "text"
      },
      "source": [
        "Now, we take a set of values for each parameter and pass them through RandomizedCV for 100 iterations.<br>\n",
        "This should give us a good range of better parameters.<br>"
      ]
    },
    {
      "cell_type": "code",
      "metadata": {
        "id": "sNyLeisUiZoB",
        "colab_type": "code",
        "colab": {}
      },
      "source": [
        "from sklearn.model_selection import PredefinedSplit\n",
        "train_len = len(df_train)\n",
        "valid_len = len(df_valid)\n",
        "df_tv = pd.concat([df_train, df_valid], ignore_index = True)\n",
        "df_tv_l = pd.concat([df_train_l, df_valid_l], ignore_index = True)\n",
        "bound = np.array([(i < train_len) * -1 for i in range(train_len + valid_len)])\n",
        "split = PredefinedSplit(bound)"
      ],
      "execution_count": 0,
      "outputs": []
    },
    {
      "cell_type": "markdown",
      "metadata": {
        "id": "XfLqrjQ3V6eH",
        "colab_type": "text"
      },
      "source": [
        "In the RandomizedCV model, we define a custom split for validation.<br>\n",
        "Our validation data is being used as the cross-validation split for RandomizedCV.<br>\n",
        "Below, we have obtained a set of hyperparameters.<br>"
      ]
    },
    {
      "cell_type": "code",
      "metadata": {
        "id": "FI7wxNudTjom",
        "colab_type": "code",
        "outputId": "c228a9c1-b6d9-43ce-a8eb-60570e4da26d",
        "colab": {}
      },
      "source": [
        "\n",
        "rf2 = RandomForestClassifier()\n",
        "rf_random = RandomizedSearchCV(estimator = rf2, param_distributions = random_grid, n_iter = 100, n_jobs = 2, verbose = 1, cv = split)\n",
        "rf_random.fit(df_tv,np.ravel(df_tv_l))\n",
        "rf_random.best_params_"
      ],
      "execution_count": 0,
      "outputs": [
        {
          "output_type": "stream",
          "text": [
            "Fitting 1 folds for each of 100 candidates, totalling 100 fits\n"
          ],
          "name": "stdout"
        },
        {
          "output_type": "stream",
          "text": [
            "[Parallel(n_jobs=2)]: Done  46 tasks      | elapsed:  8.9min\n",
            "[Parallel(n_jobs=2)]: Done 100 out of 100 | elapsed: 18.5min finished\n"
          ],
          "name": "stderr"
        },
        {
          "output_type": "execute_result",
          "data": {
            "text/plain": [
              "{'n_estimators': 128,\n",
              " 'min_samples_split': 6,\n",
              " 'min_samples_leaf': 2,\n",
              " 'max_features': 'auto',\n",
              " 'max_depth': 40,\n",
              " 'bootstrap': False}"
            ]
          },
          "metadata": {
            "tags": []
          },
          "execution_count": 39
        }
      ]
    },
    {
      "cell_type": "markdown",
      "metadata": {
        "id": "Z32cOX8LWBMn",
        "colab_type": "text"
      },
      "source": [
        "Using the hyperparameters obtained above, we will train our model.<br>"
      ]
    },
    {
      "cell_type": "code",
      "metadata": {
        "id": "li4werO8Tjo1",
        "colab_type": "code",
        "outputId": "dc084534-c821-4096-b2ec-2e0a862ef59f",
        "colab": {}
      },
      "source": [
        "from sklearn.ensemble import RandomForestClassifier\n",
        "rf2 = RandomForestClassifier(class_weight='balanced',n_estimators=128,\n",
        " min_samples_split=6,\n",
        " min_samples_leaf=2,\n",
        " max_features='auto',\n",
        " max_depth=40,\n",
        " bootstrap=False)\n",
        "rf2.fit(df_train,np.ravel(df_train_l))\n",
        "score = rf2.score(df_train,np.ravel(df_train_l))\n",
        "print(score*100)"
      ],
      "execution_count": 0,
      "outputs": [
        {
          "output_type": "stream",
          "text": [
            "96.9121689315899\n"
          ],
          "name": "stdout"
        }
      ]
    },
    {
      "cell_type": "code",
      "metadata": {
        "id": "exZQbI-4TjpH",
        "colab_type": "code",
        "outputId": "22e44094-c940-4799-8772-ac7a01afeaa4",
        "colab": {}
      },
      "source": [
        "score = rf2.score(df_valid,np.ravel(df_valid_l))\n",
        "print(score*100)"
      ],
      "execution_count": 0,
      "outputs": [
        {
          "output_type": "stream",
          "text": [
            "56.1476304870059\n"
          ],
          "name": "stdout"
        }
      ]
    },
    {
      "cell_type": "markdown",
      "metadata": {
        "id": "GRXPC1enWFns",
        "colab_type": "text"
      },
      "source": [
        "The train accuracy is 96.9% and the validation accuracy is 56.1%<br>\n",
        "There is less overfitting than before, but the validation accuracy is less than before.<br>\n",
        "Now we will use GridSearchCV on a smaller range of values in hopes of finding good hyperparameter values.<br>"
      ]
    },
    {
      "cell_type": "code",
      "metadata": {
        "id": "F5mvxWWpTjpV",
        "colab_type": "code",
        "outputId": "86871e05-b1bc-4f36-da7c-e429c3e05d1e",
        "colab": {}
      },
      "source": [
        "from sklearn.model_selection import GridSearchCV\n",
        "\n",
        "n_estimators = [128]\n",
        "max_features = ['auto']\n",
        "max_depth = [40,50]\n",
        "max_depth.append(None)\n",
        "min_samples_split = [6, 10]\n",
        "min_samples_leaf = [2, 4]\n",
        "bootstrap = [False]\n",
        "\n",
        "search_grid = {'n_estimators': n_estimators,\n",
        "               'max_features': max_features,\n",
        "               'max_depth': max_depth,\n",
        "               'min_samples_split': min_samples_split,\n",
        "               'min_samples_leaf': min_samples_leaf,\n",
        "               'bootstrap': bootstrap}\n",
        "\n",
        "pprint(search_grid)"
      ],
      "execution_count": 0,
      "outputs": [
        {
          "output_type": "stream",
          "text": [
            "{'bootstrap': [False],\n",
            " 'max_depth': [40, 50, None],\n",
            " 'max_features': ['auto'],\n",
            " 'min_samples_leaf': [2, 4],\n",
            " 'min_samples_split': [6, 10],\n",
            " 'n_estimators': [128]}\n"
          ],
          "name": "stdout"
        }
      ]
    },
    {
      "cell_type": "code",
      "metadata": {
        "id": "4nOeF9DuTjpp",
        "colab_type": "code",
        "outputId": "135e5b73-2f43-4614-a952-20e5eec6c7e5",
        "colab": {}
      },
      "source": [
        "rf3 = RandomForestClassifier()\n",
        "rf_grid = GridSearchCV(estimator = rf3, param_grid = search_grid, n_jobs = 2, verbose = 1, cv = split)\n",
        "rf_grid.fit(df_tv, np.ravel(df_tv_l))\n",
        "rf_grid.best_params_"
      ],
      "execution_count": 0,
      "outputs": [
        {
          "output_type": "stream",
          "text": [
            "Fitting 1 folds for each of 12 candidates, totalling 12 fits\n"
          ],
          "name": "stdout"
        },
        {
          "output_type": "stream",
          "text": [
            "[Parallel(n_jobs=2)]: Done  12 out of  12 | elapsed:  5.9min finished\n"
          ],
          "name": "stderr"
        },
        {
          "output_type": "execute_result",
          "data": {
            "text/plain": [
              "{'bootstrap': False,\n",
              " 'max_depth': None,\n",
              " 'max_features': 'auto',\n",
              " 'min_samples_leaf': 4,\n",
              " 'min_samples_split': 6,\n",
              " 'n_estimators': 128}"
            ]
          },
          "metadata": {
            "tags": []
          },
          "execution_count": 46
        }
      ]
    },
    {
      "cell_type": "code",
      "metadata": {
        "id": "CmQ4-x44Tjp5",
        "colab_type": "code",
        "outputId": "c140a4b9-2900-44b0-e3df-698a44d5ec61",
        "colab": {}
      },
      "source": [
        "from sklearn.ensemble import RandomForestClassifier\n",
        "rf3 = RandomForestClassifier(class_weight='balanced',n_estimators=128,\n",
        " min_samples_split=6,\n",
        " min_samples_leaf=4,\n",
        " max_features='auto',\n",
        " max_depth=None,\n",
        " bootstrap=False)\n",
        "rf3.fit(df_train,np.ravel(df_train_l))\n",
        "score = rf3.score(df_train,np.ravel(df_train_l))\n",
        "print(score*100)"
      ],
      "execution_count": 0,
      "outputs": [
        {
          "output_type": "stream",
          "text": [
            "86.27816168726076\n"
          ],
          "name": "stdout"
        }
      ]
    },
    {
      "cell_type": "code",
      "metadata": {
        "id": "szsTSupVTjqL",
        "colab_type": "code",
        "outputId": "5ef90afb-f20e-4271-bca8-9e980d420320",
        "colab": {}
      },
      "source": [
        "score = rf.score(df_valid,np.ravel(df_valid_l))\n",
        "print(score*100)"
      ],
      "execution_count": 0,
      "outputs": [
        {
          "output_type": "stream",
          "text": [
            "55.25223848001747\n"
          ],
          "name": "stdout"
        }
      ]
    },
    {
      "cell_type": "markdown",
      "metadata": {
        "id": "IHt3mubzWUIh",
        "colab_type": "text"
      },
      "source": [
        "Again, we used GridSearchCV to get better hyperparameters.<br>\n",
        "Now training accuracy is down to 86.2% and validation accuracy is increased to 55%%<br>\n",
        "The model is now overfitting less than before.<br>\n",
        "This seems to be a very good model.<br>\n",
        "Therefore, we will finalize these set of hyperparameters and find the test accuracy.<br>"
      ]
    },
    {
      "cell_type": "code",
      "metadata": {
        "id": "444oK0C7TjqU",
        "colab_type": "code",
        "outputId": "21de3602-b8ef-4931-ea49-6061389b05ec",
        "colab": {}
      },
      "source": [
        "score = rf.score(df_test,np.ravel(df_test_l))\n",
        "print(score*100)"
      ],
      "execution_count": 0,
      "outputs": [
        {
          "output_type": "stream",
          "text": [
            "55.10565110565111\n"
          ],
          "name": "stdout"
        }
      ]
    },
    {
      "cell_type": "markdown",
      "metadata": {
        "id": "p3wdnv1jWt7y",
        "colab_type": "text"
      },
      "source": [
        "The test accuracy on this model is 55.1%.<br>\n",
        "So, by using hyperparameter tuning method we got the best rise in validation acuracy.<br>\n",
        "It increase by around 1%<br>"
      ]
    }
  ]
}