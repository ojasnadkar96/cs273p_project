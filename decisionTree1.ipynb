{
  "nbformat": 4,
  "nbformat_minor": 0,
  "metadata": {
    "colab": {
      "name": "decisionTree1.ipynb",
      "version": "0.3.2",
      "provenance": [],
      "include_colab_link": true
    },
    "language_info": {
      "codemirror_mode": {
        "name": "ipython",
        "version": 3
      },
      "file_extension": ".py",
      "mimetype": "text/x-python",
      "name": "python",
      "nbconvert_exporter": "python",
      "pygments_lexer": "ipython3",
      "version": "3.7.3"
    },
    "kernelspec": {
      "display_name": "Python 3",
      "language": "python",
      "name": "python3"
    }
  },
  "cells": [
    {
      "cell_type": "markdown",
      "metadata": {
        "id": "view-in-github",
        "colab_type": "text"
      },
      "source": [
        "<a href=\"https://colab.research.google.com/github/ojasnadkar96/cs273p_project/blob/master/decisionTree1.ipynb\" target=\"_parent\"><img src=\"https://colab.research.google.com/assets/colab-badge.svg\" alt=\"Open In Colab\"/></a>"
      ]
    },
    {
      "cell_type": "markdown",
      "metadata": {
        "id": "HygVeabDk6Qx",
        "colab_type": "text"
      },
      "source": [
        "# Decision Tree Classification"
      ]
    },
    {
      "cell_type": "code",
      "metadata": {
        "id": "RbNkllNRk6Q2",
        "colab_type": "code",
        "colab": {}
      },
      "source": [
        "#Importing all the necessary libraries\n",
        "import pickle\n",
        "import numpy as np\n",
        "import pandas as pd\n",
        "import matplotlib.pyplot as plt\n",
        "import seaborn as sb\n",
        "%matplotlib inline"
      ],
      "execution_count": 0,
      "outputs": []
    },
    {
      "cell_type": "code",
      "metadata": {
        "id": "P5mcWq6Pk6RH",
        "colab_type": "code",
        "colab": {}
      },
      "source": [
        "#Function for importing preprocessed data\n",
        "def import_pkl(df,name):\n",
        "    fullname = name+'.pkl'\n",
        "    df = pickle.load(open(fullname, 'rb'))\n",
        "    return df"
      ],
      "execution_count": 0,
      "outputs": []
    },
    {
      "cell_type": "code",
      "metadata": {
        "id": "u1p2dDlsk6RQ",
        "colab_type": "code",
        "colab": {}
      },
      "source": [
        "#Declaring training, validation and testing pandas dataframes\n",
        "df_train = pd.DataFrame()\n",
        "df_valid = pd.DataFrame()\n",
        "df_test = pd.DataFrame()\n",
        "df_train_l = pd.DataFrame()\n",
        "df_valid_l = pd.DataFrame()\n",
        "df_test_l = pd.DataFrame()"
      ],
      "execution_count": 0,
      "outputs": []
    },
    {
      "cell_type": "code",
      "metadata": {
        "id": "5VFH7bsWk6RZ",
        "colab_type": "code",
        "colab": {}
      },
      "source": [
        "#Loading the preprocessed data into pandas dataframes\n",
        "df_train = import_pkl(df_train,'train_x')\n",
        "df_valid = import_pkl(df_valid,'valid_x')\n",
        "df_test = import_pkl(df_test,'test_x')\n",
        "df_train_l = import_pkl(df_train_l,'train_x_l')\n",
        "df_valid_l = import_pkl(df_valid_l,'valid_x_l')\n",
        "df_test_l = import_pkl(df_test_l,'test_x_l')"
      ],
      "execution_count": 0,
      "outputs": []
    },
    {
      "cell_type": "code",
      "metadata": {
        "id": "MdzI-lyYk6Rk",
        "colab_type": "code",
        "colab": {},
        "outputId": "8a09895b-2e44-49af-d413-56235ee721ed"
      },
      "source": [
        "print(df_train.shape)\n",
        "print(df_valid.shape)\n",
        "print(df_test.shape)\n",
        "print(df_train_l.shape)\n",
        "print(df_valid_l.shape)\n",
        "print(df_test_l.shape)"
      ],
      "execution_count": 0,
      "outputs": [
        {
          "output_type": "stream",
          "text": [
            "(77854, 168)\n",
            "(13737, 168)\n",
            "(10175, 168)\n",
            "(77854, 1)\n",
            "(13737, 1)\n",
            "(10175, 1)\n"
          ],
          "name": "stdout"
        }
      ]
    },
    {
      "cell_type": "code",
      "metadata": {
        "id": "tALVuNQ9k6Rz",
        "colab_type": "code",
        "colab": {}
      },
      "source": [
        "#import warnings filter\n",
        "from warnings import simplefilter\n",
        "# ignore all future warnings\n",
        "simplefilter(action='ignore', category=FutureWarning)"
      ],
      "execution_count": 0,
      "outputs": []
    },
    {
      "cell_type": "code",
      "metadata": {
        "id": "wrB0JjcOk6R7",
        "colab_type": "code",
        "colab": {},
        "outputId": "58cc1d20-1c76-47f1-db51-e71d2efe713c"
      },
      "source": [
        "# Decision Tree Model Training\n",
        "from sklearn.tree import DecisionTreeClassifier\n",
        "DecisionTree_model = DecisionTreeClassifier(random_state=0)\n",
        "DecisionTree_model.fit(df_train,np.ravel(df_train_l))"
      ],
      "execution_count": 0,
      "outputs": [
        {
          "output_type": "execute_result",
          "data": {
            "text/plain": [
              "DecisionTreeClassifier(class_weight=None, criterion='gini', max_depth=None,\n",
              "                       max_features=None, max_leaf_nodes=None,\n",
              "                       min_impurity_decrease=0.0, min_impurity_split=None,\n",
              "                       min_samples_leaf=1, min_samples_split=2,\n",
              "                       min_weight_fraction_leaf=0.0, presort=False,\n",
              "                       random_state=0, splitter='best')"
            ]
          },
          "metadata": {
            "tags": []
          },
          "execution_count": 7
        }
      ]
    },
    {
      "cell_type": "markdown",
      "metadata": {
        "id": "hGOzRFnrk6SI",
        "colab_type": "text"
      },
      "source": [
        "Here, we created a Decision Tree classifier object and trained it on training data."
      ]
    },
    {
      "cell_type": "code",
      "metadata": {
        "id": "-EIcSctgk6SK",
        "colab_type": "code",
        "colab": {},
        "outputId": "5c083071-3368-4824-ca2c-a5a7570dfd4b"
      },
      "source": [
        "# Decision Tree Model Training Score\n",
        "Train_score = DecisionTree_model.score(df_train, np.ravel(df_train_l))\n",
        "print('Train score:', Train_score*100)"
      ],
      "execution_count": 0,
      "outputs": [
        {
          "output_type": "stream",
          "text": [
            "Train score: 99.99614663344208\n"
          ],
          "name": "stdout"
        }
      ]
    },
    {
      "cell_type": "code",
      "metadata": {
        "id": "fHx6Zfkpk6SY",
        "colab_type": "code",
        "colab": {},
        "outputId": "d6d795ab-680b-4aa5-e5c3-3c7a6d63cb90"
      },
      "source": [
        "# Decision Tree Model Validation Score\n",
        "score = DecisionTree_model.score(df_valid, np.ravel(df_valid_l))\n",
        "print(score*100)"
      ],
      "execution_count": 0,
      "outputs": [
        {
          "output_type": "stream",
          "text": [
            "47.4848948096382\n"
          ],
          "name": "stdout"
        }
      ]
    },
    {
      "cell_type": "code",
      "metadata": {
        "id": "A2jL30VHk6Sj",
        "colab_type": "code",
        "colab": {},
        "outputId": "68a24c87-486d-4f18-83ec-a1bb5d0af1c6"
      },
      "source": [
        "from pprint import pprint\n",
        "pprint(DecisionTree_model.get_params())"
      ],
      "execution_count": 0,
      "outputs": [
        {
          "output_type": "stream",
          "text": [
            "{'class_weight': None,\n",
            " 'criterion': 'gini',\n",
            " 'max_depth': None,\n",
            " 'max_features': None,\n",
            " 'max_leaf_nodes': None,\n",
            " 'min_impurity_decrease': 0.0,\n",
            " 'min_impurity_split': None,\n",
            " 'min_samples_leaf': 1,\n",
            " 'min_samples_split': 2,\n",
            " 'min_weight_fraction_leaf': 0.0,\n",
            " 'presort': False,\n",
            " 'random_state': 0,\n",
            " 'splitter': 'best'}\n"
          ],
          "name": "stdout"
        }
      ]
    },
    {
      "cell_type": "markdown",
      "metadata": {
        "id": "ag7pEDMqk6Sx",
        "colab_type": "text"
      },
      "source": [
        "Decision Tree has all the hyperparameters as listed above. In order to tune the hyperparameters, we use RandomizedSearchCV as below:"
      ]
    },
    {
      "cell_type": "code",
      "metadata": {
        "id": "3FYhr7IPk6S2",
        "colab_type": "code",
        "colab": {},
        "outputId": "30f88b36-7e1d-4b02-ad0b-1c73cf3acd5e"
      },
      "source": [
        "from sklearn.model_selection import RandomizedSearchCV\n",
        "\n",
        "max_features = ['auto', 'sqrt']\n",
        "max_depth = [10,20,30,40,50]\n",
        "max_depth.append(None)\n",
        "min_samples_split = [2, 6, 10]\n",
        "min_samples_leaf = [1, 2, 4]\n",
        "\n",
        "random_grid = {'max_features': max_features,\n",
        "               'max_depth': max_depth,\n",
        "               'min_samples_split': min_samples_split,\n",
        "               'min_samples_leaf': min_samples_leaf}\n",
        "pprint(random_grid)"
      ],
      "execution_count": 0,
      "outputs": [
        {
          "output_type": "stream",
          "text": [
            "{'max_depth': [10, 20, 30, 40, 50, None],\n",
            " 'max_features': ['auto', 'sqrt'],\n",
            " 'min_samples_leaf': [1, 2, 4],\n",
            " 'min_samples_split': [2, 6, 10]}\n"
          ],
          "name": "stdout"
        }
      ]
    },
    {
      "cell_type": "markdown",
      "metadata": {
        "id": "ZOwtbyTSk6TA",
        "colab_type": "text"
      },
      "source": [
        "We test the classifier for above random values of hyperparameters as shown by 'random_grid' to find the hyperparameters that give maximum score."
      ]
    },
    {
      "cell_type": "code",
      "metadata": {
        "id": "V-lt0EB-k6TC",
        "colab_type": "code",
        "colab": {},
        "outputId": "a33e8ff0-e2f1-4a53-bbe8-15299f134cac"
      },
      "source": [
        "import numpy as np\n",
        "from sklearn.model_selection import PredefinedSplit\n",
        "Dec_tree = DecisionTreeClassifier()\n",
        "train_len = len(df_train)\n",
        "valid_len = len(df_valid)\n",
        "df_tv = pd.concat([df_train, df_valid], ignore_index = True)\n",
        "df_tv_l = pd.concat([df_train_l, df_valid_l], ignore_index = True)\n",
        "bound = np.array([(i < train_len) * -1 for i in range(train_len + valid_len)])\n",
        "split = PredefinedSplit(bound)\n",
        "Dec_tree = RandomizedSearchCV(estimator = Dec_tree, param_distributions = random_grid, n_iter = 100, n_jobs = 2, verbose = 1, cv = split)\n",
        "\n",
        "Dec_tree.fit(df_tv,np.ravel(df_tv_l))\n",
        "\n",
        "Dec_tree.best_params_"
      ],
      "execution_count": 0,
      "outputs": [
        {
          "output_type": "stream",
          "text": [
            "Fitting 1 folds for each of 100 candidates, totalling 100 fits\n"
          ],
          "name": "stdout"
        },
        {
          "output_type": "stream",
          "text": [
            "[Parallel(n_jobs=2)]: Using backend LokyBackend with 2 concurrent workers.\n",
            "[Parallel(n_jobs=2)]: Done  46 tasks      | elapsed:   35.4s\n",
            "[Parallel(n_jobs=2)]: Done 100 out of 100 | elapsed:  1.1min finished\n"
          ],
          "name": "stderr"
        },
        {
          "output_type": "execute_result",
          "data": {
            "text/plain": [
              "{'min_samples_split': 6,\n",
              " 'min_samples_leaf': 4,\n",
              " 'max_features': 'sqrt',\n",
              " 'max_depth': 10}"
            ]
          },
          "metadata": {
            "tags": []
          },
          "execution_count": 12
        }
      ]
    },
    {
      "cell_type": "markdown",
      "metadata": {
        "id": "sw4X-CTXk6TN",
        "colab_type": "text"
      },
      "source": [
        "Out of all the random values allotted to hyperparameters, above listed values give the maximum score."
      ]
    },
    {
      "cell_type": "markdown",
      "metadata": {
        "id": "bj0IyV5ik6TQ",
        "colab_type": "text"
      },
      "source": [
        "#### We now train the model on these hyperparameter values and check the score:"
      ]
    },
    {
      "cell_type": "code",
      "metadata": {
        "id": "ad5yKncCk6TR",
        "colab_type": "code",
        "colab": {},
        "outputId": "e9271e71-02db-4994-dcde-3d6cb8bcbe77"
      },
      "source": [
        "Dec_tree_new = DecisionTreeClassifier(class_weight='balanced',\n",
        " min_samples_split=2,\n",
        " min_samples_leaf=2,\n",
        " max_features='sqrt',\n",
        " max_depth=10)\n",
        "Dec_tree_new.fit(df_train,np.ravel(df_train_l))\n",
        "Train_score = Dec_tree_new.score(df_train,np.ravel(df_train_l))\n",
        "print(Train_score*100)"
      ],
      "execution_count": 0,
      "outputs": [
        {
          "output_type": "stream",
          "text": [
            "33.962288385953194\n"
          ],
          "name": "stdout"
        }
      ]
    },
    {
      "cell_type": "code",
      "metadata": {
        "id": "dmf6ruZNk6Te",
        "colab_type": "code",
        "colab": {},
        "outputId": "8110671c-1d96-491b-b082-ba9fa7769712"
      },
      "source": [
        "Valid_score = Dec_tree_new.score(df_valid,np.ravel(df_valid_l))\n",
        "print(Valid_score*100)"
      ],
      "execution_count": 0,
      "outputs": [
        {
          "output_type": "stream",
          "text": [
            "32.68544805998398\n"
          ],
          "name": "stdout"
        }
      ]
    },
    {
      "cell_type": "markdown",
      "metadata": {
        "id": "9vTpbGgSk6To",
        "colab_type": "text"
      },
      "source": [
        "#### As we can observe here, the training score has decreased while the validation score has increased. This indicates that the model is no more overfitted. However, the score can be furthermore improved using GridSearchCV."
      ]
    },
    {
      "cell_type": "code",
      "metadata": {
        "id": "8JlnwmeYk6Tr",
        "colab_type": "code",
        "colab": {},
        "outputId": "39d0d70d-a076-49fb-e3ec-1d7816335880"
      },
      "source": [
        "from sklearn.model_selection import GridSearchCV\n",
        "\n",
        "\n",
        "# Number of features to consider at every split\n",
        "max_features = ['sqrt']\n",
        "# Maximum number of levels in tree\n",
        "max_depth = [10,20]\n",
        "max_depth.append(None)\n",
        "# Minimum number of samples required to split a node\n",
        "min_samples_split = [2,3]\n",
        "# Minimum number of samples required at each leaf node\n",
        "min_samples_leaf = [2, 4]\n",
        "\n",
        "# Create the random grid\n",
        "search_grid = {'max_features': max_features,\n",
        "               'max_depth': max_depth,\n",
        "               'min_samples_split': min_samples_split,\n",
        "               'min_samples_leaf': min_samples_leaf}\n",
        "\n",
        "pprint(search_grid)"
      ],
      "execution_count": 0,
      "outputs": [
        {
          "output_type": "stream",
          "text": [
            "{'max_depth': [10, 20, None],\n",
            " 'max_features': ['sqrt'],\n",
            " 'min_samples_leaf': [2, 4],\n",
            " 'min_samples_split': [2, 3]}\n"
          ],
          "name": "stdout"
        }
      ]
    },
    {
      "cell_type": "markdown",
      "metadata": {
        "id": "lciOjRvsk6T1",
        "colab_type": "text"
      },
      "source": [
        "Here, we provide hyperparameter value range according to the values obtained in RandomizedCV."
      ]
    },
    {
      "cell_type": "code",
      "metadata": {
        "id": "YKwD76uxk6T5",
        "colab_type": "code",
        "colab": {},
        "outputId": "9f092bed-3a7c-4d78-ff0e-0d752d985401"
      },
      "source": [
        "# Create a based model\n",
        "Dec_tree_3 = DecisionTreeClassifier()\n",
        "# Instantiate the grid search model\n",
        "dec3_grid = GridSearchCV(estimator = Dec_tree_3, param_grid = search_grid, n_jobs = 2, verbose = 1, cv = split)\n",
        "\n",
        "# Fit the random search model\n",
        "dec3_grid.fit(df_tv, np.ravel(df_tv_l))\n",
        "\n",
        "dec3_grid.best_params_"
      ],
      "execution_count": 0,
      "outputs": [
        {
          "output_type": "stream",
          "text": [
            "Fitting 1 folds for each of 12 candidates, totalling 12 fits\n"
          ],
          "name": "stdout"
        },
        {
          "output_type": "stream",
          "text": [
            "[Parallel(n_jobs=2)]: Using backend LokyBackend with 2 concurrent workers.\n",
            "[Parallel(n_jobs=2)]: Done  12 out of  12 | elapsed:    8.0s finished\n"
          ],
          "name": "stderr"
        },
        {
          "output_type": "execute_result",
          "data": {
            "text/plain": [
              "{'max_depth': 10,\n",
              " 'max_features': 'sqrt',\n",
              " 'min_samples_leaf': 2,\n",
              " 'min_samples_split': 3}"
            ]
          },
          "metadata": {
            "tags": []
          },
          "execution_count": 16
        }
      ]
    },
    {
      "cell_type": "markdown",
      "metadata": {
        "id": "vmClFZdok6UG",
        "colab_type": "text"
      },
      "source": [
        "#### Thus, we obtained the hyperparameter values that the classifier works best on. Now we calculate final score of the classifier model on these values."
      ]
    },
    {
      "cell_type": "code",
      "metadata": {
        "id": "HGfpVW71k6UL",
        "colab_type": "code",
        "colab": {},
        "outputId": "f773a538-35a3-4db6-9165-c7a21506bd63"
      },
      "source": [
        "Dec_tree_final = DecisionTreeClassifier(max_depth=10, max_features='sqrt', min_samples_leaf=4, min_samples_split=2)\n",
        "Dec_tree_final.fit(df_train, np.ravel(df_train_l))\n",
        "Train_score = Dec_tree_final.score(df_train,np.ravel(df_train_l))\n",
        "print('Final Train score: ',score*100)"
      ],
      "execution_count": 0,
      "outputs": [
        {
          "output_type": "stream",
          "text": [
            "Final Train score:  47.4848948096382\n"
          ],
          "name": "stdout"
        }
      ]
    },
    {
      "cell_type": "code",
      "metadata": {
        "id": "GTwlSgmVk6UU",
        "colab_type": "code",
        "colab": {},
        "outputId": "f6a8e47d-7485-4f81-bffa-f15e4f7d35f2"
      },
      "source": [
        "Valid_score = Dec_tree_final.score(df_valid,np.ravel(df_valid_l))\n",
        "print('Final Validation score: ', Valid_score*100)"
      ],
      "execution_count": 0,
      "outputs": [
        {
          "output_type": "stream",
          "text": [
            "Final Validation score:  55.80548882579893\n"
          ],
          "name": "stdout"
        }
      ]
    },
    {
      "cell_type": "code",
      "metadata": {
        "id": "Q-NcXjZZk6Uf",
        "colab_type": "code",
        "colab": {},
        "outputId": "3546ae82-a6d3-4151-f66a-bc1795d1a802"
      },
      "source": [
        "# Decision Tree Model Test Score\n",
        "Test_score = Dec_tree_final.score(df_test, np.ravel(df_test_l))\n",
        "print('Final Test score: ',Test_score*100)"
      ],
      "execution_count": 0,
      "outputs": [
        {
          "output_type": "stream",
          "text": [
            "Final Test score:  56.00000000000001\n"
          ],
          "name": "stdout"
        }
      ]
    },
    {
      "cell_type": "markdown",
      "metadata": {
        "id": "mJgNkJ2fk6Um",
        "colab_type": "text"
      },
      "source": [
        "As we can see, the accuracy scores have increased after hyperparameter tuning."
      ]
    }
  ]
}