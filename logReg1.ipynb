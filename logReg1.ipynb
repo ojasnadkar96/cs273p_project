{
  "nbformat": 4,
  "nbformat_minor": 0,
  "metadata": {
    "colab": {
      "name": "logReg1.ipynb",
      "version": "0.3.2",
      "provenance": [],
      "collapsed_sections": [],
      "include_colab_link": true
    },
    "kernelspec": {
      "name": "python3",
      "display_name": "Python 3"
    }
  },
  "cells": [
    {
      "cell_type": "markdown",
      "metadata": {
        "id": "view-in-github",
        "colab_type": "text"
      },
      "source": [
        "<a href=\"https://colab.research.google.com/github/ojasnadkar96/cs273p_project/blob/master/logReg1.ipynb\" target=\"_parent\"><img src=\"https://colab.research.google.com/assets/colab-badge.svg\" alt=\"Open In Colab\"/></a>"
      ]
    },
    {
      "cell_type": "markdown",
      "metadata": {
        "id": "2-SNtYoZTswA",
        "colab_type": "text"
      },
      "source": [
        "# Logistic Regression Classification"
      ]
    },
    {
      "cell_type": "markdown",
      "metadata": {
        "id": "yGRCDDI7TtBx",
        "colab_type": "text"
      },
      "source": [
        "Importing all the necessary libraries,"
      ]
    },
    {
      "cell_type": "code",
      "metadata": {
        "id": "YuSSA7v8IU6x",
        "colab_type": "code",
        "colab": {}
      },
      "source": [
        "import pickle\n",
        "import numpy as np\n",
        "import pandas as pd\n",
        "import matplotlib.pyplot as plt\n",
        "import seaborn as sb\n",
        "%matplotlib inline"
      ],
      "execution_count": 0,
      "outputs": []
    },
    {
      "cell_type": "code",
      "metadata": {
        "id": "GsqMFMzEIqK6",
        "colab_type": "code",
        "colab": {}
      },
      "source": [
        "#Function for importing preprocessed data\n",
        "def import_pkl(df,name):\n",
        "    fullname = name+'.pkl'\n",
        "    df = pickle.load(open(fullname, 'rb'))\n",
        "    return df"
      ],
      "execution_count": 0,
      "outputs": []
    },
    {
      "cell_type": "code",
      "metadata": {
        "id": "9j7sCDg-It9q",
        "colab_type": "code",
        "colab": {}
      },
      "source": [
        "#Declaring training, validation and testing dataframes\n",
        "df_train = pd.DataFrame()\n",
        "df_valid = pd.DataFrame()\n",
        "df_test = pd.DataFrame()\n",
        "df_train_l = pd.DataFrame()\n",
        "df_valid_l = pd.DataFrame()\n",
        "df_test_l = pd.DataFrame()"
      ],
      "execution_count": 0,
      "outputs": []
    },
    {
      "cell_type": "code",
      "metadata": {
        "id": "37t5hKqfIxJn",
        "colab_type": "code",
        "colab": {}
      },
      "source": [
        "#Loading the preprocessed data into pandas dataframes\n",
        "df_train = import_pkl(df_train,'train_x')\n",
        "df_valid = import_pkl(df_valid,'valid_x')\n",
        "df_test = import_pkl(df_test,'test_x')\n",
        "df_train_l = import_pkl(df_train_l,'train_x_l')\n",
        "df_valid_l = import_pkl(df_valid_l,'valid_x_l')\n",
        "df_test_l = import_pkl(df_test_l,'test_x_l')"
      ],
      "execution_count": 0,
      "outputs": []
    },
    {
      "cell_type": "code",
      "metadata": {
        "id": "UndYc2s0I1ZO",
        "colab_type": "code",
        "outputId": "57bb9795-dec4-4fcb-c453-105f6994ebfa",
        "colab": {
          "base_uri": "https://localhost:8080/",
          "height": 118
        }
      },
      "source": [
        "print(df_train.shape)\n",
        "print(df_valid.shape)\n",
        "print(df_test.shape)\n",
        "print(df_train_l.shape)\n",
        "print(df_valid_l.shape)\n",
        "print(df_test_l.shape)"
      ],
      "execution_count": 0,
      "outputs": [
        {
          "output_type": "stream",
          "text": [
            "(77854, 168)\n",
            "(13737, 168)\n",
            "(10175, 168)\n",
            "(77854, 1)\n",
            "(13737, 1)\n",
            "(10175, 1)\n"
          ],
          "name": "stdout"
        }
      ]
    },
    {
      "cell_type": "code",
      "metadata": {
        "id": "dcs4twUEKWdv",
        "colab_type": "code",
        "colab": {}
      },
      "source": [
        "#import warnings filter\n",
        "from warnings import simplefilter\n",
        "# ignore all future warnings\n",
        "simplefilter(action='ignore', category=FutureWarning)"
      ],
      "execution_count": 0,
      "outputs": []
    },
    {
      "cell_type": "code",
      "metadata": {
        "id": "NbZ1hmylKa0-",
        "colab_type": "code",
        "outputId": "b1a2c1a1-1350-4b14-babb-aa1aaad9864b",
        "colab": {
          "base_uri": "https://localhost:8080/",
          "height": 101
        }
      },
      "source": [
        "#Logistic Regression Model Training\n",
        "from sklearn.linear_model import LogisticRegression\n",
        "LogReg_model = LogisticRegression(class_weight='balanced')\n",
        "LogReg_model.fit(df_train,np.ravel(df_train_l))"
      ],
      "execution_count": 0,
      "outputs": [
        {
          "output_type": "execute_result",
          "data": {
            "text/plain": [
              "LogisticRegression(C=1.0, class_weight='balanced', dual=False,\n",
              "                   fit_intercept=True, intercept_scaling=1, l1_ratio=None,\n",
              "                   max_iter=100, multi_class='warn', n_jobs=None, penalty='l2',\n",
              "                   random_state=None, solver='warn', tol=0.0001, verbose=0,\n",
              "                   warm_start=False)"
            ]
          },
          "metadata": {
            "tags": []
          },
          "execution_count": 7
        }
      ]
    },
    {
      "cell_type": "code",
      "metadata": {
        "id": "_99iGCaYKibh",
        "colab_type": "code",
        "outputId": "08f426fb-ed2a-47e7-94aa-c8de38a478d8",
        "colab": {
          "base_uri": "https://localhost:8080/",
          "height": 34
        }
      },
      "source": [
        "#Logistic Regression Training Score\n",
        "score = LogReg_model.score(df_train,np.ravel(df_train_l))\n",
        "print('Training error: ', score*100)"
      ],
      "execution_count": 0,
      "outputs": [
        {
          "output_type": "stream",
          "text": [
            "Training error:  56.47750918385697\n"
          ],
          "name": "stdout"
        }
      ]
    },
    {
      "cell_type": "code",
      "metadata": {
        "id": "Wg4CwbXvK0gc",
        "colab_type": "code",
        "outputId": "233825cb-ffb4-4508-af7c-ab57fe412c72",
        "colab": {
          "base_uri": "https://localhost:8080/",
          "height": 34
        }
      },
      "source": [
        "#Logistic Regression Validation Score\n",
        "score = LogReg_model.score(df_valid,np.ravel(df_valid_l))\n",
        "print('Validation error: ', score*100)"
      ],
      "execution_count": 0,
      "outputs": [
        {
          "output_type": "stream",
          "text": [
            "Validation error:  56.16218970663173\n"
          ],
          "name": "stdout"
        }
      ]
    },
    {
      "cell_type": "code",
      "metadata": {
        "id": "FCzUJ9COK4NK",
        "colab_type": "code",
        "outputId": "31a9753e-cd7a-45c8-b124-cf721e6300e0",
        "colab": {
          "base_uri": "https://localhost:8080/",
          "height": 269
        }
      },
      "source": [
        "from pprint import pprint\n",
        "pprint(LogReg_model.get_params())"
      ],
      "execution_count": 0,
      "outputs": [
        {
          "output_type": "stream",
          "text": [
            "{'C': 1.0,\n",
            " 'class_weight': 'balanced',\n",
            " 'dual': False,\n",
            " 'fit_intercept': True,\n",
            " 'intercept_scaling': 1,\n",
            " 'l1_ratio': None,\n",
            " 'max_iter': 100,\n",
            " 'multi_class': 'warn',\n",
            " 'n_jobs': None,\n",
            " 'penalty': 'l2',\n",
            " 'random_state': None,\n",
            " 'solver': 'warn',\n",
            " 'tol': 0.0001,\n",
            " 'verbose': 0,\n",
            " 'warm_start': False}\n"
          ],
          "name": "stdout"
        }
      ]
    },
    {
      "cell_type": "markdown",
      "metadata": {
        "id": "BExXxq3MqBVa",
        "colab_type": "text"
      },
      "source": [
        "Above are all the parameters in the logistic regression model. We head to RandomizedSearchCV to start with hyperparameter tuning."
      ]
    },
    {
      "cell_type": "code",
      "metadata": {
        "id": "nXrlrgH9K66Q",
        "colab_type": "code",
        "outputId": "cc2bd9d9-9d6a-46c6-9602-6b8a04c25aed",
        "colab": {
          "base_uri": "https://localhost:8080/",
          "height": 84
        }
      },
      "source": [
        "from sklearn.model_selection import RandomizedSearchCV\n",
        "\n",
        "penalty = ['l1', 'l2']\n",
        "C = [1, 10, 100]\n",
        "max_iter = [10, 20]\n",
        "tol = [0.01, 0.001]\n",
        "\n",
        "# Create the random grid\n",
        "random_grid = {'penalty': penalty,\n",
        "               'max_iter': max_iter,\n",
        "               'C': C,\n",
        "               'tol': tol}\n",
        "pprint(random_grid)"
      ],
      "execution_count": 0,
      "outputs": [
        {
          "output_type": "stream",
          "text": [
            "{'C': [1, 10, 100],\n",
            " 'max_iter': [10, 20],\n",
            " 'penalty': ['l1', 'l2'],\n",
            " 'tol': [0.01, 0.001]}\n"
          ],
          "name": "stdout"
        }
      ]
    },
    {
      "cell_type": "code",
      "metadata": {
        "id": "3ntOv6vNK_La",
        "colab_type": "code",
        "outputId": "ed4b0ba3-bbed-4d30-d80f-161230b3179f",
        "colab": {
          "base_uri": "https://localhost:8080/",
          "height": 373
        }
      },
      "source": [
        "import numpy as np\n",
        "from sklearn.model_selection import PredefinedSplit\n",
        "LogReg_modelgcv = LogisticRegression()\n",
        "train_len = len(df_train)\n",
        "valid_len = len(df_valid)\n",
        "df_tv = pd.concat([df_train, df_valid], ignore_index = True)\n",
        "df_tv_l = pd.concat([df_train_l, df_valid_l], ignore_index = True)\n",
        "bound = np.array([(i < train_len) * -1 for i in range(train_len + valid_len)])\n",
        "split = PredefinedSplit(bound)\n",
        "logreg_random = RandomizedSearchCV(estimator = LogReg_modelgcv, param_distributions = random_grid, n_iter = 100, n_jobs = -1, verbose = 1, cv = split)\n",
        "\n",
        "logreg_random.fit(df_tv,np.ravel(df_tv_l))\n",
        "\n",
        "logreg_random.best_params_"
      ],
      "execution_count": 0,
      "outputs": [
        {
          "output_type": "stream",
          "text": [
            "Fitting 1 folds for each of 24 candidates, totalling 24 fits\n"
          ],
          "name": "stdout"
        },
        {
          "output_type": "stream",
          "text": [
            "/usr/local/lib/python3.6/dist-packages/sklearn/model_selection/_search.py:266: UserWarning: The total space of parameters 24 is smaller than n_iter=100. Running 24 iterations. For exhaustive searches, use GridSearchCV.\n",
            "  % (grid_size, self.n_iter, grid_size), UserWarning)\n",
            "[Parallel(n_jobs=-1)]: Using backend LokyBackend with 2 concurrent workers.\n",
            "/usr/local/lib/python3.6/dist-packages/joblib/externals/loky/process_executor.py:706: UserWarning: A worker stopped while some jobs were given to the executor. This can be caused by a too short worker timeout or by a memory leak.\n",
            "  \"timeout or by a memory leak.\", UserWarning\n",
            "/usr/local/lib/python3.6/dist-packages/joblib/externals/loky/process_executor.py:706: UserWarning: A worker stopped while some jobs were given to the executor. This can be caused by a too short worker timeout or by a memory leak.\n",
            "  \"timeout or by a memory leak.\", UserWarning\n",
            "/usr/local/lib/python3.6/dist-packages/joblib/externals/loky/process_executor.py:706: UserWarning: A worker stopped while some jobs were given to the executor. This can be caused by a too short worker timeout or by a memory leak.\n",
            "  \"timeout or by a memory leak.\", UserWarning\n",
            "/usr/local/lib/python3.6/dist-packages/joblib/externals/loky/process_executor.py:706: UserWarning: A worker stopped while some jobs were given to the executor. This can be caused by a too short worker timeout or by a memory leak.\n",
            "  \"timeout or by a memory leak.\", UserWarning\n",
            "/usr/local/lib/python3.6/dist-packages/joblib/externals/loky/process_executor.py:706: UserWarning: A worker stopped while some jobs were given to the executor. This can be caused by a too short worker timeout or by a memory leak.\n",
            "  \"timeout or by a memory leak.\", UserWarning\n",
            "/usr/local/lib/python3.6/dist-packages/joblib/externals/loky/process_executor.py:706: UserWarning: A worker stopped while some jobs were given to the executor. This can be caused by a too short worker timeout or by a memory leak.\n",
            "  \"timeout or by a memory leak.\", UserWarning\n",
            "[Parallel(n_jobs=-1)]: Done  24 out of  24 | elapsed:  3.8min finished\n",
            "/usr/local/lib/python3.6/dist-packages/sklearn/svm/base.py:929: ConvergenceWarning: Liblinear failed to converge, increase the number of iterations.\n",
            "  \"the number of iterations.\", ConvergenceWarning)\n"
          ],
          "name": "stderr"
        },
        {
          "output_type": "execute_result",
          "data": {
            "text/plain": [
              "{'C': 10, 'max_iter': 10, 'penalty': 'l2', 'tol': 0.001}"
            ]
          },
          "metadata": {
            "tags": []
          },
          "execution_count": 12
        }
      ]
    },
    {
      "cell_type": "markdown",
      "metadata": {
        "id": "vbcP7alDqTN3",
        "colab_type": "text"
      },
      "source": [
        "Out of all the random parameter values, the model has performed best on the parameter values in output above. Now, we train the model on these parameters and check the accuracy."
      ]
    },
    {
      "cell_type": "code",
      "metadata": {
        "id": "7j18VTLJLu-i",
        "colab_type": "code",
        "outputId": "e7dc9101-0153-4e03-fcb6-63118eeb118b",
        "colab": {
          "base_uri": "https://localhost:8080/",
          "height": 34
        }
      },
      "source": [
        "logreg_new = LogisticRegression(class_weight='balanced',\n",
        " C=10,\n",
        " max_iter=10,\n",
        " penalty='l2',\n",
        " tol=0.001)\n",
        "logreg_new.fit(df_train,np.ravel(df_train_l))\n",
        "score = logreg_new.score(df_train,np.ravel(df_train_l))\n",
        "print(score*100)"
      ],
      "execution_count": 0,
      "outputs": [
        {
          "output_type": "stream",
          "text": [
            "56.47750918385697\n"
          ],
          "name": "stdout"
        }
      ]
    },
    {
      "cell_type": "code",
      "metadata": {
        "id": "65lMRPqBkYDc",
        "colab_type": "code",
        "outputId": "95838a54-629f-4509-83a3-3c95ad0873e3",
        "colab": {
          "base_uri": "https://localhost:8080/",
          "height": 34
        }
      },
      "source": [
        "score = logreg_new.score(df_valid,np.ravel(df_valid_l))\n",
        "print(score*100)"
      ],
      "execution_count": 0,
      "outputs": [
        {
          "output_type": "stream",
          "text": [
            "56.15491009681881\n"
          ],
          "name": "stdout"
        }
      ]
    },
    {
      "cell_type": "markdown",
      "metadata": {
        "id": "Sq9XhyAxrjq1",
        "colab_type": "text"
      },
      "source": [
        "As we can see, there is a negligible increase in the accuracy. This could be due to the fact that we used RandomizedSearchCV instead of GridSearchCV. So, now we perform GridSearchCV to increase the accuracy."
      ]
    },
    {
      "cell_type": "code",
      "metadata": {
        "id": "99DdCH8hkjhp",
        "colab_type": "code",
        "outputId": "d2c520e7-31bb-44c5-ea4a-d0861c0b017f",
        "colab": {
          "base_uri": "https://localhost:8080/",
          "height": 34
        }
      },
      "source": [
        "from sklearn.model_selection import GridSearchCV\n",
        "\n",
        "\n",
        "max_iter = [10,20]\n",
        "\n",
        "C = [10]\n",
        "\n",
        "penalty = ['l2']\n",
        "\n",
        "tol = [0.01, 0.001]\n",
        "\n",
        "\n",
        "search_grid = {'max_iter' : max_iter,\n",
        "               'C': C,\n",
        "               'penalty': penalty,\n",
        "               'tol': tol}\n",
        "\n",
        "pprint(search_grid)"
      ],
      "execution_count": 0,
      "outputs": [
        {
          "output_type": "stream",
          "text": [
            "{'C': [10], 'max_iter': [10, 20], 'penalty': ['l2'], 'tol': [0.01, 0.001]}\n"
          ],
          "name": "stdout"
        }
      ]
    },
    {
      "cell_type": "code",
      "metadata": {
        "id": "M-Alco74lhfx",
        "colab_type": "code",
        "outputId": "ef653702-37ce-4b05-94b8-96432ca7f563",
        "colab": {
          "base_uri": "https://localhost:8080/",
          "height": 138
        }
      },
      "source": [
        "# Create a based model\n",
        "log_reg_3 = LogisticRegression()\n",
        "# Instantiate the grid search model\n",
        "logreg_grid = GridSearchCV(estimator = log_reg_3, param_grid = search_grid, n_jobs = 2, verbose = 1, cv = split)\n",
        "\n",
        "# Fit the random search model\n",
        "logreg_grid.fit(df_tv, np.ravel(df_tv_l))\n",
        "\n",
        "logreg_grid.best_params_"
      ],
      "execution_count": 0,
      "outputs": [
        {
          "output_type": "stream",
          "text": [
            "Fitting 1 folds for each of 4 candidates, totalling 4 fits\n"
          ],
          "name": "stdout"
        },
        {
          "output_type": "stream",
          "text": [
            "[Parallel(n_jobs=2)]: Using backend LokyBackend with 2 concurrent workers.\n",
            "[Parallel(n_jobs=2)]: Done   4 out of   4 | elapsed:   53.5s finished\n",
            "/usr/local/lib/python3.6/dist-packages/sklearn/svm/base.py:929: ConvergenceWarning: Liblinear failed to converge, increase the number of iterations.\n",
            "  \"the number of iterations.\", ConvergenceWarning)\n"
          ],
          "name": "stderr"
        },
        {
          "output_type": "execute_result",
          "data": {
            "text/plain": [
              "{'C': 10, 'max_iter': 10, 'penalty': 'l2', 'tol': 0.001}"
            ]
          },
          "metadata": {
            "tags": []
          },
          "execution_count": 21
        }
      ]
    },
    {
      "cell_type": "markdown",
      "metadata": {
        "id": "fJyoucD7sQSK",
        "colab_type": "text"
      },
      "source": [
        "Now, we find the final score of the model with hyperparameters tuned as above."
      ]
    },
    {
      "cell_type": "code",
      "metadata": {
        "id": "nxq2Iq0LmBYa",
        "colab_type": "code",
        "outputId": "3800210f-3755-4d12-c7b3-a4d4f2ab7325",
        "colab": {
          "base_uri": "https://localhost:8080/",
          "height": 34
        }
      },
      "source": [
        "logreg_final = LogisticRegression(C=10, max_iter=10, penalty='l2', tol=0.001)\n",
        "logreg_final.fit(df_train, np.ravel(df_train_l))\n",
        "score = logreg_final.score(df_train,np.ravel(df_train_l))\n",
        "print(score*100)"
      ],
      "execution_count": 0,
      "outputs": [
        {
          "output_type": "stream",
          "text": [
            "58.0419760063709\n"
          ],
          "name": "stdout"
        }
      ]
    },
    {
      "cell_type": "code",
      "metadata": {
        "id": "5zRCWeBnnz9a",
        "colab_type": "code",
        "outputId": "9d188ac6-40be-4c14-bf45-1eb07e0b99f4",
        "colab": {
          "base_uri": "https://localhost:8080/",
          "height": 34
        }
      },
      "source": [
        "score = logreg_final.score(df_valid,np.ravel(df_valid_l))\n",
        "print(score*100)"
      ],
      "execution_count": 0,
      "outputs": [
        {
          "output_type": "stream",
          "text": [
            "57.95297372060858\n"
          ],
          "name": "stdout"
        }
      ]
    },
    {
      "cell_type": "code",
      "metadata": {
        "id": "qgHsWgproFMz",
        "colab_type": "code",
        "outputId": "f851c720-9b9e-443d-c18b-792a3f505086",
        "colab": {
          "base_uri": "https://localhost:8080/",
          "height": 34
        }
      },
      "source": [
        "score = logreg_final.score(df_test,np.ravel(df_test_l))\n",
        "print(score*100)"
      ],
      "execution_count": 0,
      "outputs": [
        {
          "output_type": "stream",
          "text": [
            "58.37837837837838\n"
          ],
          "name": "stdout"
        }
      ]
    },
    {
      "cell_type": "markdown",
      "metadata": {
        "id": "KNaHP4gLsDF1",
        "colab_type": "text"
      },
      "source": [
        "As we can see, the accuracy has increased from 56% to 58% after Grid SearchCV."
      ]
    }
  ]
}