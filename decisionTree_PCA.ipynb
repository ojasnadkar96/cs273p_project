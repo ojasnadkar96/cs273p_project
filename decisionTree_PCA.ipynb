{
  "nbformat": 4,
  "nbformat_minor": 0,
  "metadata": {
    "colab": {
      "name": "decisionTree_PCA.ipynb",
      "version": "0.3.2",
      "provenance": [],
      "include_colab_link": true
    },
    "language_info": {
      "codemirror_mode": {
        "name": "ipython",
        "version": 3
      },
      "file_extension": ".py",
      "mimetype": "text/x-python",
      "name": "python",
      "nbconvert_exporter": "python",
      "pygments_lexer": "ipython3",
      "version": "3.7.3"
    },
    "kernelspec": {
      "display_name": "Python 3",
      "language": "python",
      "name": "python3"
    }
  },
  "cells": [
    {
      "cell_type": "markdown",
      "metadata": {
        "id": "view-in-github",
        "colab_type": "text"
      },
      "source": [
        "<a href=\"https://colab.research.google.com/github/ojasnadkar96/cs273p_project/blob/master/decisionTree_PCA.ipynb\" target=\"_parent\"><img src=\"https://colab.research.google.com/assets/colab-badge.svg\" alt=\"Open In Colab\"/></a>"
      ]
    },
    {
      "cell_type": "markdown",
      "metadata": {
        "id": "LSPvDFrbyzrW",
        "colab_type": "text"
      },
      "source": [
        "# Decision Tree (PCA)"
      ]
    },
    {
      "cell_type": "markdown",
      "metadata": {
        "id": "SfJZezZTyzrc",
        "colab_type": "text"
      },
      "source": [
        "Importing all the required libraries."
      ]
    },
    {
      "cell_type": "code",
      "metadata": {
        "id": "S61W0A17yzrf",
        "colab_type": "code",
        "colab": {}
      },
      "source": [
        "import pickle\n",
        "import numpy as np\n",
        "import pandas as pd\n",
        "import matplotlib.pyplot as plt\n",
        "import seaborn as sb\n",
        "%matplotlib inline"
      ],
      "execution_count": 0,
      "outputs": []
    },
    {
      "cell_type": "markdown",
      "metadata": {
        "id": "c1OfNwOoyzrs",
        "colab_type": "text"
      },
      "source": [
        "The two functions below are to save and import pickle files.<br>"
      ]
    },
    {
      "cell_type": "code",
      "metadata": {
        "id": "sOvH3hMsyzrv",
        "colab_type": "code",
        "colab": {}
      },
      "source": [
        "def save_pkl(df,name):\n",
        "    fullname = name+'.pkl'\n",
        "    output = open(fullname, 'wb')\n",
        "    pickle.dump(df, output)\n",
        "    output.close()"
      ],
      "execution_count": 0,
      "outputs": []
    },
    {
      "cell_type": "code",
      "metadata": {
        "id": "Uqk3rEZHyzr4",
        "colab_type": "code",
        "colab": {}
      },
      "source": [
        "def import_pkl(df,name):\n",
        "    fullname = name+'.pkl'\n",
        "    df = pickle.load(open(fullname, 'rb'))\n",
        "    return df"
      ],
      "execution_count": 0,
      "outputs": []
    },
    {
      "cell_type": "code",
      "metadata": {
        "id": "VaW__ImEyzr_",
        "colab_type": "code",
        "colab": {}
      },
      "source": [
        "df_train = pd.DataFrame()\n",
        "df_valid = pd.DataFrame()\n",
        "df_test = pd.DataFrame()\n",
        "df_train_l = pd.DataFrame()\n",
        "df_valid_l = pd.DataFrame()\n",
        "df_test_l = pd.DataFrame()"
      ],
      "execution_count": 0,
      "outputs": []
    },
    {
      "cell_type": "code",
      "metadata": {
        "id": "eEJwWhh0yzsI",
        "colab_type": "code",
        "colab": {}
      },
      "source": [
        "df_train = import_pkl(df_train,'train_x')\n",
        "df_valid = import_pkl(df_valid,'valid_x')\n",
        "df_test = import_pkl(df_test,'test_x')\n",
        "df_train_l = import_pkl(df_train_l,'train_x_l')\n",
        "df_valid_l = import_pkl(df_valid_l,'valid_x_l')\n",
        "df_test_l = import_pkl(df_test_l,'test_x_l')"
      ],
      "execution_count": 0,
      "outputs": []
    },
    {
      "cell_type": "code",
      "metadata": {
        "id": "KJ_hJOAJyzsP",
        "colab_type": "code",
        "colab": {},
        "outputId": "34fc3977-4de9-4d3c-a1a4-a5d0604b4367"
      },
      "source": [
        "print(df_train.shape)\n",
        "print(df_valid.shape)\n",
        "print(df_test.shape)\n",
        "print(df_train_l.shape)\n",
        "print(df_valid_l.shape)\n",
        "print(df_test_l.shape)"
      ],
      "execution_count": 0,
      "outputs": [
        {
          "output_type": "stream",
          "text": [
            "(77854, 168)\n",
            "(13737, 168)\n",
            "(10175, 168)\n",
            "(77854, 1)\n",
            "(13737, 1)\n",
            "(10175, 1)\n"
          ],
          "name": "stdout"
        }
      ]
    },
    {
      "cell_type": "markdown",
      "metadata": {
        "id": "qbuAWHb1yzsc",
        "colab_type": "text"
      },
      "source": [
        "Pre-processed data with a total of 168 features has been imported into dataframes.<br>\n",
        "We will apply PCA on these datasets to reduce the dimensionality of this data.<br>"
      ]
    },
    {
      "cell_type": "code",
      "metadata": {
        "id": "RuOIGKq2yzsg",
        "colab_type": "code",
        "colab": {}
      },
      "source": [
        "from sklearn.decomposition import PCA\n",
        "dims = []\n",
        "variances = []\n",
        "optimum_dim = 168\n",
        "threshold=0.01\n",
        "for dim in range(1, 168):\n",
        "    pca = PCA(n_components=dim)\n",
        "    pca.fit(df_train)\n",
        "    variance = np.array(pca.explained_variance_ratio_)\n",
        "    variance = variance.min()\n",
        "    if threshold < variance:\n",
        "        optimum_dim = dim\n",
        "        dims.append(dim)\n",
        "        variances.append(variance)\n",
        "    else:\n",
        "        break"
      ],
      "execution_count": 0,
      "outputs": []
    },
    {
      "cell_type": "code",
      "metadata": {
        "id": "VDGweQzcyzsm",
        "colab_type": "code",
        "colab": {},
        "outputId": "e34c13d8-465a-41af-bb6c-bdff405a56b3"
      },
      "source": [
        "print(optimum_dim)\n",
        "import matplotlib.pyplot as plt\n",
        "plt.plot(dims, variances)\n",
        "plt.show()"
      ],
      "execution_count": 0,
      "outputs": [
        {
          "output_type": "stream",
          "text": [
            "24\n"
          ],
          "name": "stdout"
        },
        {
          "output_type": "display_data",
          "data": {
            "image/png": "[encoded data removed]",
            "text/plain": [
              "<Figure size 432x288 with 1 Axes>"
            ]
          },
          "metadata": {
            "tags": [],
            "needs_background": "light"
          }
        }
      ]
    },
    {
      "cell_type": "markdown",
      "metadata": {
        "id": "F2paD6K8yzsw",
        "colab_type": "text"
      },
      "source": [
        "Optimal value for PCA is 24 features, as we can see in the graph above."
      ]
    },
    {
      "cell_type": "code",
      "metadata": {
        "id": "noLkPnCayzsz",
        "colab_type": "code",
        "colab": {},
        "outputId": "725c08a6-ea2d-4a75-f995-cec17f9b0196"
      },
      "source": [
        "pca = PCA(n_components=24)\n",
        "pca_train = pca.fit_transform(df_train)\n",
        "print(pca.explained_variance_ratio_)"
      ],
      "execution_count": 0,
      "outputs": [
        {
          "output_type": "stream",
          "text": [
            "[0.0289579  0.0223335  0.01973839 0.01649176 0.01473801 0.01351811\n",
            " 0.01336496 0.0130119  0.01288753 0.01253714 0.01236023 0.01217972\n",
            " 0.01216768 0.01214592 0.0121261  0.01206825 0.01205461 0.01198407\n",
            " 0.01187219 0.01168075 0.01165696 0.01150346 0.01082444 0.01072806]\n"
          ],
          "name": "stdout"
        }
      ]
    },
    {
      "cell_type": "markdown",
      "metadata": {
        "id": "xZSk0nQSyzs7",
        "colab_type": "text"
      },
      "source": [
        "We have now reduced the train dataset into 24 features using PCA."
      ]
    },
    {
      "cell_type": "code",
      "metadata": {
        "id": "NBrFil57yzs9",
        "colab_type": "code",
        "colab": {}
      },
      "source": [
        "from sklearn.model_selection import cross_val_score\n",
        "from sklearn.model_selection import train_test_split\n",
        "from warnings import simplefilter\n",
        "simplefilter(action='ignore', category=FutureWarning)\n",
        "from sklearn.metrics import accuracy_score"
      ],
      "execution_count": 0,
      "outputs": []
    },
    {
      "cell_type": "code",
      "metadata": {
        "id": "fTHo6hG_yztG",
        "colab_type": "code",
        "colab": {},
        "outputId": "5f675a4d-d8b0-49af-ca2d-81871bc460bf"
      },
      "source": [
        "from sklearn.tree import DecisionTreeClassifier\n",
        "DecTree1 = DecisionTreeClassifier(random_state=0)\n",
        "DecTree1.fit(pca_train,np.ravel(df_train_l))"
      ],
      "execution_count": 0,
      "outputs": [
        {
          "output_type": "execute_result",
          "data": {
            "text/plain": [
              "DecisionTreeClassifier(class_weight=None, criterion='gini', max_depth=None,\n",
              "                       max_features=None, max_leaf_nodes=None,\n",
              "                       min_impurity_decrease=0.0, min_impurity_split=None,\n",
              "                       min_samples_leaf=1, min_samples_split=2,\n",
              "                       min_weight_fraction_leaf=0.0, presort=False,\n",
              "                       random_state=0, splitter='best')"
            ]
          },
          "metadata": {
            "tags": []
          },
          "execution_count": 11
        }
      ]
    },
    {
      "cell_type": "code",
      "metadata": {
        "id": "N0OEN9wlyztT",
        "colab_type": "code",
        "colab": {},
        "outputId": "b8872b17-305c-479f-e992-4479b9b2f4e2"
      },
      "source": [
        "train_score = DecTree1.score(pca_train,np.ravel(df_train_l))\n",
        "print(train_score*100)"
      ],
      "execution_count": 0,
      "outputs": [
        {
          "output_type": "stream",
          "text": [
            "99.99614663344208\n"
          ],
          "name": "stdout"
        }
      ]
    },
    {
      "cell_type": "markdown",
      "metadata": {
        "id": "cYho01Feyztb",
        "colab_type": "text"
      },
      "source": [
        "The accuracy for training data after PCA for Decision Tree is around 99.99%"
      ]
    },
    {
      "cell_type": "code",
      "metadata": {
        "id": "KzpUMjy8yzte",
        "colab_type": "code",
        "colab": {},
        "outputId": "83f012bf-a44c-482a-9b15-7a3940865177"
      },
      "source": [
        "pca_valid = pca.transform(df_valid)\n",
        "valid_score = DecTree1.score(pca_valid,np.ravel(df_valid_l))\n",
        "print(valid_score*100)"
      ],
      "execution_count": 0,
      "outputs": [
        {
          "output_type": "stream",
          "text": [
            "44.340103370459346\n"
          ],
          "name": "stdout"
        }
      ]
    },
    {
      "cell_type": "markdown",
      "metadata": {
        "id": "lmRcmP6Kyzto",
        "colab_type": "text"
      },
      "source": [
        "The accuracy for validation data after PCA for Decision Tree is around 44.34%<br>\n",
        "High training score but low validation score is an indication of overfitting, so we now look at hyperparameters.<br>"
      ]
    },
    {
      "cell_type": "code",
      "metadata": {
        "id": "V9DABUkgyztq",
        "colab_type": "code",
        "colab": {},
        "outputId": "8577ab30-b672-4612-b437-cdca5aefd028"
      },
      "source": [
        "from pprint import pprint\n",
        "pprint(DecTree1.get_params())"
      ],
      "execution_count": 0,
      "outputs": [
        {
          "output_type": "stream",
          "text": [
            "{'class_weight': None,\n",
            " 'criterion': 'gini',\n",
            " 'max_depth': None,\n",
            " 'max_features': None,\n",
            " 'max_leaf_nodes': None,\n",
            " 'min_impurity_decrease': 0.0,\n",
            " 'min_impurity_split': None,\n",
            " 'min_samples_leaf': 1,\n",
            " 'min_samples_split': 2,\n",
            " 'min_weight_fraction_leaf': 0.0,\n",
            " 'presort': False,\n",
            " 'random_state': 0,\n",
            " 'splitter': 'best'}\n"
          ],
          "name": "stdout"
        }
      ]
    },
    {
      "cell_type": "markdown",
      "metadata": {
        "id": "NunMgut6yzt2",
        "colab_type": "text"
      },
      "source": [
        "Above are the parameters being used in Decision tree classifier.<br>"
      ]
    },
    {
      "cell_type": "code",
      "metadata": {
        "id": "2oK6WadYyzt4",
        "colab_type": "code",
        "colab": {},
        "outputId": "c9822a7d-79f4-4e10-e6b4-1e00a4a7233a"
      },
      "source": [
        "from sklearn.model_selection import RandomizedSearchCV\n",
        "\n",
        "max_features = ['auto', 'sqrt']\n",
        "max_depth = [10,20,30,40,50]\n",
        "max_depth.append(None)\n",
        "min_samples_split = [2, 6, 10]\n",
        "min_samples_leaf = [1, 2, 4]\n",
        "\n",
        "random_grid = {'max_features': max_features,\n",
        "               'max_depth': max_depth,\n",
        "               'min_samples_split': min_samples_split,\n",
        "               'min_samples_leaf': min_samples_leaf}\n",
        "pprint(random_grid)"
      ],
      "execution_count": 0,
      "outputs": [
        {
          "output_type": "stream",
          "text": [
            "{'max_depth': [10, 20, 30, 40, 50, None],\n",
            " 'max_features': ['auto', 'sqrt'],\n",
            " 'min_samples_leaf': [1, 2, 4],\n",
            " 'min_samples_split': [2, 6, 10]}\n"
          ],
          "name": "stdout"
        }
      ]
    },
    {
      "cell_type": "markdown",
      "metadata": {
        "id": "o5xLYGgjyzuB",
        "colab_type": "text"
      },
      "source": [
        "Now, we take a set of values for each parameter and pass them through RandomizedCV for 25 iterations.<br>\n",
        "This should give us a good range of better parameters.<br>"
      ]
    },
    {
      "cell_type": "code",
      "metadata": {
        "id": "7FPuKbqtyzuD",
        "colab_type": "code",
        "colab": {}
      },
      "source": [
        "from sklearn.model_selection import PredefinedSplit\n",
        "train_len = len(pca_train)\n",
        "valid_len = len(pca_valid)\n",
        "pca_tv = np.concatenate((pca_train,pca_valid), axis=0)\n",
        "df_tv_l = pd.concat([df_train_l, df_valid_l], ignore_index = True)\n",
        "bound = np.array([(i < train_len) * -1 for i in range(train_len + valid_len)])\n",
        "split = PredefinedSplit(bound)"
      ],
      "execution_count": 0,
      "outputs": []
    },
    {
      "cell_type": "markdown",
      "metadata": {
        "id": "HvtmBYB4yzuL",
        "colab_type": "text"
      },
      "source": [
        "In the RandomizedCV model, we define a custom split for validation.<br>\n",
        "Our validation data is being used as the cross-validation split for RandomizedCV.<br>"
      ]
    },
    {
      "cell_type": "code",
      "metadata": {
        "id": "MIth-SU7yzuP",
        "colab_type": "code",
        "colab": {},
        "outputId": "40c58d70-230c-4ae9-e4b2-4d977f698676"
      },
      "source": [
        "DecTree2 = DecisionTreeClassifier()\n",
        "DecTree_random = RandomizedSearchCV(estimator = DecTree2, param_distributions = random_grid, n_iter = 100, n_jobs = 2, verbose = 1, cv = split)\n",
        "\n",
        "DecTree_random.fit(pca_tv,np.ravel(df_tv_l))\n",
        "\n",
        "DecTree_random.best_params_"
      ],
      "execution_count": 0,
      "outputs": [
        {
          "output_type": "stream",
          "text": [
            "Fitting 1 folds for each of 100 candidates, totalling 100 fits\n"
          ],
          "name": "stdout"
        },
        {
          "output_type": "stream",
          "text": [
            "[Parallel(n_jobs=2)]: Using backend LokyBackend with 2 concurrent workers.\n",
            "[Parallel(n_jobs=2)]: Done  46 tasks      | elapsed:   57.5s\n",
            "[Parallel(n_jobs=2)]: Done 100 out of 100 | elapsed:  1.8min finished\n"
          ],
          "name": "stderr"
        },
        {
          "output_type": "execute_result",
          "data": {
            "text/plain": [
              "{'min_samples_split': 6,\n",
              " 'min_samples_leaf': 1,\n",
              " 'max_features': 'auto',\n",
              " 'max_depth': 10}"
            ]
          },
          "metadata": {
            "tags": []
          },
          "execution_count": 18
        }
      ]
    },
    {
      "cell_type": "markdown",
      "metadata": {
        "id": "mJDvylL_yzub",
        "colab_type": "text"
      },
      "source": [
        "Out of the randomly given parameter values, above values give the best score."
      ]
    },
    {
      "cell_type": "code",
      "metadata": {
        "id": "S2m_J3WYyzue",
        "colab_type": "code",
        "colab": {},
        "outputId": "9484c0b4-9a28-484e-b502-26718dc930cf"
      },
      "source": [
        "DecTree3 = DecisionTreeClassifier(class_weight='balanced',\n",
        " min_samples_split=6,\n",
        " min_samples_leaf=1,\n",
        " max_features='auto',\n",
        " max_depth=10)\n",
        "DecTree3.fit(pca_train,np.ravel(df_train_l))\n",
        "Train_score = DecTree3.score(pca_train,np.ravel(df_train_l))\n",
        "print(Train_score*100)"
      ],
      "execution_count": 0,
      "outputs": [
        {
          "output_type": "stream",
          "text": [
            "40.76219590515581\n"
          ],
          "name": "stdout"
        }
      ]
    },
    {
      "cell_type": "code",
      "metadata": {
        "id": "N3Sz64INyzuq",
        "colab_type": "code",
        "colab": {},
        "outputId": "be6c740f-4670-4e9d-e767-026663833543"
      },
      "source": [
        "Valid_score = DecTree3.score(pca_valid,np.ravel(df_valid_l))\n",
        "print(Valid_score*100)"
      ],
      "execution_count": 0,
      "outputs": [
        {
          "output_type": "stream",
          "text": [
            "34.694620368348254\n"
          ],
          "name": "stdout"
        }
      ]
    },
    {
      "cell_type": "markdown",
      "metadata": {
        "id": "TMUiqOjgyzu6",
        "colab_type": "text"
      },
      "source": [
        "This score of RandomizedSearchCV can be improved by GridSearchCV. We perform GridSearchCV on a range of parameters around the above obtained best parameters."
      ]
    },
    {
      "cell_type": "code",
      "metadata": {
        "id": "5OzB8x0ryzu-",
        "colab_type": "code",
        "colab": {},
        "outputId": "efdd0b99-427a-45c3-ca4c-defd44f3dd05"
      },
      "source": [
        "from sklearn.model_selection import GridSearchCV\n",
        "\n",
        "max_features = ['auto']\n",
        "max_depth = [10,15,20]\n",
        "max_depth.append(None)\n",
        "min_samples_split = [4,5,6]\n",
        "min_samples_leaf = [2, 3]\n",
        "\n",
        "search_grid = {'max_features': max_features,\n",
        "               'max_depth': max_depth,\n",
        "               'min_samples_split': min_samples_split,\n",
        "               'min_samples_leaf': min_samples_leaf}\n",
        "\n",
        "pprint(search_grid)"
      ],
      "execution_count": 0,
      "outputs": [
        {
          "output_type": "stream",
          "text": [
            "{'max_depth': [10, 15, 20, None],\n",
            " 'max_features': ['auto'],\n",
            " 'min_samples_leaf': [2, 3],\n",
            " 'min_samples_split': [4, 5, 6]}\n"
          ],
          "name": "stdout"
        }
      ]
    },
    {
      "cell_type": "code",
      "metadata": {
        "id": "zh2eb5YqyzvI",
        "colab_type": "code",
        "colab": {},
        "outputId": "bdb57765-f29b-456a-c7ed-bad54f577c90"
      },
      "source": [
        "DecTree4 = DecisionTreeClassifier()\n",
        "DecTree_grid = GridSearchCV(estimator = DecTree4, param_grid = search_grid, n_jobs = 2, verbose = 1, cv = split)\n",
        "DecTree_grid.fit(pca_tv, np.ravel(df_tv_l))\n",
        "\n",
        "DecTree_grid.best_params_"
      ],
      "execution_count": 0,
      "outputs": [
        {
          "output_type": "stream",
          "text": [
            "Fitting 1 folds for each of 24 candidates, totalling 24 fits\n"
          ],
          "name": "stdout"
        },
        {
          "output_type": "stream",
          "text": [
            "[Parallel(n_jobs=2)]: Using backend LokyBackend with 2 concurrent workers.\n",
            "[Parallel(n_jobs=2)]: Done  24 out of  24 | elapsed:   36.3s finished\n"
          ],
          "name": "stderr"
        },
        {
          "output_type": "execute_result",
          "data": {
            "text/plain": [
              "{'max_depth': 10,\n",
              " 'max_features': 'auto',\n",
              " 'min_samples_leaf': 3,\n",
              " 'min_samples_split': 6}"
            ]
          },
          "metadata": {
            "tags": []
          },
          "execution_count": 44
        }
      ]
    },
    {
      "cell_type": "markdown",
      "metadata": {
        "id": "KVMRQtqeyzvT",
        "colab_type": "text"
      },
      "source": [
        "Now, we find the final scores of the model by training it with the best parameters obtained above."
      ]
    },
    {
      "cell_type": "code",
      "metadata": {
        "id": "rYFW8ZNiyzvW",
        "colab_type": "code",
        "colab": {},
        "outputId": "6efcb18e-e8e3-452a-885c-dcaa12fc30a4"
      },
      "source": [
        "DecTree_final = DecisionTreeClassifier(max_depth=10, max_features='auto', min_samples_leaf=2, min_samples_split=3)\n",
        "DecTree_final.fit(pca_train, np.ravel(df_train_l))\n",
        "Train_score = DecTree_final.score(pca_train, np.ravel(df_train_l))\n",
        "print('Final Train score: ',Train_score*100)"
      ],
      "execution_count": 0,
      "outputs": [
        {
          "output_type": "stream",
          "text": [
            "Final Train score:  56.70871117733193\n"
          ],
          "name": "stdout"
        }
      ]
    },
    {
      "cell_type": "code",
      "metadata": {
        "id": "kOuc8lVbyzve",
        "colab_type": "code",
        "colab": {},
        "outputId": "22de2691-2f25-41a7-ee4a-8ba5e604c910"
      },
      "source": [
        "Valid_score = DecTree_final.score(pca_valid,np.ravel(df_valid_l))\n",
        "print('Final Validation score: ',Valid_score*100)"
      ],
      "execution_count": 0,
      "outputs": [
        {
          "output_type": "stream",
          "text": [
            "Final Validation score:  53.54153017398268\n"
          ],
          "name": "stdout"
        }
      ]
    },
    {
      "cell_type": "code",
      "metadata": {
        "id": "sH74TZsSyzvj",
        "colab_type": "code",
        "colab": {},
        "outputId": "d441aace-2fba-41b7-8ecd-768994c5dea3"
      },
      "source": [
        "pca_test = pca.transform(df_test)\n",
        "Test_score = DecTree_final.score(pca_test,np.ravel(df_test_l))\n",
        "print('Final Test Score: ', Test_score*100)"
      ],
      "execution_count": 0,
      "outputs": [
        {
          "output_type": "stream",
          "text": [
            "Final Test Score:  53.356265356265354\n"
          ],
          "name": "stdout"
        }
      ]
    },
    {
      "cell_type": "code",
      "metadata": {
        "id": "Kg2X5F4CyzwI",
        "colab_type": "code",
        "colab": {},
        "outputId": "cf33a1cb-e127-4fa9-8a84-7b5df205beea"
      },
      "source": [
        "scores = [Train_score, Valid_score, Test_score]\n",
        "labels = ['train','validation','test']\n",
        "plt.title(\"Accuracy for Decision Tree PCA\")\n",
        "plt.plot(labels, scores, marker='o', color = \"g\", label = \"Final model scores\")\n",
        "plt.show()"
      ],
      "execution_count": 0,
      "outputs": [
        {
          "output_type": "display_data",
          "data": {
            "image/png": "[encoded data removed]",
            "text/plain": [
              "<Figure size 432x288 with 1 Axes>"
            ]
          },
          "metadata": {
            "tags": [],
            "needs_background": "light"
          }
        }
      ]
    }
  ]
}